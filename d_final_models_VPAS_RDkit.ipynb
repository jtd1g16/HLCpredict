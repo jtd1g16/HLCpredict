{
 "cells": [
  {
   "cell_type": "markdown",
   "metadata": {},
   "source": [
    "# Initialisations"
   ]
  },
  {
   "cell_type": "code",
   "execution_count": 2,
   "metadata": {
    "ExecuteTime": {
     "end_time": "2020-01-17T13:23:37.612946Z",
     "start_time": "2020-01-17T13:23:34.306162Z"
    }
   },
   "outputs": [],
   "source": [
    "import pandas as pd ; pd.set_option('display.max_columns', 500) # dataframes\n",
    "import numpy as np # mathsy bits\n",
    "import ipywidgets as widgets # widgets\n",
    "\n",
    "from sklearn.model_selection import train_test_split #split data into train and test sets\n",
    "\n",
    "# feature selection + gridsearch\n",
    "from sklearn.feature_selection import SelectFromModel, SelectKBest\n",
    "from sklearn.feature_selection import f_regression, mutual_info_regression\n",
    "from sklearn.model_selection import GridSearchCV\n",
    "\n",
    "# models\n",
    "from sklearn.linear_model import Lars, ElasticNet, Lasso\n",
    "from sklearn.tree import DecisionTreeRegressor\n",
    "from sklearn.ensemble import RandomForestRegressor, ExtraTreesRegressor\n",
    "from sklearn.ensemble import AdaBoostRegressor, GradientBoostingRegressor\n",
    "\n",
    "import joblib # saving models\n",
    "from datetime import datetime # get time for labelling saved models\n",
    "\n",
    "# visualization\n",
    "import matplotlib.pyplot as plt\n",
    "%matplotlib inline\n",
    "\n",
    "import mpld3 # hover-over labels for plots\n",
    "mpld3.disable_notebook()\n",
    "\n",
    "train_scores = dict() ; test_scores  = dict() #to hold scores for viewing at the end"
   ]
  },
  {
   "cell_type": "code",
   "execution_count": 22,
   "metadata": {
    "ExecuteTime": {
     "end_time": "2020-01-17T13:30:15.556493Z",
     "start_time": "2020-01-17T13:30:15.536439Z"
    }
   },
   "outputs": [],
   "source": [
    "def grid_search_return_hp_dict(model, X_train_gs, y_train_gs, param_grid):\n",
    "    \"\"\"Run GridSearchCV on given model with defined param_grid, return best params as dict.\n",
    "    Pre-assign sklearn model to variable. Pass param_grid as dict.\"\"\"\n",
    "    print(str(model).split(sep='(')[0], \"grid search.\")\n",
    "    GS = GridSearchCV(model, param_grid, n_jobs=2)\n",
    "    GS.fit(X_train_gs, y_train_gs)\n",
    "    print(GS.best_params_)\n",
    "    return(GS.best_params_)\n",
    "\n",
    "def produce_exp_vs_pred_df(features_list, model, codename):\n",
    "    \"\"\"Pass features_list as a string\"\"\"\n",
    "    pred_list = []\n",
    "    for i in range(0, len(rdkit_features)):\n",
    "        prediction = model.predict([rdkit_features[eval(features_list)].iloc[i]])\n",
    "        pred_list.append(prediction)\n",
    "    train_scores.update({codename : model.score(X_train, y_train)})\n",
    "    test_scores.update({codename : model.score(X_test, y_test)})\n",
    "    \n",
    "    print('Training Score:\\t', model.score(X_train, y_train))\n",
    "    print('Testing Score:\\t', model.score(X_test, y_test))\n",
    "    \n",
    "    exp_vs_calc = pd.DataFrame(constants_first)\n",
    "    exp_vs_calc['Predicted'] = pred_list\n",
    "    exp_vs_calc.rename({'Kh_first':'Experimental'}, inplace=True, axis=1)\n",
    "    \n",
    "    now = datetime.now()\n",
    "\n",
    "    dt_string = now.strftime(\"_%d_%m_%Y_%H_%M_%S\")\n",
    "    filename = \"models/RDKit_VPAS/\" + str(model).split(sep='(')[0] + \"_\" + features_list[16:] + dt_string + \".joblib\"\n",
    "    print(str(model).split(sep='(')[0], \"run at:\", now, \". Saving to\", filename)\n",
    "    \n",
    "    joblib.dump(model, filename)\n",
    "    return exp_vs_calc\n",
    "\n",
    "def prediction_plot_scores(model_func, pred_df):\n",
    "    \"\"\"Print train+test scores, then plot scatter of predicted vs actual HLCs. Uses {X/y}_{train/test},\n",
    "    redefining these variables will change the output.\"\"\"\n",
    "    #print('Training Score:\\t', model_func.score(X_train, y_train))\n",
    "    #print('Testing Score:\\t', model_func.score(X_test, y_test))\n",
    "    fig = plt.figure(figsize=(10, 10))\n",
    "    scatter = plt.scatter(pred_df['Experimental'], pred_df['Predicted'])\n",
    "    plt.xlabel('Experimental')\n",
    "    plt.ylabel('Predicted')\n",
    "    plt.title('%s predictions of HLCs' %str(model_func).split(sep='(')[0])\n",
    "    labels = ['{}'.format(i) for i in species_names]\n",
    "    tooltip = mpld3.plugins.PointLabelTooltip(scatter, labels=labels)\n",
    "    mpld3.plugins.connect(fig, tooltip)\n",
    "    plt.plot([-30, 10], [-30, 10], c='red')\n",
    "    plt.show()"
   ]
  },
  {
   "cell_type": "markdown",
   "metadata": {},
   "source": [
    "# DRAGON descriptors\n",
    "## Bringing in data and splitting it into parts"
   ]
  },
  {
   "cell_type": "code",
   "execution_count": 6,
   "metadata": {
    "ExecuteTime": {
     "end_time": "2020-01-17T13:23:57.469717Z",
     "start_time": "2020-01-17T13:23:57.400534Z"
    }
   },
   "outputs": [
    {
     "name": "stdout",
     "output_type": "stream",
     "text": [
      "Input Shape (4020, 27)\n",
      "Removed NaN, new shape (4013, 27)\n"
     ]
    }
   ],
   "source": [
    "csv = pd.read_csv('organics_RDKit.csv') # contains VP/AS HLCs\n",
    "\n",
    "print(\"Input Shape\", csv.shape) #input shape\n",
    "\n",
    "csv.dropna(axis=0, inplace=True)\n",
    "\n",
    "print(\"Removed NaN, new shape\", csv.shape) #removed NaN shape\n",
    "\n",
    "smiles_strings = csv.pop('SMILES')\n",
    "species_names = csv.pop('Species')\n",
    "constants_first = csv.pop('Constant')\n",
    "\n",
    "\n",
    "rdkit_features = csv.drop(['SMARTS', 'CAS'], axis=1) #seperating features\n",
    "\n",
    "X_train_main, X_test_main, y_train, y_test = train_test_split(rdkit_features, constants_first, test_size=0.3)"
   ]
  },
  {
   "cell_type": "code",
   "execution_count": 7,
   "metadata": {
    "ExecuteTime": {
     "end_time": "2020-01-17T13:25:17.267782Z",
     "start_time": "2020-01-17T13:25:17.232689Z"
    }
   },
   "outputs": [
    {
     "data": {
      "text/html": [
       "<div>\n",
       "<style scoped>\n",
       "    .dataframe tbody tr th:only-of-type {\n",
       "        vertical-align: middle;\n",
       "    }\n",
       "\n",
       "    .dataframe tbody tr th {\n",
       "        vertical-align: top;\n",
       "    }\n",
       "\n",
       "    .dataframe thead th {\n",
       "        text-align: right;\n",
       "    }\n",
       "</style>\n",
       "<table border=\"1\" class=\"dataframe\">\n",
       "  <thead>\n",
       "    <tr style=\"text-align: right;\">\n",
       "      <th></th>\n",
       "      <th>wt</th>\n",
       "      <th>logp</th>\n",
       "      <th>fraction_sp3</th>\n",
       "      <th>ali_homo_rings</th>\n",
       "      <th>ali_hetero_rings</th>\n",
       "      <th>amide_bonds</th>\n",
       "      <th>aro_homo_rings</th>\n",
       "      <th>aro_hetero_rings</th>\n",
       "      <th>hba</th>\n",
       "      <th>hbd</th>\n",
       "      <th>volume</th>\n",
       "      <th>tpsa</th>\n",
       "      <th>asph</th>\n",
       "      <th>ecce</th>\n",
       "      <th>isf</th>\n",
       "      <th>npr1</th>\n",
       "      <th>npr2</th>\n",
       "      <th>pmi1</th>\n",
       "      <th>pmi2</th>\n",
       "      <th>pmi3</th>\n",
       "      <th>rog</th>\n",
       "      <th>si</th>\n",
       "    </tr>\n",
       "  </thead>\n",
       "  <tbody>\n",
       "    <tr>\n",
       "      <th>2756</th>\n",
       "      <td>248.000700</td>\n",
       "      <td>3.2370</td>\n",
       "      <td>0.300000</td>\n",
       "      <td>0</td>\n",
       "      <td>0</td>\n",
       "      <td>0</td>\n",
       "      <td>1</td>\n",
       "      <td>0</td>\n",
       "      <td>3</td>\n",
       "      <td>1</td>\n",
       "      <td>240.608</td>\n",
       "      <td>46.53</td>\n",
       "      <td>0.487798</td>\n",
       "      <td>0.976286</td>\n",
       "      <td>0.001542</td>\n",
       "      <td>0.216484</td>\n",
       "      <td>0.909603</td>\n",
       "      <td>589.795173</td>\n",
       "      <td>2478.152795</td>\n",
       "      <td>2724.433466</td>\n",
       "      <td>3.409831</td>\n",
       "      <td>2.580028e-01</td>\n",
       "    </tr>\n",
       "    <tr>\n",
       "      <th>1709</th>\n",
       "      <td>138.079313</td>\n",
       "      <td>0.8596</td>\n",
       "      <td>0.142857</td>\n",
       "      <td>0</td>\n",
       "      <td>0</td>\n",
       "      <td>0</td>\n",
       "      <td>1</td>\n",
       "      <td>0</td>\n",
       "      <td>3</td>\n",
       "      <td>2</td>\n",
       "      <td>158.896</td>\n",
       "      <td>61.27</td>\n",
       "      <td>0.273154</td>\n",
       "      <td>0.915096</td>\n",
       "      <td>0.002190</td>\n",
       "      <td>0.403235</td>\n",
       "      <td>0.607198</td>\n",
       "      <td>277.212404</td>\n",
       "      <td>417.431304</td>\n",
       "      <td>687.471164</td>\n",
       "      <td>2.236404</td>\n",
       "      <td>7.030994e-02</td>\n",
       "    </tr>\n",
       "    <tr>\n",
       "      <th>2117</th>\n",
       "      <td>247.063329</td>\n",
       "      <td>4.4922</td>\n",
       "      <td>0.000000</td>\n",
       "      <td>0</td>\n",
       "      <td>0</td>\n",
       "      <td>0</td>\n",
       "      <td>4</td>\n",
       "      <td>0</td>\n",
       "      <td>2</td>\n",
       "      <td>0</td>\n",
       "      <td>250.480</td>\n",
       "      <td>43.14</td>\n",
       "      <td>0.412458</td>\n",
       "      <td>0.964075</td>\n",
       "      <td>0.001256</td>\n",
       "      <td>0.265630</td>\n",
       "      <td>0.746090</td>\n",
       "      <td>594.133388</td>\n",
       "      <td>1668.779150</td>\n",
       "      <td>2236.699126</td>\n",
       "      <td>3.016489</td>\n",
       "      <td>8.284874e-03</td>\n",
       "    </tr>\n",
       "    <tr>\n",
       "      <th>3411</th>\n",
       "      <td>623.762951</td>\n",
       "      <td>3.4399</td>\n",
       "      <td>0.466667</td>\n",
       "      <td>0</td>\n",
       "      <td>0</td>\n",
       "      <td>0</td>\n",
       "      <td>1</td>\n",
       "      <td>0</td>\n",
       "      <td>7</td>\n",
       "      <td>2</td>\n",
       "      <td>425.600</td>\n",
       "      <td>102.29</td>\n",
       "      <td>0.219924</td>\n",
       "      <td>0.897871</td>\n",
       "      <td>0.000141</td>\n",
       "      <td>0.440259</td>\n",
       "      <td>0.649133</td>\n",
       "      <td>4617.761483</td>\n",
       "      <td>6808.589966</td>\n",
       "      <td>10488.743030</td>\n",
       "      <td>4.177445</td>\n",
       "      <td>1.937191e-01</td>\n",
       "    </tr>\n",
       "    <tr>\n",
       "      <th>2974</th>\n",
       "      <td>387.818595</td>\n",
       "      <td>7.5050</td>\n",
       "      <td>0.000000</td>\n",
       "      <td>0</td>\n",
       "      <td>1</td>\n",
       "      <td>0</td>\n",
       "      <td>2</td>\n",
       "      <td>0</td>\n",
       "      <td>2</td>\n",
       "      <td>0</td>\n",
       "      <td>308.296</td>\n",
       "      <td>18.46</td>\n",
       "      <td>0.527459</td>\n",
       "      <td>0.980627</td>\n",
       "      <td>0.000646</td>\n",
       "      <td>0.195884</td>\n",
       "      <td>0.804116</td>\n",
       "      <td>1244.454303</td>\n",
       "      <td>5108.555795</td>\n",
       "      <td>6353.010098</td>\n",
       "      <td>4.031595</td>\n",
       "      <td>7.770000e-12</td>\n",
       "    </tr>\n",
       "  </tbody>\n",
       "</table>\n",
       "</div>"
      ],
      "text/plain": [
       "              wt    logp  fraction_sp3  ali_homo_rings  ali_hetero_rings  \\\n",
       "2756  248.000700  3.2370      0.300000               0                 0   \n",
       "1709  138.079313  0.8596      0.142857               0                 0   \n",
       "2117  247.063329  4.4922      0.000000               0                 0   \n",
       "3411  623.762951  3.4399      0.466667               0                 0   \n",
       "2974  387.818595  7.5050      0.000000               0                 1   \n",
       "\n",
       "      amide_bonds  aro_homo_rings  aro_hetero_rings  hba  hbd   volume  \\\n",
       "2756            0               1                 0    3    1  240.608   \n",
       "1709            0               1                 0    3    2  158.896   \n",
       "2117            0               4                 0    2    0  250.480   \n",
       "3411            0               1                 0    7    2  425.600   \n",
       "2974            0               2                 0    2    0  308.296   \n",
       "\n",
       "        tpsa      asph      ecce       isf      npr1      npr2         pmi1  \\\n",
       "2756   46.53  0.487798  0.976286  0.001542  0.216484  0.909603   589.795173   \n",
       "1709   61.27  0.273154  0.915096  0.002190  0.403235  0.607198   277.212404   \n",
       "2117   43.14  0.412458  0.964075  0.001256  0.265630  0.746090   594.133388   \n",
       "3411  102.29  0.219924  0.897871  0.000141  0.440259  0.649133  4617.761483   \n",
       "2974   18.46  0.527459  0.980627  0.000646  0.195884  0.804116  1244.454303   \n",
       "\n",
       "             pmi2          pmi3       rog            si  \n",
       "2756  2478.152795   2724.433466  3.409831  2.580028e-01  \n",
       "1709   417.431304    687.471164  2.236404  7.030994e-02  \n",
       "2117  1668.779150   2236.699126  3.016489  8.284874e-03  \n",
       "3411  6808.589966  10488.743030  4.177445  1.937191e-01  \n",
       "2974  5108.555795   6353.010098  4.031595  7.770000e-12  "
      ]
     },
     "execution_count": 7,
     "metadata": {},
     "output_type": "execute_result"
    }
   ],
   "source": [
    "X_test_main.head()"
   ]
  },
  {
   "cell_type": "markdown",
   "metadata": {},
   "source": [
    "## Feature Selection\n",
    "Made aware of features selection methods in scikitlearn via https://towardsdatascience.com/feature-selection-techniques-in-machine-learning-with-python-f24e7da3f36e\n",
    "\n",
    "See also [scikit-learn docs](https://scikit-learn.org/stable/modules/feature_selection.html)\n",
    "### Importances via 'dummy' GradientBoostingRegressor"
   ]
  },
  {
   "cell_type": "code",
   "execution_count": 24,
   "metadata": {
    "ExecuteTime": {
     "end_time": "2020-01-17T13:31:09.072713Z",
     "start_time": "2020-01-17T13:31:08.591436Z"
    }
   },
   "outputs": [],
   "source": [
    "fs_model = GradientBoostingRegressor()\n",
    "fs_model.fit(X_train_main, y_train)\n",
    "importances = pd.Series(fs_model.feature_importances_, index = X_train_main.columns)\n",
    "top_15_features_model = list(importances.nlargest(8).index.values)"
   ]
  },
  {
   "cell_type": "code",
   "execution_count": 25,
   "metadata": {
    "ExecuteTime": {
     "end_time": "2020-01-17T13:31:10.101448Z",
     "start_time": "2020-01-17T13:31:10.096435Z"
    }
   },
   "outputs": [
    {
     "data": {
      "text/plain": [
       "['volume', 'asph', 'npr1', 'fraction_sp3', 'wt', 'npr2', 'hbd', 'ecce']"
      ]
     },
     "execution_count": 25,
     "metadata": {},
     "output_type": "execute_result"
    }
   ],
   "source": [
    "top_15_features_model"
   ]
  },
  {
   "cell_type": "markdown",
   "metadata": {},
   "source": [
    "### Importances via 'dummy' LASSO model"
   ]
  },
  {
   "cell_type": "code",
   "execution_count": 26,
   "metadata": {
    "ExecuteTime": {
     "end_time": "2020-01-17T13:31:15.391506Z",
     "start_time": "2020-01-17T13:31:14.473066Z"
    }
   },
   "outputs": [
    {
     "name": "stderr",
     "output_type": "stream",
     "text": [
      "C:\\Users\\jtd1g16\\AppData\\Local\\Continuum\\anaconda3\\lib\\site-packages\\sklearn\\linear_model\\coordinate_descent.py:475: ConvergenceWarning: Objective did not converge. You might want to increase the number of iterations. Duality gap: 1.2632506705927678e+64, tolerance: 2.888971159359407e+60\n",
      "  positive)\n"
     ]
    }
   ],
   "source": [
    "dummy_lasso = Lasso(max_iter=10000, alpha=0.5)\n",
    "selector = SelectFromModel(dummy_lasso).fit(X_train_main, y_train)\n",
    "coefs = selector.estimator_.coef_\n",
    "importances_lasso = pd.Series(coefs, index = X_train_main.columns)\n",
    "top_15_features_lasso = list(importances_lasso.nlargest(8).index.values)"
   ]
  },
  {
   "cell_type": "markdown",
   "metadata": {},
   "source": [
    "### SelectKBest using f_regression scoring function\n",
    "F-test estimates degree of linear dependency"
   ]
  },
  {
   "cell_type": "code",
   "execution_count": 27,
   "metadata": {
    "ExecuteTime": {
     "end_time": "2020-01-17T13:31:19.576630Z",
     "start_time": "2020-01-17T13:31:19.565599Z"
    }
   },
   "outputs": [],
   "source": [
    "fs_kbest = SelectKBest(score_func= f_regression, k=15)\n",
    "fit = fs_kbest.fit(X_train_main, y_train)\n",
    "scores_f = pd.Series(fit.scores_, index=X_train_main.columns)\n",
    "top_15_features_kbest = list(scores_f.nlargest(8).index.values)"
   ]
  },
  {
   "cell_type": "markdown",
   "metadata": {},
   "source": [
    "### SelectKBest using mutual_info_regression\n",
    "Catch any statistical dependancy, but requires more samples than f_reg"
   ]
  },
  {
   "cell_type": "code",
   "execution_count": 28,
   "metadata": {
    "ExecuteTime": {
     "end_time": "2020-01-17T13:31:27.034447Z",
     "start_time": "2020-01-17T13:31:24.239020Z"
    }
   },
   "outputs": [],
   "source": [
    "fs_mut_info = SelectKBest(score_func= mutual_info_regression, k=15)\n",
    "fit = fs_mut_info.fit(X_train_main, y_train)\n",
    "scores_mutual = pd.Series(fit.scores_, index=X_train_main.columns)\n",
    "top_15_features_mutual_info = list(scores_mutual.nlargest(8).index.values)"
   ]
  },
  {
   "cell_type": "markdown",
   "metadata": {},
   "source": [
    "### Feature Selection results"
   ]
  },
  {
   "cell_type": "code",
   "execution_count": 30,
   "metadata": {
    "ExecuteTime": {
     "end_time": "2020-01-17T13:32:01.545162Z",
     "start_time": "2020-01-17T13:32:00.758071Z"
    }
   },
   "outputs": [
    {
     "data": {
      "image/png": "[encoded data removed]",
      "text/plain": [
       "<Figure size 1080x720 with 4 Axes>"
      ]
     },
     "metadata": {
      "needs_background": "light"
     },
     "output_type": "display_data"
    }
   ],
   "source": [
    "fig, imp_plot = plt.subplots(nrows=1, ncols=4, figsize=(15, 10))\n",
    "imp_plot[0].barh(importances.nlargest(8).index.values, importances.nlargest(8))\n",
    "imp_plot[0].set_title('Dummy Model')\n",
    "imp_plot[1].barh(scores_mutual.nlargest(8).index.values, scores_mutual.nlargest(8))\n",
    "imp_plot[1].set_title('Mutual Information')\n",
    "imp_plot[2].barh(scores_f.nlargest(8).index.values, scores_f.nlargest(8))\n",
    "imp_plot[2].set_title('F Regression')\n",
    "imp_plot[3].barh(importances_lasso.nlargest(8).index.values, importances_lasso.nlargest(8))\n",
    "imp_plot[3].set_title('LASSO')\n",
    "plt.show()"
   ]
  },
  {
   "cell_type": "markdown",
   "metadata": {},
   "source": [
    "## GradientBoosting\n",
    "### Model-chosen features"
   ]
  },
  {
   "cell_type": "code",
   "execution_count": 11,
   "metadata": {
    "ExecuteTime": {
     "end_time": "2020-01-16T12:29:32.771430Z",
     "start_time": "2020-01-16T12:29:32.765407Z"
    }
   },
   "outputs": [],
   "source": [
    "gbr_param_grid = {\n",
    "    'n_estimators': [500, 1000, 2000],\n",
    "    'max_depth': [2, 4, 6],\n",
    "    'min_samples_leaf': [3, 5, 9, 17],\n",
    "    'learning_rate': [0.1, 0.05, 0.02],\n",
    "    'max_features': [1.0, 0.3, 0.1],\n",
    "    'loss': ['ls', 'lad', 'huber']\n",
    "} #hyperparameters for each gbr grid search"
   ]
  },
  {
   "cell_type": "code",
   "execution_count": 31,
   "metadata": {
    "ExecuteTime": {
     "end_time": "2020-01-17T13:32:17.742207Z",
     "start_time": "2020-01-17T13:32:09.059129Z"
    },
    "scrolled": false
   },
   "outputs": [
    {
     "name": "stdout",
     "output_type": "stream",
     "text": [
      "Training Score:\t 0.9999999992944544\n",
      "Testing Score:\t -0.0008312552035061315\n",
      "GradientBoostingRegressor run at: 2020-01-17 13:32:17.722153 . Saving to models/RDKit_VPAS/GradientBoostingRegressor_model_17_01_2020_13_32_17.joblib\n"
     ]
    }
   ],
   "source": [
    "X_train, X_test = X_train_main[top_15_features_model], X_test_main[top_15_features_model]\n",
    "\n",
    "\n",
    "best_hp = grid_search_return_hp_dict(GradientBoostingRegressor(),\n",
    "                                     #X_train, y_train, gbr_param_grid)\n",
    "\n",
    "gbr_model = GradientBoostingRegressor()\n",
    "gbr_model.fit(X_train, y_train)\n",
    "\n",
    "exp_vs_calc_gbr_model = produce_exp_vs_pred_df('top_15_features_model', gbr_model,\n",
    "                                         \"GradBoost, model-chosen features\")"
   ]
  },
  {
   "cell_type": "markdown",
   "metadata": {},
   "source": [
    "### F-regression features"
   ]
  },
  {
   "cell_type": "code",
   "execution_count": 13,
   "metadata": {
    "ExecuteTime": {
     "end_time": "2020-01-16T14:33:39.603510Z",
     "start_time": "2020-01-16T13:31:54.739984Z"
    },
    "scrolled": false
   },
   "outputs": [
    {
     "name": "stdout",
     "output_type": "stream",
     "text": [
      "GradientBoostingRegressor grid search.\n"
     ]
    },
    {
     "name": "stderr",
     "output_type": "stream",
     "text": [
      "C:\\Users\\jtd1g16\\AppData\\Local\\Continuum\\anaconda3\\lib\\site-packages\\sklearn\\model_selection\\_split.py:1978: FutureWarning: The default value of cv will change from 3 to 5 in version 0.22. Specify it explicitly to silence this warning.\n",
      "  warnings.warn(CV_WARNING, FutureWarning)\n"
     ]
    },
    {
     "name": "stdout",
     "output_type": "stream",
     "text": [
      "{'learning_rate': 0.05, 'loss': 'lad', 'max_depth': 6, 'max_features': 0.1, 'min_samples_leaf': 3, 'n_estimators': 500}\n",
      "Training Score:\t 0.9317395172085381\n",
      "Testing Score:\t 0.8411981283092483\n",
      "GradientBoostingRegressor run at: 2020-01-16 14:33:39.559393 . Saving to models/DRAGON_noVPAS/GradientBoostingRegressor_kbest_16_01_2020_14_33_39.joblib\n"
     ]
    }
   ],
   "source": [
    "X_train, X_test = X_train_main[top_15_features_kbest], X_test_main[top_15_features_kbest]\n",
    "\n",
    "best_hp = grid_search_return_hp_dict(GradientBoostingRegressor(),\n",
    "                                     X_train, y_train, gbr_param_grid)\n",
    "\n",
    "gbr_freg = GradientBoostingRegressor(**best_hp)\n",
    "gbr_freg.fit(X_train, y_train)\n",
    "\n",
    "exp_vs_calc_gbr_freg = produce_exp_vs_pred_df('top_15_features_kbest', gbr_freg,\n",
    "                                                    \"GradBoost, f_reg features\")"
   ]
  },
  {
   "cell_type": "markdown",
   "metadata": {},
   "source": [
    "### Mutual info features"
   ]
  },
  {
   "cell_type": "code",
   "execution_count": 14,
   "metadata": {
    "ExecuteTime": {
     "end_time": "2020-01-16T15:38:51.251936Z",
     "start_time": "2020-01-16T14:33:39.607527Z"
    }
   },
   "outputs": [
    {
     "name": "stdout",
     "output_type": "stream",
     "text": [
      "GradientBoostingRegressor grid search.\n"
     ]
    },
    {
     "name": "stderr",
     "output_type": "stream",
     "text": [
      "C:\\Users\\jtd1g16\\AppData\\Local\\Continuum\\anaconda3\\lib\\site-packages\\sklearn\\model_selection\\_split.py:1978: FutureWarning: The default value of cv will change from 3 to 5 in version 0.22. Specify it explicitly to silence this warning.\n",
      "  warnings.warn(CV_WARNING, FutureWarning)\n"
     ]
    },
    {
     "name": "stdout",
     "output_type": "stream",
     "text": [
      "{'learning_rate': 0.05, 'loss': 'lad', 'max_depth': 6, 'max_features': 0.3, 'min_samples_leaf': 3, 'n_estimators': 2000}\n",
      "Training Score:\t 0.9379608336062498\n",
      "Testing Score:\t 0.8544833146624162\n",
      "GradientBoostingRegressor run at: 2020-01-16 15:38:51.112718 . Saving to models/DRAGON_noVPAS/GradientBoostingRegressor_mutual_info_16_01_2020_15_38_51.joblib\n"
     ]
    }
   ],
   "source": [
    "X_train, X_test = X_train_main[top_15_features_mutual_info], X_test_main[top_15_features_mutual_info]\n",
    "\n",
    "\n",
    "best_hp = grid_search_return_hp_dict(GradientBoostingRegressor(),\n",
    "                                     X_train, y_train, gbr_param_grid)\n",
    "\n",
    "gbr_mu = GradientBoostingRegressor(**best_hp)\n",
    "gbr_mu.fit(X_train, y_train)\n",
    "\n",
    "exp_vs_calc_gbr_mu = produce_exp_vs_pred_df('top_15_features_mutual_info', gbr_mu,\n",
    "                                            \"GradBoost, Mutual Info\")"
   ]
  },
  {
   "cell_type": "markdown",
   "metadata": {},
   "source": [
    "### LASSO features"
   ]
  },
  {
   "cell_type": "code",
   "execution_count": 15,
   "metadata": {
    "ExecuteTime": {
     "end_time": "2020-01-16T16:37:07.166038Z",
     "start_time": "2020-01-16T15:38:51.256449Z"
    }
   },
   "outputs": [
    {
     "name": "stdout",
     "output_type": "stream",
     "text": [
      "GradientBoostingRegressor grid search.\n"
     ]
    },
    {
     "name": "stderr",
     "output_type": "stream",
     "text": [
      "C:\\Users\\jtd1g16\\AppData\\Local\\Continuum\\anaconda3\\lib\\site-packages\\sklearn\\model_selection\\_split.py:1978: FutureWarning: The default value of cv will change from 3 to 5 in version 0.22. Specify it explicitly to silence this warning.\n",
      "  warnings.warn(CV_WARNING, FutureWarning)\n"
     ]
    },
    {
     "name": "stdout",
     "output_type": "stream",
     "text": [
      "{'learning_rate': 0.02, 'loss': 'ls', 'max_depth': 6, 'max_features': 0.3, 'min_samples_leaf': 3, 'n_estimators': 2000}\n",
      "Training Score:\t 0.996589735091017\n",
      "Testing Score:\t 0.8161460167193553\n",
      "GradientBoostingRegressor run at: 2020-01-16 16:37:06.990069 . Saving to models/DRAGON_noVPAS/GradientBoostingRegressor_lasso_16_01_2020_16_37_06.joblib\n"
     ]
    }
   ],
   "source": [
    "X_train, X_test = X_train_main[top_15_features_lasso], X_test_main[top_15_features_lasso]\n",
    "\n",
    "best_hp = grid_search_return_hp_dict(GradientBoostingRegressor(), \n",
    "                                     X_train, y_train, gbr_param_grid)\n",
    "\n",
    "gbr_lasso = GradientBoostingRegressor(**best_hp)\n",
    "gbr_lasso.fit(X_train, y_train)\n",
    "exp_vs_calc_gbr_lasso = produce_exp_vs_pred_df('top_15_features_lasso', gbr_lasso,\n",
    "                                               \"LASSO-features, GBR model\")"
   ]
  },
  {
   "cell_type": "markdown",
   "metadata": {},
   "source": [
    "## Decision Tree\n",
    "### Model-Chosen Features"
   ]
  },
  {
   "cell_type": "code",
   "execution_count": 16,
   "metadata": {
    "ExecuteTime": {
     "end_time": "2020-01-16T16:37:07.180076Z",
     "start_time": "2020-01-16T16:37:07.172555Z"
    }
   },
   "outputs": [],
   "source": [
    "dtr_param_grid = {\n",
    "    'criterion': ['mse', 'friedman_mse', 'mae'], #function measuring quality of a split\n",
    "    'max_depth': [5, 10, 20] , # max depth of tree\n",
    "    'max_features': [5, 10, 15], # N features to be considered when looking for split\n",
    "    'max_leaf_nodes': [None, 10, 15, 20, 30], #grows tree with N nodes in best-first fashion\n",
    "    'min_impurity_decrease': [0.0, 0.1],\n",
    "    'min_samples_leaf': [1, 2, 3], \n",
    "    'min_samples_split': [1.0, 2, 3],\n",
    "    'min_weight_fraction_leaf': [0.0, 0.1, 0.5] , \n",
    "    'splitter': ['best', 'random']\n",
    "} #hyperparameters for dtr gridsearch"
   ]
  },
  {
   "cell_type": "code",
   "execution_count": 17,
   "metadata": {
    "ExecuteTime": {
     "end_time": "2020-01-16T16:40:54.361628Z",
     "start_time": "2020-01-16T16:37:07.182580Z"
    }
   },
   "outputs": [
    {
     "name": "stdout",
     "output_type": "stream",
     "text": [
      "DecisionTreeRegressor grid search.\n"
     ]
    },
    {
     "name": "stderr",
     "output_type": "stream",
     "text": [
      "C:\\Users\\jtd1g16\\AppData\\Local\\Continuum\\anaconda3\\lib\\site-packages\\sklearn\\model_selection\\_split.py:1978: FutureWarning: The default value of cv will change from 3 to 5 in version 0.22. Specify it explicitly to silence this warning.\n",
      "  warnings.warn(CV_WARNING, FutureWarning)\n",
      "C:\\Users\\jtd1g16\\AppData\\Local\\Continuum\\anaconda3\\lib\\site-packages\\sklearn\\model_selection\\_search.py:814: DeprecationWarning: The default of the `iid` parameter will change from True to False in version 0.22 and will be removed in 0.24. This will change numeric results when test-set sizes are unequal.\n",
      "  DeprecationWarning)\n"
     ]
    },
    {
     "name": "stdout",
     "output_type": "stream",
     "text": [
      "{'criterion': 'mse', 'max_depth': 20, 'max_features': 15, 'max_leaf_nodes': None, 'min_impurity_decrease': 0.0, 'min_samples_leaf': 3, 'min_samples_split': 3, 'min_weight_fraction_leaf': 0.0, 'splitter': 'random'}\n",
      "Training Score:\t 0.9141647290701933\n",
      "Testing Score:\t 0.7956771880980333\n",
      "DecisionTreeRegressor run at: 2020-01-16 16:40:54.355856 . Saving to models/DRAGON_noVPAS/DecisionTreeRegressor_model_16_01_2020_16_40_54.joblib\n"
     ]
    }
   ],
   "source": [
    "X_train, X_test = X_train_main[top_15_features_model], X_test_main[top_15_features_model]\n",
    "\n",
    "best_hp = grid_search_return_hp_dict(DecisionTreeRegressor(), X_train, y_train, dtr_param_grid)\n",
    "\n",
    "dtr_model = DecisionTreeRegressor(**best_hp)\n",
    "\n",
    "dtr_model.fit(X_train, y_train)\n",
    "\n",
    "exp_vs_calc_dtr_model = produce_exp_vs_pred_df('top_15_features_model', dtr_model,\n",
    "                                         \"Decision Tree, model-chosen features\")"
   ]
  },
  {
   "cell_type": "markdown",
   "metadata": {},
   "source": [
    "### F-regression features"
   ]
  },
  {
   "cell_type": "code",
   "execution_count": 18,
   "metadata": {
    "ExecuteTime": {
     "end_time": "2020-01-16T16:44:48.342240Z",
     "start_time": "2020-01-16T16:40:54.364602Z"
    }
   },
   "outputs": [
    {
     "name": "stdout",
     "output_type": "stream",
     "text": [
      "DecisionTreeRegressor grid search.\n"
     ]
    },
    {
     "name": "stderr",
     "output_type": "stream",
     "text": [
      "C:\\Users\\jtd1g16\\AppData\\Local\\Continuum\\anaconda3\\lib\\site-packages\\sklearn\\model_selection\\_split.py:1978: FutureWarning: The default value of cv will change from 3 to 5 in version 0.22. Specify it explicitly to silence this warning.\n",
      "  warnings.warn(CV_WARNING, FutureWarning)\n",
      "C:\\Users\\jtd1g16\\AppData\\Local\\Continuum\\anaconda3\\lib\\site-packages\\sklearn\\model_selection\\_search.py:814: DeprecationWarning: The default of the `iid` parameter will change from True to False in version 0.22 and will be removed in 0.24. This will change numeric results when test-set sizes are unequal.\n",
      "  DeprecationWarning)\n"
     ]
    },
    {
     "name": "stdout",
     "output_type": "stream",
     "text": [
      "{'criterion': 'mae', 'max_depth': 10, 'max_features': 10, 'max_leaf_nodes': None, 'min_impurity_decrease': 0.0, 'min_samples_leaf': 3, 'min_samples_split': 2, 'min_weight_fraction_leaf': 0.0, 'splitter': 'random'}\n",
      "Training Score:\t 0.824735879420048\n",
      "Testing Score:\t 0.7707477970128914\n",
      "DecisionTreeRegressor run at: 2020-01-16 16:44:48.335723 . Saving to models/DRAGON_noVPAS/DecisionTreeRegressor_kbest_16_01_2020_16_44_48.joblib\n"
     ]
    }
   ],
   "source": [
    "X_train, X_test = X_train_main[top_15_features_kbest], X_test_main[top_15_features_kbest]\n",
    "\n",
    "\n",
    "best_hp = grid_search_return_hp_dict(DecisionTreeRegressor(), X_train, y_train, dtr_param_grid)\n",
    "\n",
    "dtr_freg = DecisionTreeRegressor(**best_hp)\n",
    "\n",
    "dtr_freg.fit(X_train, y_train)\n",
    "\n",
    "exp_vs_calc_dtr_freg = produce_exp_vs_pred_df('top_15_features_kbest', dtr_freg,\n",
    "                                         \"Decision Tree, freg features\")"
   ]
  },
  {
   "cell_type": "markdown",
   "metadata": {},
   "source": [
    "### Mutual info features"
   ]
  },
  {
   "cell_type": "code",
   "execution_count": 19,
   "metadata": {
    "ExecuteTime": {
     "end_time": "2020-01-16T16:49:12.282181Z",
     "start_time": "2020-01-16T16:44:48.346251Z"
    }
   },
   "outputs": [
    {
     "name": "stdout",
     "output_type": "stream",
     "text": [
      "DecisionTreeRegressor grid search.\n"
     ]
    },
    {
     "name": "stderr",
     "output_type": "stream",
     "text": [
      "C:\\Users\\jtd1g16\\AppData\\Local\\Continuum\\anaconda3\\lib\\site-packages\\sklearn\\model_selection\\_split.py:1978: FutureWarning: The default value of cv will change from 3 to 5 in version 0.22. Specify it explicitly to silence this warning.\n",
      "  warnings.warn(CV_WARNING, FutureWarning)\n",
      "C:\\Users\\jtd1g16\\AppData\\Local\\Continuum\\anaconda3\\lib\\site-packages\\sklearn\\model_selection\\_search.py:814: DeprecationWarning: The default of the `iid` parameter will change from True to False in version 0.22 and will be removed in 0.24. This will change numeric results when test-set sizes are unequal.\n",
      "  DeprecationWarning)\n"
     ]
    },
    {
     "name": "stdout",
     "output_type": "stream",
     "text": [
      "{'criterion': 'friedman_mse', 'max_depth': 10, 'max_features': 10, 'max_leaf_nodes': None, 'min_impurity_decrease': 0.1, 'min_samples_leaf': 3, 'min_samples_split': 2, 'min_weight_fraction_leaf': 0.0, 'splitter': 'random'}\n",
      "Training Score:\t 0.8595461536744464\n",
      "Testing Score:\t 0.7715041249308991\n",
      "DecisionTreeRegressor run at: 2020-01-16 16:49:12.276174 . Saving to models/DRAGON_noVPAS/DecisionTreeRegressor_mutual_info_16_01_2020_16_49_12.joblib\n"
     ]
    }
   ],
   "source": [
    "X_train, X_test = X_train_main[top_15_features_mutual_info], X_test_main[top_15_features_mutual_info]\n",
    "\n",
    "best_hp = grid_search_return_hp_dict(DecisionTreeRegressor(), X_train, y_train, dtr_param_grid)\n",
    "\n",
    "dtr_mu = DecisionTreeRegressor(**best_hp)\n",
    "\n",
    "dtr_mu.fit(X_train, y_train)\n",
    "\n",
    "exp_vs_calc_dtr_mu = produce_exp_vs_pred_df('top_15_features_mutual_info', dtr_mu,\n",
    "                                         \"Decision Tree, mutual info features\")"
   ]
  },
  {
   "cell_type": "markdown",
   "metadata": {},
   "source": [
    "### LASSO features"
   ]
  },
  {
   "cell_type": "code",
   "execution_count": 20,
   "metadata": {
    "ExecuteTime": {
     "end_time": "2020-01-16T16:53:05.178607Z",
     "start_time": "2020-01-16T16:49:12.286191Z"
    }
   },
   "outputs": [
    {
     "name": "stdout",
     "output_type": "stream",
     "text": [
      "DecisionTreeRegressor grid search.\n"
     ]
    },
    {
     "name": "stderr",
     "output_type": "stream",
     "text": [
      "C:\\Users\\jtd1g16\\AppData\\Local\\Continuum\\anaconda3\\lib\\site-packages\\sklearn\\model_selection\\_split.py:1978: FutureWarning: The default value of cv will change from 3 to 5 in version 0.22. Specify it explicitly to silence this warning.\n",
      "  warnings.warn(CV_WARNING, FutureWarning)\n",
      "C:\\Users\\jtd1g16\\AppData\\Local\\Continuum\\anaconda3\\lib\\site-packages\\sklearn\\model_selection\\_search.py:814: DeprecationWarning: The default of the `iid` parameter will change from True to False in version 0.22 and will be removed in 0.24. This will change numeric results when test-set sizes are unequal.\n",
      "  DeprecationWarning)\n"
     ]
    },
    {
     "name": "stdout",
     "output_type": "stream",
     "text": [
      "{'criterion': 'mae', 'max_depth': 10, 'max_features': 10, 'max_leaf_nodes': None, 'min_impurity_decrease': 0.0, 'min_samples_leaf': 2, 'min_samples_split': 3, 'min_weight_fraction_leaf': 0.0, 'splitter': 'best'}\n",
      "Training Score:\t 0.8840999565633477\n",
      "Testing Score:\t 0.7448102791928264\n",
      "DecisionTreeRegressor run at: 2020-01-16 16:53:05.172089 . Saving to models/DRAGON_noVPAS/DecisionTreeRegressor_lasso_16_01_2020_16_53_05.joblib\n"
     ]
    }
   ],
   "source": [
    "X_train, X_test = X_train_main[top_15_features_lasso], X_test_main[top_15_features_lasso]\n",
    "\n",
    "best_hp = grid_search_return_hp_dict(DecisionTreeRegressor(), X_train, y_train, dtr_param_grid)\n",
    "\n",
    "dtr_lasso = DecisionTreeRegressor(**best_hp)\n",
    "\n",
    "dtr_lasso.fit(X_train, y_train)\n",
    "\n",
    "exp_vs_calc_dtr_lasso = produce_exp_vs_pred_df('top_15_features_lasso', dtr_lasso,\n",
    "                                         \"Decision Tree, lasso features\")"
   ]
  },
  {
   "cell_type": "markdown",
   "metadata": {},
   "source": [
    "## AdaBoost Regressor\n",
    "### Model Chosen Features"
   ]
  },
  {
   "cell_type": "code",
   "execution_count": 21,
   "metadata": {
    "ExecuteTime": {
     "end_time": "2020-01-16T16:53:05.190138Z",
     "start_time": "2020-01-16T16:53:05.182116Z"
    }
   },
   "outputs": [],
   "source": [
    "base_models = [ExtraTreesRegressor(n_estimators= 5,\n",
    "                                   criterion= 'mse',\n",
    "                                   max_features = 'log2'),\n",
    "               RandomForestRegressor(n_estimators= 5,\n",
    "                                     criterion= 'mse',\n",
    "                                     max_features = 'sqrt',\n",
    "                                     min_samples_split = 3),\n",
    "              GradientBoostingRegressor(),\n",
    "              DecisionTreeRegressor(),\n",
    "              Lars(),\n",
    "              ElasticNet()]\n",
    "\n",
    "ada_param_grid = {\n",
    "    'base_estimator' : base_models, \n",
    "    'learning_rate' : [0.3, 0.5, 0.8, 1], \n",
    "    'loss' : ['linear', 'square', 'exponential'], \n",
    "    'n_estimators' : [50, 100]\n",
    "} #hyperparameters for adaboost gridsearch"
   ]
  },
  {
   "cell_type": "code",
   "execution_count": 22,
   "metadata": {
    "ExecuteTime": {
     "end_time": "2020-01-16T17:01:08.672880Z",
     "start_time": "2020-01-16T16:53:05.194650Z"
    }
   },
   "outputs": [
    {
     "name": "stdout",
     "output_type": "stream",
     "text": [
      "AdaBoostRegressor grid search.\n"
     ]
    },
    {
     "name": "stderr",
     "output_type": "stream",
     "text": [
      "C:\\Users\\jtd1g16\\AppData\\Local\\Continuum\\anaconda3\\lib\\site-packages\\sklearn\\model_selection\\_split.py:1978: FutureWarning: The default value of cv will change from 3 to 5 in version 0.22. Specify it explicitly to silence this warning.\n",
      "  warnings.warn(CV_WARNING, FutureWarning)\n",
      "C:\\Users\\jtd1g16\\AppData\\Local\\Continuum\\anaconda3\\lib\\site-packages\\sklearn\\model_selection\\_search.py:814: DeprecationWarning: The default of the `iid` parameter will change from True to False in version 0.22 and will be removed in 0.24. This will change numeric results when test-set sizes are unequal.\n",
      "  DeprecationWarning)\n"
     ]
    },
    {
     "name": "stdout",
     "output_type": "stream",
     "text": [
      "{'base_estimator': ExtraTreesRegressor(bootstrap=False, criterion='mse', max_depth=None,\n",
      "                    max_features='log2', max_leaf_nodes=None,\n",
      "                    min_impurity_decrease=0.0, min_impurity_split=None,\n",
      "                    min_samples_leaf=1, min_samples_split=2,\n",
      "                    min_weight_fraction_leaf=0.0, n_estimators=5, n_jobs=None,\n",
      "                    oob_score=False, random_state=None, verbose=0,\n",
      "                    warm_start=False), 'learning_rate': 0.8, 'loss': 'square', 'n_estimators': 50}\n",
      "Training Score:\t 0.9966830903147815\n",
      "Testing Score:\t 0.8520725299365427\n",
      "AdaBoostRegressor run at: 2020-01-16 17:01:08.526492 . Saving to models/DRAGON_noVPAS/AdaBoostRegressor_model_16_01_2020_17_01_08.joblib\n"
     ]
    }
   ],
   "source": [
    "X_train, X_test = X_train_main[top_15_features_model], X_test_main[top_15_features_model]\n",
    "\n",
    "best_hp = grid_search_return_hp_dict(AdaBoostRegressor(), X_train, y_train, ada_param_grid)\n",
    "\n",
    "ada_model = AdaBoostRegressor(**best_hp)\n",
    "\n",
    "ada_model.fit(X_train, y_train)\n",
    "\n",
    "exp_vs_calc_ada_model = produce_exp_vs_pred_df('top_15_features_model', ada_model,\n",
    "                                               \"AdaBoost, model features\")"
   ]
  },
  {
   "cell_type": "markdown",
   "metadata": {},
   "source": [
    "### F-regression features"
   ]
  },
  {
   "cell_type": "code",
   "execution_count": 23,
   "metadata": {
    "ExecuteTime": {
     "end_time": "2020-01-16T17:09:18.037626Z",
     "start_time": "2020-01-16T17:01:08.683411Z"
    }
   },
   "outputs": [
    {
     "name": "stdout",
     "output_type": "stream",
     "text": [
      "AdaBoostRegressor grid search.\n"
     ]
    },
    {
     "name": "stderr",
     "output_type": "stream",
     "text": [
      "C:\\Users\\jtd1g16\\AppData\\Local\\Continuum\\anaconda3\\lib\\site-packages\\sklearn\\model_selection\\_split.py:1978: FutureWarning: The default value of cv will change from 3 to 5 in version 0.22. Specify it explicitly to silence this warning.\n",
      "  warnings.warn(CV_WARNING, FutureWarning)\n",
      "C:\\Users\\jtd1g16\\AppData\\Local\\Continuum\\anaconda3\\lib\\site-packages\\sklearn\\model_selection\\_search.py:814: DeprecationWarning: The default of the `iid` parameter will change from True to False in version 0.22 and will be removed in 0.24. This will change numeric results when test-set sizes are unequal.\n",
      "  DeprecationWarning)\n"
     ]
    },
    {
     "name": "stdout",
     "output_type": "stream",
     "text": [
      "{'base_estimator': ExtraTreesRegressor(bootstrap=False, criterion='mse', max_depth=None,\n",
      "                    max_features='log2', max_leaf_nodes=None,\n",
      "                    min_impurity_decrease=0.0, min_impurity_split=None,\n",
      "                    min_samples_leaf=1, min_samples_split=2,\n",
      "                    min_weight_fraction_leaf=0.0, n_estimators=5, n_jobs=None,\n",
      "                    oob_score=False, random_state=None, verbose=0,\n",
      "                    warm_start=False), 'learning_rate': 0.8, 'loss': 'exponential', 'n_estimators': 50}\n",
      "Training Score:\t 0.9979723730365371\n",
      "Testing Score:\t 0.8433963130222173\n",
      "AdaBoostRegressor run at: 2020-01-16 17:09:17.903303 . Saving to models/DRAGON_noVPAS/AdaBoostRegressor_kbest_16_01_2020_17_09_17.joblib\n"
     ]
    }
   ],
   "source": [
    "X_train, X_test = X_train_main[top_15_features_kbest], X_test_main[top_15_features_kbest]\n",
    "\n",
    "best_hp = grid_search_return_hp_dict(AdaBoostRegressor(), X_train, y_train, ada_param_grid)\n",
    "\n",
    "ada_freg = AdaBoostRegressor(**best_hp)\n",
    "\n",
    "ada_freg.fit(X_train, y_train)\n",
    "\n",
    "exp_vs_calc_ada_freg = produce_exp_vs_pred_df('top_15_features_kbest', ada_freg,\n",
    "                                               \"AdaBoost, freg features\")"
   ]
  },
  {
   "cell_type": "markdown",
   "metadata": {},
   "source": [
    "### Mutual info features"
   ]
  },
  {
   "cell_type": "code",
   "execution_count": 24,
   "metadata": {
    "ExecuteTime": {
     "end_time": "2020-01-16T17:18:49.503938Z",
     "start_time": "2020-01-16T17:09:18.044141Z"
    }
   },
   "outputs": [
    {
     "name": "stdout",
     "output_type": "stream",
     "text": [
      "AdaBoostRegressor grid search.\n"
     ]
    },
    {
     "name": "stderr",
     "output_type": "stream",
     "text": [
      "C:\\Users\\jtd1g16\\AppData\\Local\\Continuum\\anaconda3\\lib\\site-packages\\sklearn\\model_selection\\_split.py:1978: FutureWarning: The default value of cv will change from 3 to 5 in version 0.22. Specify it explicitly to silence this warning.\n",
      "  warnings.warn(CV_WARNING, FutureWarning)\n",
      "C:\\Users\\jtd1g16\\AppData\\Local\\Continuum\\anaconda3\\lib\\site-packages\\sklearn\\model_selection\\_search.py:814: DeprecationWarning: The default of the `iid` parameter will change from True to False in version 0.22 and will be removed in 0.24. This will change numeric results when test-set sizes are unequal.\n",
      "  DeprecationWarning)\n"
     ]
    },
    {
     "name": "stdout",
     "output_type": "stream",
     "text": [
      "{'base_estimator': ExtraTreesRegressor(bootstrap=False, criterion='mse', max_depth=None,\n",
      "                    max_features='log2', max_leaf_nodes=None,\n",
      "                    min_impurity_decrease=0.0, min_impurity_split=None,\n",
      "                    min_samples_leaf=1, min_samples_split=2,\n",
      "                    min_weight_fraction_leaf=0.0, n_estimators=5, n_jobs=None,\n",
      "                    oob_score=False, random_state=None, verbose=0,\n",
      "                    warm_start=False), 'learning_rate': 0.8, 'loss': 'exponential', 'n_estimators': 100}\n",
      "Training Score:\t 0.9997045578005971\n",
      "Testing Score:\t 0.8365182791277487\n",
      "AdaBoostRegressor run at: 2020-01-16 17:18:49.229088 . Saving to models/DRAGON_noVPAS/AdaBoostRegressor_mutual_info_16_01_2020_17_18_49.joblib\n"
     ]
    }
   ],
   "source": [
    "X_train, X_test = X_train_main[top_15_features_mutual_info], X_test_main[top_15_features_mutual_info]\n",
    "\n",
    "best_hp = grid_search_return_hp_dict(AdaBoostRegressor(), X_train, y_train, ada_param_grid)\n",
    "\n",
    "ada_mu = AdaBoostRegressor(**best_hp)\n",
    "\n",
    "ada_mu.fit(X_train, y_train)\n",
    "\n",
    "exp_vs_calc_ada_mu = produce_exp_vs_pred_df('top_15_features_mutual_info', ada_mu,\n",
    "                                               \"AdaBoost, mutual info features\")"
   ]
  },
  {
   "cell_type": "markdown",
   "metadata": {},
   "source": [
    "### LASSO features"
   ]
  },
  {
   "cell_type": "code",
   "execution_count": 25,
   "metadata": {
    "ExecuteTime": {
     "end_time": "2020-01-16T17:26:34.176980Z",
     "start_time": "2020-01-16T17:18:49.506946Z"
    }
   },
   "outputs": [
    {
     "name": "stdout",
     "output_type": "stream",
     "text": [
      "AdaBoostRegressor grid search.\n"
     ]
    },
    {
     "name": "stderr",
     "output_type": "stream",
     "text": [
      "C:\\Users\\jtd1g16\\AppData\\Local\\Continuum\\anaconda3\\lib\\site-packages\\sklearn\\model_selection\\_split.py:1978: FutureWarning: The default value of cv will change from 3 to 5 in version 0.22. Specify it explicitly to silence this warning.\n",
      "  warnings.warn(CV_WARNING, FutureWarning)\n",
      "C:\\Users\\jtd1g16\\AppData\\Local\\Continuum\\anaconda3\\lib\\site-packages\\sklearn\\model_selection\\_search.py:814: DeprecationWarning: The default of the `iid` parameter will change from True to False in version 0.22 and will be removed in 0.24. This will change numeric results when test-set sizes are unequal.\n",
      "  DeprecationWarning)\n"
     ]
    },
    {
     "name": "stdout",
     "output_type": "stream",
     "text": [
      "{'base_estimator': RandomForestRegressor(bootstrap=True, criterion='mse', max_depth=None,\n",
      "                      max_features='sqrt', max_leaf_nodes=None,\n",
      "                      min_impurity_decrease=0.0, min_impurity_split=None,\n",
      "                      min_samples_leaf=1, min_samples_split=3,\n",
      "                      min_weight_fraction_leaf=0.0, n_estimators=5, n_jobs=None,\n",
      "                      oob_score=False, random_state=None, verbose=0,\n",
      "                      warm_start=False), 'learning_rate': 0.5, 'loss': 'exponential', 'n_estimators': 50}\n",
      "Training Score:\t 0.9926354574810684\n",
      "Testing Score:\t 0.8080655222178783\n",
      "AdaBoostRegressor run at: 2020-01-16 17:26:34.046134 . Saving to models/DRAGON_noVPAS/AdaBoostRegressor_lasso_16_01_2020_17_26_34.joblib\n"
     ]
    }
   ],
   "source": [
    "X_train, X_test = X_train_main[top_15_features_lasso], X_test_main[top_15_features_lasso]\n",
    "\n",
    "best_hp = grid_search_return_hp_dict(AdaBoostRegressor(), X_train, y_train, ada_param_grid)\n",
    "\n",
    "ada_lasso = AdaBoostRegressor(**best_hp)\n",
    "\n",
    "ada_lasso.fit(X_train, y_train)\n",
    "\n",
    "exp_vs_calc_ada_lasso = produce_exp_vs_pred_df('top_15_features_lasso', ada_lasso,\n",
    "                                               \"AdaBoost, model features\")"
   ]
  },
  {
   "cell_type": "markdown",
   "metadata": {},
   "source": [
    "## LASSO\n",
    "### Model Chosen Features"
   ]
  },
  {
   "cell_type": "code",
   "execution_count": 26,
   "metadata": {
    "ExecuteTime": {
     "end_time": "2020-01-16T17:26:34.188511Z",
     "start_time": "2020-01-16T17:26:34.180996Z"
    }
   },
   "outputs": [],
   "source": [
    "lasso_param_grid = {\n",
    "    'alpha':[0.2, 0.4, 0.6, 0.8],\n",
    "    'max_iter':[1000, 5000, 10000, 50000],\n",
    "    'selection':['cyclic', 'random']\n",
    "}"
   ]
  },
  {
   "cell_type": "code",
   "execution_count": 27,
   "metadata": {
    "ExecuteTime": {
     "end_time": "2020-01-16T17:26:40.982758Z",
     "start_time": "2020-01-16T17:26:34.192020Z"
    }
   },
   "outputs": [
    {
     "name": "stdout",
     "output_type": "stream",
     "text": [
      "Lasso grid search.\n"
     ]
    },
    {
     "name": "stderr",
     "output_type": "stream",
     "text": [
      "C:\\Users\\jtd1g16\\AppData\\Local\\Continuum\\anaconda3\\lib\\site-packages\\sklearn\\model_selection\\_split.py:1978: FutureWarning: The default value of cv will change from 3 to 5 in version 0.22. Specify it explicitly to silence this warning.\n",
      "  warnings.warn(CV_WARNING, FutureWarning)\n"
     ]
    },
    {
     "name": "stdout",
     "output_type": "stream",
     "text": [
      "{'alpha': 0.2, 'max_iter': 1000, 'selection': 'cyclic'}\n",
      "Training Score:\t 0.7025515174084993\n",
      "Testing Score:\t 0.7357933019197427\n",
      "Lasso run at: 2020-01-16 17:26:40.950674 . Saving to models/DRAGON_noVPAS/Lasso_model_16_01_2020_17_26_40.joblib\n"
     ]
    }
   ],
   "source": [
    "X_train, X_test = X_train_main[top_15_features_model], X_test_main[top_15_features_model]\n",
    "best_hp = grid_search_return_hp_dict(Lasso(), X_train, y_train, lasso_param_grid)\n",
    "lasso_model = Lasso(**best_hp)\n",
    "lasso_model.fit(X_train, y_train)\n",
    "\n",
    "exp_vs_calc_lasso_model = produce_exp_vs_pred_df('top_15_features_model', lasso_model,\n",
    "                                                 \"LASSO, model features\")"
   ]
  },
  {
   "cell_type": "markdown",
   "metadata": {},
   "source": [
    "### F-regression features"
   ]
  },
  {
   "cell_type": "code",
   "execution_count": 28,
   "metadata": {
    "ExecuteTime": {
     "end_time": "2020-01-16T17:26:48.532748Z",
     "start_time": "2020-01-16T17:26:40.986267Z"
    }
   },
   "outputs": [
    {
     "name": "stdout",
     "output_type": "stream",
     "text": [
      "Lasso grid search.\n"
     ]
    },
    {
     "name": "stderr",
     "output_type": "stream",
     "text": [
      "C:\\Users\\jtd1g16\\AppData\\Local\\Continuum\\anaconda3\\lib\\site-packages\\sklearn\\model_selection\\_split.py:1978: FutureWarning: The default value of cv will change from 3 to 5 in version 0.22. Specify it explicitly to silence this warning.\n",
      "  warnings.warn(CV_WARNING, FutureWarning)\n",
      "C:\\Users\\jtd1g16\\AppData\\Local\\Continuum\\anaconda3\\lib\\site-packages\\sklearn\\linear_model\\coordinate_descent.py:475: ConvergenceWarning: Objective did not converge. You might want to increase the number of iterations. Duality gap: 62.95777664966954, tolerance: 7.861287863090288\n",
      "  positive)\n",
      "C:\\Users\\jtd1g16\\AppData\\Local\\Continuum\\anaconda3\\lib\\site-packages\\sklearn\\linear_model\\coordinate_descent.py:475: ConvergenceWarning: Objective did not converge. You might want to increase the number of iterations. Duality gap: 58.1372885694509, tolerance: 7.861287863090288\n",
      "  positive)\n"
     ]
    },
    {
     "name": "stdout",
     "output_type": "stream",
     "text": [
      "{'alpha': 0.2, 'max_iter': 5000, 'selection': 'random'}\n",
      "Training Score:\t 0.7247376293705728\n",
      "Testing Score:\t 0.7171477393839785\n",
      "Lasso run at: 2020-01-16 17:26:48.526732 . Saving to models/DRAGON_noVPAS/Lasso_kbest_16_01_2020_17_26_48.joblib\n"
     ]
    }
   ],
   "source": [
    "X_train, X_test = X_train_main[top_15_features_kbest], X_test_main[top_15_features_kbest]\n",
    "best_hp = grid_search_return_hp_dict(Lasso(), X_train, y_train, lasso_param_grid)\n",
    "lasso_freg = Lasso(**best_hp)\n",
    "lasso_freg.fit(X_train, y_train)\n",
    "\n",
    "exp_vs_calc_lasso_freg = produce_exp_vs_pred_df('top_15_features_kbest', lasso_freg,\n",
    "                                                 \"LASSO, f-reg features\")"
   ]
  },
  {
   "cell_type": "markdown",
   "metadata": {},
   "source": [
    "### Mutual info features"
   ]
  },
  {
   "cell_type": "code",
   "execution_count": 29,
   "metadata": {
    "ExecuteTime": {
     "end_time": "2020-01-16T17:26:56.287005Z",
     "start_time": "2020-01-16T17:26:48.536258Z"
    }
   },
   "outputs": [
    {
     "name": "stdout",
     "output_type": "stream",
     "text": [
      "Lasso grid search.\n"
     ]
    },
    {
     "name": "stderr",
     "output_type": "stream",
     "text": [
      "C:\\Users\\jtd1g16\\AppData\\Local\\Continuum\\anaconda3\\lib\\site-packages\\sklearn\\model_selection\\_split.py:1978: FutureWarning: The default value of cv will change from 3 to 5 in version 0.22. Specify it explicitly to silence this warning.\n",
      "  warnings.warn(CV_WARNING, FutureWarning)\n"
     ]
    },
    {
     "name": "stdout",
     "output_type": "stream",
     "text": [
      "{'alpha': 0.2, 'max_iter': 5000, 'selection': 'cyclic'}\n",
      "Training Score:\t 0.6858987473879607\n",
      "Testing Score:\t 0.6714929045146443\n",
      "Lasso run at: 2020-01-16 17:26:56.280489 . Saving to models/DRAGON_noVPAS/Lasso_mutual_info_16_01_2020_17_26_56.joblib\n"
     ]
    }
   ],
   "source": [
    "X_train, X_test = X_train_main[top_15_features_mutual_info], X_test_main[top_15_features_mutual_info]\n",
    "best_hp = grid_search_return_hp_dict(Lasso(), X_train, y_train, lasso_param_grid)\n",
    "lasso_mu = Lasso(**best_hp)\n",
    "lasso_mu.fit(X_train, y_train)\n",
    "\n",
    "exp_vs_calc_lasso_mu = produce_exp_vs_pred_df('top_15_features_mutual_info', lasso_mu,\n",
    "                                                 \"LASSO, mutual info features\")"
   ]
  },
  {
   "cell_type": "markdown",
   "metadata": {},
   "source": [
    "### LASSO Features"
   ]
  },
  {
   "cell_type": "code",
   "execution_count": 30,
   "metadata": {
    "ExecuteTime": {
     "end_time": "2020-01-16T17:27:02.310949Z",
     "start_time": "2020-01-16T17:26:56.291518Z"
    }
   },
   "outputs": [
    {
     "name": "stdout",
     "output_type": "stream",
     "text": [
      "Lasso grid search.\n"
     ]
    },
    {
     "name": "stderr",
     "output_type": "stream",
     "text": [
      "C:\\Users\\jtd1g16\\AppData\\Local\\Continuum\\anaconda3\\lib\\site-packages\\sklearn\\model_selection\\_split.py:1978: FutureWarning: The default value of cv will change from 3 to 5 in version 0.22. Specify it explicitly to silence this warning.\n",
      "  warnings.warn(CV_WARNING, FutureWarning)\n"
     ]
    },
    {
     "name": "stdout",
     "output_type": "stream",
     "text": [
      "{'alpha': 0.2, 'max_iter': 1000, 'selection': 'cyclic'}\n",
      "Training Score:\t 0.6833898806906213\n",
      "Testing Score:\t 0.6737594517258707\n",
      "Lasso run at: 2020-01-16 17:27:02.303930 . Saving to models/DRAGON_noVPAS/Lasso_lasso_16_01_2020_17_27_02.joblib\n"
     ]
    }
   ],
   "source": [
    "X_train, X_test = X_train_main[top_15_features_lasso], X_test_main[top_15_features_lasso]\n",
    "best_hp = grid_search_return_hp_dict(Lasso(), X_train, y_train, lasso_param_grid)\n",
    "lasso_lasso = Lasso(**best_hp)\n",
    "lasso_lasso.fit(X_train, y_train)\n",
    "\n",
    "exp_vs_calc_lasso_lasso = produce_exp_vs_pred_df('top_15_features_lasso', lasso_lasso,\n",
    "                                                 \"LASSO, lasso features\")"
   ]
  },
  {
   "cell_type": "markdown",
   "metadata": {},
   "source": [
    "## Random Forest Regressor\n",
    "### Model Chosen Features"
   ]
  },
  {
   "cell_type": "code",
   "execution_count": 31,
   "metadata": {
    "ExecuteTime": {
     "end_time": "2020-01-16T17:27:02.321476Z",
     "start_time": "2020-01-16T17:27:02.314459Z"
    }
   },
   "outputs": [],
   "source": [
    "random_forest_param_grid = {\n",
    "    'max_depth': [10, 20, 30, 40, 50, 60, 70, 80, 90, None],\n",
    "    'max_features': ['auto', 'sqrt'],\n",
    "    'min_samples_leaf': [1, 2, 4],\n",
    "    'min_samples_split': [2, 5, 10],\n",
    "    'n_estimators': [200, 400, 600, 800, 1000, 1200, 1400, 1600]\n",
    "}"
   ]
  },
  {
   "cell_type": "code",
   "execution_count": 33,
   "metadata": {
    "ExecuteTime": {
     "end_time": "2020-01-16T21:45:19.253824Z",
     "start_time": "2020-01-16T19:42:39.311353Z"
    },
    "scrolled": false
   },
   "outputs": [
    {
     "name": "stdout",
     "output_type": "stream",
     "text": [
      "RandomForestRegressor grid search.\n",
      "{'max_depth': 90, 'max_features': 'sqrt', 'min_samples_leaf': 1, 'min_samples_split': 2, 'n_estimators': 600}\n",
      "Training Score:\t 0.9774090544159082\n",
      "Testing Score:\t 0.8582042794564964\n",
      "RandomForestRegressor run at: 2020-01-16 21:45:18.928355 . Saving to models/DRAGON_noVPAS/RandomForestRegressor_model_16_01_2020_21_45_18.joblib\n"
     ]
    }
   ],
   "source": [
    "X_train, X_test = X_train_main[top_15_features_model], X_test_main[top_15_features_model]\n",
    "best_hp = grid_search_return_hp_dict(RandomForestRegressor(),\n",
    "                                     X_train, y_train, random_forest_param_grid)\n",
    "random_forest_model = RandomForestRegressor(**best_hp)\n",
    "random_forest_model.fit(X_train, y_train)\n",
    "exp_vs_calc_random_forest_model = produce_exp_vs_pred_df('top_15_features_model', random_forest_model,\n",
    "                                                         \"RandomForest, model features\")"
   ]
  },
  {
   "cell_type": "markdown",
   "metadata": {},
   "source": [
    "### F-regression features"
   ]
  },
  {
   "cell_type": "code",
   "execution_count": 34,
   "metadata": {
    "ExecuteTime": {
     "end_time": "2020-01-17T01:11:15.484470Z",
     "start_time": "2020-01-16T23:02:41.821348Z"
    }
   },
   "outputs": [
    {
     "name": "stdout",
     "output_type": "stream",
     "text": [
      "RandomForestRegressor grid search.\n"
     ]
    },
    {
     "name": "stderr",
     "output_type": "stream",
     "text": [
      "C:\\Users\\jtd1g16\\AppData\\Local\\Continuum\\anaconda3\\lib\\site-packages\\sklearn\\model_selection\\_split.py:1978: FutureWarning: The default value of cv will change from 3 to 5 in version 0.22. Specify it explicitly to silence this warning.\n",
      "  warnings.warn(CV_WARNING, FutureWarning)\n"
     ]
    },
    {
     "name": "stdout",
     "output_type": "stream",
     "text": [
      "{'max_depth': None, 'max_features': 'sqrt', 'min_samples_leaf': 1, 'min_samples_split': 2, 'n_estimators': 200}\n",
      "Training Score:\t 0.9721752491187455\n",
      "Testing Score:\t 0.8401657504277648\n",
      "RandomForestRegressor run at: 2020-01-17 01:11:15.379690 . Saving to models/DRAGON_noVPAS/RandomForestRegressor_kbest_17_01_2020_01_11_15.joblib\n"
     ]
    }
   ],
   "source": [
    "X_train, X_test = X_train_main[top_15_features_kbest], X_test_main[top_15_features_kbest]\n",
    "best_hp = grid_search_return_hp_dict(RandomForestRegressor(),\n",
    "                                     X_train, y_train, random_forest_param_grid)\n",
    "random_forest_freg = RandomForestRegressor(**best_hp)\n",
    "random_forest_freg.fit(X_train, y_train)\n",
    "exp_vs_calc_random_forest_freg = produce_exp_vs_pred_df('top_15_features_kbest', random_forest_freg,\n",
    "                                                         \"RandomForest, freg features\")"
   ]
  },
  {
   "cell_type": "markdown",
   "metadata": {},
   "source": [
    "### Mutual info features"
   ]
  },
  {
   "cell_type": "code",
   "execution_count": 35,
   "metadata": {
    "ExecuteTime": {
     "end_time": "2020-01-17T03:47:08.728085Z",
     "start_time": "2020-01-17T01:11:26.589418Z"
    }
   },
   "outputs": [
    {
     "name": "stdout",
     "output_type": "stream",
     "text": [
      "RandomForestRegressor grid search.\n"
     ]
    },
    {
     "name": "stderr",
     "output_type": "stream",
     "text": [
      "C:\\Users\\jtd1g16\\AppData\\Local\\Continuum\\anaconda3\\lib\\site-packages\\sklearn\\model_selection\\_split.py:1978: FutureWarning: The default value of cv will change from 3 to 5 in version 0.22. Specify it explicitly to silence this warning.\n",
      "  warnings.warn(CV_WARNING, FutureWarning)\n"
     ]
    },
    {
     "name": "stdout",
     "output_type": "stream",
     "text": [
      "{'max_depth': None, 'max_features': 'sqrt', 'min_samples_leaf': 1, 'min_samples_split': 2, 'n_estimators': 600}\n",
      "Training Score:\t 0.9729434173898541\n",
      "Testing Score:\t 0.8415611230823128\n",
      "RandomForestRegressor run at: 2020-01-17 03:47:08.433069 . Saving to models/DRAGON_noVPAS/RandomForestRegressor_mutual_info_17_01_2020_03_47_08.joblib\n"
     ]
    }
   ],
   "source": [
    "X_train, X_test = X_train_main[top_15_features_mutual_info], X_test_main[top_15_features_mutual_info]\n",
    "best_hp = grid_search_return_hp_dict(RandomForestRegressor(),\n",
    "                                     X_train, y_train, random_forest_param_grid)\n",
    "random_forest_mu = RandomForestRegressor(**best_hp)\n",
    "random_forest_mu.fit(X_train, y_train)\n",
    "exp_vs_calc_random_forest_mu = produce_exp_vs_pred_df('top_15_features_mutual_info', random_forest_mu,\n",
    "                                                         \"RandomForest, mutual info features\")"
   ]
  },
  {
   "cell_type": "markdown",
   "metadata": {},
   "source": [
    "### LASSO features"
   ]
  },
  {
   "cell_type": "code",
   "execution_count": 36,
   "metadata": {
    "ExecuteTime": {
     "end_time": "2020-01-17T05:55:00.396379Z",
     "start_time": "2020-01-17T03:47:19.592342Z"
    }
   },
   "outputs": [
    {
     "name": "stdout",
     "output_type": "stream",
     "text": [
      "RandomForestRegressor grid search.\n"
     ]
    },
    {
     "name": "stderr",
     "output_type": "stream",
     "text": [
      "C:\\Users\\jtd1g16\\AppData\\Local\\Continuum\\anaconda3\\lib\\site-packages\\sklearn\\model_selection\\_split.py:1978: FutureWarning: The default value of cv will change from 3 to 5 in version 0.22. Specify it explicitly to silence this warning.\n",
      "  warnings.warn(CV_WARNING, FutureWarning)\n"
     ]
    },
    {
     "name": "stdout",
     "output_type": "stream",
     "text": [
      "{'max_depth': 40, 'max_features': 'sqrt', 'min_samples_leaf': 1, 'min_samples_split': 2, 'n_estimators': 200}\n",
      "Training Score:\t 0.9714625413023873\n",
      "Testing Score:\t 0.810773797396149\n",
      "RandomForestRegressor run at: 2020-01-17 05:55:00.292476 . Saving to models/DRAGON_noVPAS/RandomForestRegressor_lasso_17_01_2020_05_55_00.joblib\n"
     ]
    }
   ],
   "source": [
    "X_train, X_test = X_train_main[top_15_features_lasso], X_test_main[top_15_features_lasso]\n",
    "best_hp = grid_search_return_hp_dict(RandomForestRegressor(),\n",
    "                                     X_train, y_train, random_forest_param_grid)\n",
    "random_forest_lasso = RandomForestRegressor(**best_hp)\n",
    "random_forest_lasso.fit(X_train, y_train)\n",
    "exp_vs_calc_random_forest_lasso = produce_exp_vs_pred_df('top_15_features_lasso', random_forest_lasso,\n",
    "                                                         \"RandomForest, lasso features\")"
   ]
  },
  {
   "cell_type": "markdown",
   "metadata": {},
   "source": [
    "## LARS - Least angle regression\n",
    "### Model chosen features"
   ]
  },
  {
   "cell_type": "code",
   "execution_count": 37,
   "metadata": {
    "ExecuteTime": {
     "end_time": "2020-01-17T05:55:14.660635Z",
     "start_time": "2020-01-17T05:55:11.579996Z"
    }
   },
   "outputs": [
    {
     "name": "stdout",
     "output_type": "stream",
     "text": [
      "Training Score:\t -5.118873363102049\n",
      "Testing Score:\t -4.66823156501682\n",
      "Lars run at: 2020-01-17 05:55:14.653620 . Saving to models/DRAGON_noVPAS/Lars_model_17_01_2020_05_55_14.joblib\n"
     ]
    }
   ],
   "source": [
    "X_train, X_test = X_train_main[top_15_features_model], X_test_main[top_15_features_model]\n",
    "\n",
    "lars_model = Lars(fit_intercept=False, n_nonzero_coefs=np.inf)\n",
    "lars_model.fit(X_train, y_train)\n",
    "exp_vs_calc_lars_model = produce_exp_vs_pred_df('top_15_features_model', lars_model, \"LARS model features\")"
   ]
  },
  {
   "cell_type": "markdown",
   "metadata": {},
   "source": [
    "### F-regression features"
   ]
  },
  {
   "cell_type": "code",
   "execution_count": 38,
   "metadata": {
    "ExecuteTime": {
     "end_time": "2020-01-17T05:55:28.069282Z",
     "start_time": "2020-01-17T05:55:25.653510Z"
    }
   },
   "outputs": [
    {
     "name": "stdout",
     "output_type": "stream",
     "text": [
      "Training Score:\t 0.412098008114794\n",
      "Testing Score:\t 0.36890756929970014\n",
      "Lars run at: 2020-01-17 05:55:28.063264 . Saving to models/DRAGON_noVPAS/Lars_kbest_17_01_2020_05_55_28.joblib\n"
     ]
    }
   ],
   "source": [
    "X_train, X_test = X_train_main[top_15_features_kbest], X_test_main[top_15_features_kbest]\n",
    "\n",
    "lars_freg = Lars(fit_intercept=False, n_nonzero_coefs=np.inf)\n",
    "lars_freg.fit(X_train, y_train)\n",
    "exp_vs_calc_lars_freg = produce_exp_vs_pred_df('top_15_features_kbest', lars_freg, \"LARS freg features\")"
   ]
  },
  {
   "cell_type": "markdown",
   "metadata": {},
   "source": [
    "### Mutual info features"
   ]
  },
  {
   "cell_type": "code",
   "execution_count": 39,
   "metadata": {
    "ExecuteTime": {
     "end_time": "2020-01-17T05:55:41.948880Z",
     "start_time": "2020-01-17T05:55:39.134989Z"
    }
   },
   "outputs": [
    {
     "name": "stdout",
     "output_type": "stream",
     "text": [
      "Training Score:\t -4.03397309481404\n",
      "Testing Score:\t -3.6461882169232736\n",
      "Lars run at: 2020-01-17 05:55:41.943866 . Saving to models/DRAGON_noVPAS/Lars_mutual_info_17_01_2020_05_55_41.joblib\n"
     ]
    }
   ],
   "source": [
    "X_train, X_test = X_train_main[top_15_features_mutual_info], X_test_main[top_15_features_mutual_info]\n",
    "\n",
    "lars_mu = Lars(fit_intercept=False, n_nonzero_coefs=np.inf)\n",
    "lars_mu.fit(X_train, y_train)\n",
    "exp_vs_calc_lars_mu = produce_exp_vs_pred_df('top_15_features_mutual_info', lars_mu, \"LARS mutual info features\")"
   ]
  },
  {
   "cell_type": "markdown",
   "metadata": {},
   "source": [
    "### LASSO features"
   ]
  },
  {
   "cell_type": "code",
   "execution_count": 40,
   "metadata": {
    "ExecuteTime": {
     "end_time": "2020-01-17T05:55:56.222599Z",
     "start_time": "2020-01-17T05:55:53.060731Z"
    }
   },
   "outputs": [
    {
     "name": "stdout",
     "output_type": "stream",
     "text": [
      "Training Score:\t 0.6395259500652293\n",
      "Testing Score:\t 0.6194334350344687\n",
      "Lars run at: 2020-01-17 05:55:56.217585 . Saving to models/DRAGON_noVPAS/Lars_lasso_17_01_2020_05_55_56.joblib\n"
     ]
    }
   ],
   "source": [
    "X_train, X_test = X_train_main[top_15_features_lasso], X_test_main[top_15_features_lasso]\n",
    "\n",
    "lars_lasso = Lars(fit_intercept=False, n_nonzero_coefs=np.inf)\n",
    "lars_lasso.fit(X_train, y_train)\n",
    "exp_vs_calc_lars_lasso = produce_exp_vs_pred_df('top_15_features_lasso', lars_lasso, \"LARS lasso features\")"
   ]
  },
  {
   "cell_type": "markdown",
   "metadata": {},
   "source": [
    "## Elastic Net (linear regression l1 l2 norm regularization)\n",
    "### Model chosen features"
   ]
  },
  {
   "cell_type": "code",
   "execution_count": 41,
   "metadata": {
    "ExecuteTime": {
     "end_time": "2020-01-17T05:56:07.757325Z",
     "start_time": "2020-01-17T05:56:07.750305Z"
    }
   },
   "outputs": [],
   "source": [
    "net_param_grid = {\n",
    "    'alpha':[0.1, 0.3, 0.5, 0.8, 1.0],\n",
    "    'l1_ratio':[0.0, 0.2, 0.4, 0.6, 0.8, 1.0],\n",
    "    'fit_intercept':[True, False],\n",
    "    'max_iter': [1000, 3000, 5000],\n",
    "    'tol':[0.0001, 0.001, 0.01],\n",
    "    'selection':['cyclic', 'random']\n",
    "}"
   ]
  },
  {
   "cell_type": "code",
   "execution_count": 42,
   "metadata": {
    "ExecuteTime": {
     "end_time": "2020-01-17T05:56:58.966814Z",
     "start_time": "2020-01-17T05:56:19.112124Z"
    }
   },
   "outputs": [
    {
     "name": "stdout",
     "output_type": "stream",
     "text": [
      "ElasticNet grid search.\n"
     ]
    },
    {
     "name": "stderr",
     "output_type": "stream",
     "text": [
      "C:\\Users\\jtd1g16\\AppData\\Local\\Continuum\\anaconda3\\lib\\site-packages\\sklearn\\model_selection\\_split.py:1978: FutureWarning: The default value of cv will change from 3 to 5 in version 0.22. Specify it explicitly to silence this warning.\n",
      "  warnings.warn(CV_WARNING, FutureWarning)\n"
     ]
    },
    {
     "name": "stdout",
     "output_type": "stream",
     "text": [
      "{'alpha': 0.1, 'fit_intercept': False, 'l1_ratio': 0.8, 'max_iter': 3000, 'selection': 'cyclic', 'tol': 0.0001}\n",
      "Training Score:\t 0.7134538033619403\n",
      "Testing Score:\t 0.7453632055451128\n",
      "ElasticNet run at: 2020-01-17 05:56:58.961798 . Saving to models/DRAGON_noVPAS/ElasticNet_model_17_01_2020_05_56_58.joblib\n"
     ]
    }
   ],
   "source": [
    "X_train, X_test = X_train_main[top_15_features_model], X_test_main[top_15_features_model]\n",
    "best_hp = grid_search_return_hp_dict(ElasticNet(), X_train, y_train, net_param_grid)\n",
    "\n",
    "net_model = ElasticNet(**best_hp)\n",
    "net_model.fit(X_train, y_train)\n",
    "exp_vs_calc_net_model = produce_exp_vs_pred_df('top_15_features_model', net_model, \"ElasticNet model features\")"
   ]
  },
  {
   "cell_type": "markdown",
   "metadata": {},
   "source": [
    "### F regression features"
   ]
  },
  {
   "cell_type": "code",
   "execution_count": 43,
   "metadata": {
    "ExecuteTime": {
     "end_time": "2020-01-17T05:58:12.294870Z",
     "start_time": "2020-01-17T05:57:10.374599Z"
    }
   },
   "outputs": [
    {
     "name": "stdout",
     "output_type": "stream",
     "text": [
      "ElasticNet grid search.\n"
     ]
    },
    {
     "name": "stderr",
     "output_type": "stream",
     "text": [
      "C:\\Users\\jtd1g16\\AppData\\Local\\Continuum\\anaconda3\\lib\\site-packages\\sklearn\\model_selection\\_split.py:1978: FutureWarning: The default value of cv will change from 3 to 5 in version 0.22. Specify it explicitly to silence this warning.\n",
      "  warnings.warn(CV_WARNING, FutureWarning)\n",
      "C:\\Users\\jtd1g16\\AppData\\Local\\Continuum\\anaconda3\\lib\\site-packages\\sklearn\\linear_model\\coordinate_descent.py:475: ConvergenceWarning: Objective did not converge. You might want to increase the number of iterations. Duality gap: 10978.14596703574, tolerance: 78.61287863090288\n",
      "  positive)\n",
      "C:\\Users\\jtd1g16\\AppData\\Local\\Continuum\\anaconda3\\lib\\site-packages\\sklearn\\linear_model\\coordinate_descent.py:475: ConvergenceWarning: Objective did not converge. You might want to increase the number of iterations. Duality gap: 10979.363160643945, tolerance: 78.61287863090288\n",
      "  positive)\n"
     ]
    },
    {
     "name": "stdout",
     "output_type": "stream",
     "text": [
      "{'alpha': 0.1, 'fit_intercept': True, 'l1_ratio': 0.0, 'max_iter': 3000, 'selection': 'random', 'tol': 0.001}\n",
      "Training Score:\t 0.7332180807485775\n",
      "Testing Score:\t 0.7301068054649074\n",
      "ElasticNet run at: 2020-01-17 05:58:12.288854 . Saving to models/DRAGON_noVPAS/ElasticNet_kbest_17_01_2020_05_58_12.joblib\n"
     ]
    }
   ],
   "source": [
    "X_train, X_test = X_train_main[top_15_features_kbest], X_test_main[top_15_features_kbest]\n",
    "best_hp = grid_search_return_hp_dict(ElasticNet(), X_train, y_train, net_param_grid)\n",
    "\n",
    "net_freg = ElasticNet(**best_hp)\n",
    "net_freg.fit(X_train, y_train)\n",
    "exp_vs_calc_net_freg = produce_exp_vs_pred_df('top_15_features_kbest', net_freg, \"ElasticNet freg features\")"
   ]
  },
  {
   "cell_type": "markdown",
   "metadata": {},
   "source": [
    "### Mutual info features"
   ]
  },
  {
   "cell_type": "code",
   "execution_count": 44,
   "metadata": {
    "ExecuteTime": {
     "end_time": "2020-01-17T05:59:22.498246Z",
     "start_time": "2020-01-17T05:58:23.823817Z"
    }
   },
   "outputs": [
    {
     "name": "stdout",
     "output_type": "stream",
     "text": [
      "ElasticNet grid search.\n"
     ]
    },
    {
     "name": "stderr",
     "output_type": "stream",
     "text": [
      "C:\\Users\\jtd1g16\\AppData\\Local\\Continuum\\anaconda3\\lib\\site-packages\\sklearn\\model_selection\\_split.py:1978: FutureWarning: The default value of cv will change from 3 to 5 in version 0.22. Specify it explicitly to silence this warning.\n",
      "  warnings.warn(CV_WARNING, FutureWarning)\n",
      "C:\\Users\\jtd1g16\\AppData\\Local\\Continuum\\anaconda3\\lib\\site-packages\\sklearn\\linear_model\\coordinate_descent.py:475: ConvergenceWarning: Objective did not converge. You might want to increase the number of iterations. Duality gap: 113.7454182191832, tolerance: 7.941628996607655\n",
      "  positive)\n",
      "C:\\Users\\jtd1g16\\AppData\\Local\\Continuum\\anaconda3\\lib\\site-packages\\sklearn\\linear_model\\coordinate_descent.py:475: ConvergenceWarning: Objective did not converge. You might want to increase the number of iterations. Duality gap: 113.7454182191832, tolerance: 7.941628996607655\n",
      "  positive)\n"
     ]
    },
    {
     "name": "stdout",
     "output_type": "stream",
     "text": [
      "{'alpha': 0.1, 'fit_intercept': False, 'l1_ratio': 1.0, 'max_iter': 5000, 'selection': 'cyclic', 'tol': 0.0001}\n",
      "Training Score:\t 0.6970302526384997\n",
      "Testing Score:\t 0.6787535164371025\n",
      "ElasticNet run at: 2020-01-17 05:59:22.492231 . Saving to models/DRAGON_noVPAS/ElasticNet_mutual_info_17_01_2020_05_59_22.joblib\n"
     ]
    }
   ],
   "source": [
    "X_train, X_test = X_train_main[top_15_features_mutual_info], X_test_main[top_15_features_mutual_info]\n",
    "best_hp = grid_search_return_hp_dict(ElasticNet(), X_train, y_train, net_param_grid)\n",
    "\n",
    "net_mu = ElasticNet(**best_hp)\n",
    "net_mu.fit(X_train, y_train)\n",
    "exp_vs_calc_net_mu = produce_exp_vs_pred_df('top_15_features_mutual_info', net_mu, \"ElasticNet mutual info features\")"
   ]
  },
  {
   "cell_type": "markdown",
   "metadata": {},
   "source": [
    "### LASSO features"
   ]
  },
  {
   "cell_type": "code",
   "execution_count": 45,
   "metadata": {
    "ExecuteTime": {
     "end_time": "2020-01-17T06:00:05.016950Z",
     "start_time": "2020-01-17T05:59:34.404713Z"
    }
   },
   "outputs": [
    {
     "name": "stdout",
     "output_type": "stream",
     "text": [
      "ElasticNet grid search.\n"
     ]
    },
    {
     "name": "stderr",
     "output_type": "stream",
     "text": [
      "C:\\Users\\jtd1g16\\AppData\\Local\\Continuum\\anaconda3\\lib\\site-packages\\sklearn\\model_selection\\_split.py:1978: FutureWarning: The default value of cv will change from 3 to 5 in version 0.22. Specify it explicitly to silence this warning.\n",
      "  warnings.warn(CV_WARNING, FutureWarning)\n",
      "C:\\Users\\jtd1g16\\AppData\\Local\\Continuum\\anaconda3\\lib\\site-packages\\sklearn\\linear_model\\coordinate_descent.py:475: ConvergenceWarning: Objective did not converge. You might want to increase the number of iterations. Duality gap: 12487.608190337094, tolerance: 78.61287863090288\n",
      "  positive)\n",
      "C:\\Users\\jtd1g16\\AppData\\Local\\Continuum\\anaconda3\\lib\\site-packages\\sklearn\\linear_model\\coordinate_descent.py:475: ConvergenceWarning: Objective did not converge. You might want to increase the number of iterations. Duality gap: 12487.608190337089, tolerance: 78.61287863090288\n",
      "  positive)\n"
     ]
    },
    {
     "name": "stdout",
     "output_type": "stream",
     "text": [
      "{'alpha': 0.1, 'fit_intercept': True, 'l1_ratio': 0.0, 'max_iter': 1000, 'selection': 'random', 'tol': 0.001}\n",
      "Training Score:\t 0.684349499730894\n",
      "Testing Score:\t 0.6739856745936135\n",
      "ElasticNet run at: 2020-01-17 06:00:05.008927 . Saving to models/DRAGON_noVPAS/ElasticNet_lasso_17_01_2020_06_00_05.joblib\n"
     ]
    }
   ],
   "source": [
    "X_train, X_test = X_train_main[top_15_features_lasso], X_test_main[top_15_features_lasso]\n",
    "best_hp = grid_search_return_hp_dict(ElasticNet(), X_train, y_train, net_param_grid)\n",
    "\n",
    "net_lasso = ElasticNet(**best_hp)\n",
    "net_lasso.fit(X_train, y_train)\n",
    "exp_vs_calc_net_lasso = produce_exp_vs_pred_df('top_15_features_lasso', net_lasso, \"ElasticNet lasso features\")"
   ]
  },
  {
   "cell_type": "markdown",
   "metadata": {},
   "source": [
    "# Scores and visualisation"
   ]
  },
  {
   "cell_type": "code",
   "execution_count": 46,
   "metadata": {
    "ExecuteTime": {
     "end_time": "2020-01-17T06:00:16.590261Z",
     "start_time": "2020-01-17T06:00:16.554325Z"
    }
   },
   "outputs": [],
   "source": [
    "exp_vs_calc_df_list = []\n",
    "model_list = []\n",
    "for var in dir():\n",
    "    if isinstance(eval(var), pd.core.frame.DataFrame):\n",
    "        if var[0:3] == 'exp':\n",
    "            exp_vs_calc_df_list.append(var)\n",
    "            model_list.append(var[12:])\n",
    "exp_vs_calc_model_dict = dict(zip(model_list, exp_vs_calc_df_list))"
   ]
  },
  {
   "cell_type": "code",
   "execution_count": 47,
   "metadata": {
    "ExecuteTime": {
     "end_time": "2020-01-17T06:00:27.956342Z",
     "start_time": "2020-01-17T06:00:27.942319Z"
    }
   },
   "outputs": [
    {
     "data": {
      "text/plain": [
       "['test_scores.joblib']"
      ]
     },
     "execution_count": 47,
     "metadata": {},
     "output_type": "execute_result"
    }
   ],
   "source": [
    "joblib.dump(train_scores, \"train_scores.joblib\")\n",
    "joblib.dump(test_scores, \"test_scores.joblib\")"
   ]
  },
  {
   "cell_type": "code",
   "execution_count": 50,
   "metadata": {
    "ExecuteTime": {
     "end_time": "2020-01-17T10:47:04.876735Z",
     "start_time": "2020-01-17T10:47:04.264566Z"
    },
    "scrolled": false
   },
   "outputs": [
    {
     "data": {
      "text/plain": [
       "'Training Scores'"
      ]
     },
     "metadata": {},
     "output_type": "display_data"
    },
    {
     "data": {
      "text/plain": [
       "{'GradBoost, model-chosen features': 0.9136506916481263,\n",
       " 'GradBoost, f_reg features': 0.9317395172085381,\n",
       " 'GradBoost, Mutual Info': 0.9379608336062498,\n",
       " 'LASSO-features, GBR model': 0.996589735091017,\n",
       " 'Decision Tree, model-chosen features': 0.9141647290701933,\n",
       " 'Decision Tree, freg features': 0.824735879420048,\n",
       " 'Decision Tree, mutual info features': 0.8595461536744464,\n",
       " 'Decision Tree, lasso features': 0.8840999565633477,\n",
       " 'AdaBoost, model features': 0.9926354574810684,\n",
       " 'AdaBoost, freg features': 0.9979723730365371,\n",
       " 'AdaBoost, mutual info features': 0.9997045578005971,\n",
       " 'LASSO, model features': 0.7025515174084993,\n",
       " 'LASSO, f-reg features': 0.7247376293705728,\n",
       " 'LASSO, mutual info features': 0.6858987473879607,\n",
       " 'LASSO, lasso features': 0.6833898806906213,\n",
       " 'RandomForest, model features': 0.9774090544159082,\n",
       " 'RandomForest, freg features': 0.9721752491187455,\n",
       " 'RandomForest, mutual info features': 0.9729434173898541,\n",
       " 'RandomForest, lasso features': 0.9714625413023873,\n",
       " 'LARS model features': -5.118873363102049,\n",
       " 'LARS freg features': 0.412098008114794,\n",
       " 'LARS mutual info features': -4.03397309481404,\n",
       " 'LARS lasso features': 0.6395259500652293,\n",
       " 'ElasticNet model features': 0.7134538033619403,\n",
       " 'ElasticNet freg features': 0.7332180807485775,\n",
       " 'ElasticNet mutual info features': 0.6970302526384997,\n",
       " 'ElasticNet lasso features': 0.684349499730894}"
      ]
     },
     "metadata": {},
     "output_type": "display_data"
    },
    {
     "data": {
      "text/plain": [
       "'Testing Scores'"
      ]
     },
     "metadata": {},
     "output_type": "display_data"
    },
    {
     "data": {
      "text/plain": [
       "{'GradBoost, model-chosen features': 0.8532764923340206,\n",
       " 'GradBoost, f_reg features': 0.8411981283092483,\n",
       " 'GradBoost, Mutual Info': 0.8544833146624162,\n",
       " 'LASSO-features, GBR model': 0.8161460167193553,\n",
       " 'Decision Tree, model-chosen features': 0.7956771880980333,\n",
       " 'Decision Tree, freg features': 0.7707477970128914,\n",
       " 'Decision Tree, mutual info features': 0.7715041249308991,\n",
       " 'Decision Tree, lasso features': 0.7448102791928264,\n",
       " 'AdaBoost, model features': 0.8080655222178783,\n",
       " 'AdaBoost, freg features': 0.8433963130222173,\n",
       " 'AdaBoost, mutual info features': 0.8365182791277487,\n",
       " 'LASSO, model features': 0.7357933019197427,\n",
       " 'LASSO, f-reg features': 0.7171477393839785,\n",
       " 'LASSO, mutual info features': 0.6714929045146443,\n",
       " 'LASSO, lasso features': 0.6737594517258707,\n",
       " 'RandomForest, model features': 0.8582042794564964,\n",
       " 'RandomForest, freg features': 0.8401657504277648,\n",
       " 'RandomForest, mutual info features': 0.8415611230823128,\n",
       " 'RandomForest, lasso features': 0.810773797396149,\n",
       " 'LARS model features': -4.66823156501682,\n",
       " 'LARS freg features': 0.36890756929970014,\n",
       " 'LARS mutual info features': -3.6461882169232736,\n",
       " 'LARS lasso features': 0.6194334350344687,\n",
       " 'ElasticNet model features': 0.7453632055451128,\n",
       " 'ElasticNet freg features': 0.7301068054649074,\n",
       " 'ElasticNet mutual info features': 0.6787535164371025,\n",
       " 'ElasticNet lasso features': 0.6739856745936135}"
      ]
     },
     "metadata": {},
     "output_type": "display_data"
    },
    {
     "data": {
      "application/vnd.jupyter.widget-view+json": {
       "model_id": "66605d5a09e04ff3823de762bb6900af",
       "version_major": 2,
       "version_minor": 0
      },
      "text/plain": [
       "interactive(children=(Dropdown(description='Model', options=('ada_freg', 'ada_lasso', 'ada_model', 'ada_mu', '…"
      ]
     },
     "metadata": {},
     "output_type": "display_data"
    }
   ],
   "source": [
    "display(\"Training Scores\", train_scores, \"Testing Scores\", test_scores)\n",
    "mpld3.enable_notebook() #must enable\n",
    "@widgets.interact()\n",
    "\n",
    "def show_pred_vs_actual(Model = model_list):\n",
    "    pred_df = eval(exp_vs_calc_model_dict[Model])\n",
    "    model = eval(Model)\n",
    "    prediction_plot_scores(model, pred_df)"
   ]
  }
 ],
 "metadata": {
  "kernelspec": {
   "display_name": "Python 3",
   "language": "python",
   "name": "python3"
  },
  "language_info": {
   "codemirror_mode": {
    "name": "ipython",
    "version": 3
   },
   "file_extension": ".py",
   "mimetype": "text/x-python",
   "name": "python",
   "nbconvert_exporter": "python",
   "pygments_lexer": "ipython3",
   "version": "3.7.3"
  },
  "notify_time": "30",
  "toc": {
   "base_numbering": 1,
   "nav_menu": {},
   "number_sections": true,
   "sideBar": true,
   "skip_h1_title": false,
   "title_cell": "Table of Contents",
   "title_sidebar": "Contents",
   "toc_cell": false,
   "toc_position": {
    "height": "calc(100% - 180px)",
    "left": "10px",
    "top": "150px",
    "width": "303.516px"
   },
   "toc_section_display": true,
   "toc_window_display": true
  },
  "varInspector": {
   "cols": {
    "lenName": 16,
    "lenType": 16,
    "lenVar": 40
   },
   "kernels_config": {
    "python": {
     "delete_cmd_postfix": "",
     "delete_cmd_prefix": "del ",
     "library": "var_list.py",
     "varRefreshCmd": "print(var_dic_list())"
    },
    "r": {
     "delete_cmd_postfix": ") ",
     "delete_cmd_prefix": "rm(",
     "library": "var_list.r",
     "varRefreshCmd": "cat(var_dic_list()) "
    }
   },
   "types_to_exclude": [
    "module",
    "function",
    "builtin_function_or_method",
    "instance",
    "_Feature"
   ],
   "window_display": false
  }
 },
 "nbformat": 4,
 "nbformat_minor": 2
}
