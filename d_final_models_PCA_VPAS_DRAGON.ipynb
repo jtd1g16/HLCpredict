{
 "cells": [
  {
   "cell_type": "markdown",
   "metadata": {},
   "source": [
    "# Initialisations"
   ]
  },
  {
   "cell_type": "code",
   "execution_count": 1,
   "metadata": {
    "ExecuteTime": {
     "end_time": "2020-01-17T13:05:44.923814Z",
     "start_time": "2020-01-17T13:05:42.066934Z"
    }
   },
   "outputs": [],
   "source": [
    "import pandas as pd ; pd.set_option('display.max_columns', 500) # dataframes\n",
    "import numpy as np # mathsy bits\n",
    "import ipywidgets as widgets # widgets\n",
    "\n",
    "from sklearn.model_selection import train_test_split #split data into train and test sets\n",
    "\n",
    "# feature selection + gridsearch\n",
    "from sklearn.feature_selection import SelectFromModel, SelectKBest\n",
    "from sklearn.feature_selection import f_regression, mutual_info_regression\n",
    "from sklearn.model_selection import GridSearchCV\n",
    "\n",
    "# pca\n",
    "from sklearn.preprocessing import StandardScaler\n",
    "from sklearn.decomposition import PCA\n",
    "\n",
    "# models\n",
    "from sklearn.linear_model import Lars, ElasticNet, Lasso\n",
    "from sklearn.tree import DecisionTreeRegressor\n",
    "from sklearn.ensemble import RandomForestRegressor, ExtraTreesRegressor\n",
    "from sklearn.ensemble import AdaBoostRegressor, GradientBoostingRegressor\n",
    "\n",
    "import joblib # saving models\n",
    "from datetime import datetime # get time for labelling saved models\n",
    "\n",
    "# visualization\n",
    "import matplotlib.pyplot as plt\n",
    "%matplotlib inline\n",
    "\n",
    "import mpld3 # hover-over labels for plots\n",
    "mpld3.disable_notebook()\n",
    "\n",
    "train_scores = dict() ; test_scores  = dict() #to hold scores for viewing at the end"
   ]
  },
  {
   "cell_type": "code",
   "execution_count": 2,
   "metadata": {
    "ExecuteTime": {
     "end_time": "2020-01-17T13:05:44.952260Z",
     "start_time": "2020-01-17T13:05:44.926191Z"
    }
   },
   "outputs": [],
   "source": [
    "def grid_search_return_hp_dict(model, X_train_gs, y_train_gs, param_grid):\n",
    "    \"\"\"Run GridSearchCV on given model with defined param_grid, return best params as dict.\n",
    "    Pre-assign sklearn model to variable. Pass param_grid as dict.\"\"\"\n",
    "    print(str(model).split(sep='(')[0], \"grid search.\")\n",
    "    GS = GridSearchCV(model, param_grid, n_jobs=2)\n",
    "    GS.fit(X_train_gs, y_train_gs)\n",
    "    print(GS.best_params_)\n",
    "    return(GS.best_params_)\n",
    "\n",
    "def produce_exp_vs_pred_df(features_list, model, codename):\n",
    "    \"\"\"Pass features_list as a string\"\"\"\n",
    "    pred_list = []\n",
    "    for i in range(0, len(pca_features)):\n",
    "        prediction = model.predict(np.array(pca_features.iloc[i]).reshape(1, -1))\n",
    "        pred_list.append(prediction)\n",
    "    train_scores.update({codename : model.score(X_train, y_train)})\n",
    "    test_scores.update({codename : model.score(X_test, y_test)})\n",
    "    \n",
    "    print('Training Score:\\t', model.score(X_train, y_train))\n",
    "    print('Testing Score:\\t', model.score(X_test, y_test))\n",
    "    \n",
    "    exp_vs_calc = pd.DataFrame(constants_first)\n",
    "    exp_vs_calc['Predicted'] = pred_list\n",
    "    exp_vs_calc.rename({'Kh_first':'Experimental'}, inplace=True, axis=1)\n",
    "    \n",
    "    now = datetime.now()\n",
    "\n",
    "    dt_string = now.strftime(\"_%d_%m_%Y_%H_%M_%S\")\n",
    "    filename = \"models/PCA_DRAGON_VPAS/\" + str(model).split(sep='(')[0] + \"_pca\" + dt_string + \".joblib\"\n",
    "    print(str(model).split(sep='(')[0], \"run at:\", now, \". Saving to\", filename)\n",
    "    \n",
    "    joblib.dump(model, filename)\n",
    "    return exp_vs_calc\n",
    "\n",
    "def prediction_plot_scores(model_func, pred_df):\n",
    "    \"\"\"Print train+test scores, then plot scatter of predicted vs actual HLCs. Uses {X/y}_{train/test},\n",
    "    redefining these variables will change the output.\"\"\"\n",
    "    #print('Training Score:\\t', model_func.score(X_train, y_train))\n",
    "    #print('Testing Score:\\t', model_func.score(X_test, y_test))\n",
    "    fig = plt.figure(figsize=(10, 10))\n",
    "    scatter = plt.scatter(pred_df['Experimental'], pred_df['Predicted'])\n",
    "    plt.xlabel('Experimental')\n",
    "    plt.ylabel('Predicted')\n",
    "    plt.title('%s predictions of HLCs' %str(model_func).split(sep='(')[0])\n",
    "    labels = ['{}'.format(i) for i in species_names]\n",
    "    tooltip = mpld3.plugins.PointLabelTooltip(scatter, labels=labels)\n",
    "    mpld3.plugins.connect(fig, tooltip)\n",
    "    plt.plot([-30, 10], [-30, 10], c='red')\n",
    "    plt.show()"
   ]
  },
  {
   "cell_type": "markdown",
   "metadata": {},
   "source": [
    "# DRAGON descriptors\n",
    "## Bringing in data and splitting it into parts"
   ]
  },
  {
   "cell_type": "code",
   "execution_count": 3,
   "metadata": {
    "ExecuteTime": {
     "end_time": "2020-01-17T13:05:45.680087Z",
     "start_time": "2020-01-17T13:05:44.958277Z"
    }
   },
   "outputs": [
    {
     "name": "stdout",
     "output_type": "stream",
     "text": [
      "Input Shape (2075, 1480)\n",
      "Removed NaN, new shape (2068, 1480)\n"
     ]
    }
   ],
   "source": [
    "csv = pd.read_csv('filtered_organics_desc_kh.csv') # contains VP/AS HLCs\n",
    "\n",
    "print(\"Input Shape\", csv.shape) #input shape\n",
    "\n",
    "csv.dropna(axis=0, inplace=True)\n",
    "\n",
    "print(\"Removed NaN, new shape\", csv.shape) #removed NaN shape\n",
    "\n",
    "smiles_strings = csv.pop('Unnamed: 0')\n",
    "species_names = csv.pop('0')\n",
    "constants_mean = csv.pop('Kh_mean')\n",
    "constants_first = csv.pop('Kh_first')\n",
    "\n",
    "varying_columns = csv[['Varying_1', 'Varying_2', 'Varying_3', 'Varying_4',\n",
    " 'Varying_5', 'Varying_6', 'Varying_7', 'Varying_8', 'Varying_9']] # popping one-hot encoding columns\n",
    "\n",
    "dragon_features = csv.drop(['Varying_1', 'Varying_2', 'Varying_3', 'Varying_4',\n",
    " 'Varying_5', 'Varying_6', 'Varying_7', 'Varying_8', 'Varying_9'], axis=1) #seperating features\n",
    "\n"
   ]
  },
  {
   "cell_type": "markdown",
   "metadata": {},
   "source": [
    "## PCA"
   ]
  },
  {
   "cell_type": "code",
   "execution_count": 4,
   "metadata": {
    "ExecuteTime": {
     "end_time": "2020-01-17T13:05:46.018986Z",
     "start_time": "2020-01-17T13:05:45.683094Z"
    }
   },
   "outputs": [],
   "source": [
    "pca_standard_x = StandardScaler().fit_transform(dragon_features)\n",
    "pca = PCA(n_components=15)\n",
    "pca_components = pca.fit_transform(pca_standard_x)\n",
    "\n",
    "pca_features = pd.DataFrame(data = pca_components)\n",
    "pca_df = pd.concat([pca_features, constants_first])"
   ]
  },
  {
   "cell_type": "code",
   "execution_count": 5,
   "metadata": {
    "ExecuteTime": {
     "end_time": "2020-01-17T13:05:46.049067Z",
     "start_time": "2020-01-17T13:05:46.020992Z"
    }
   },
   "outputs": [
    {
     "data": {
      "text/html": [
       "<div>\n",
       "<style scoped>\n",
       "    .dataframe tbody tr th:only-of-type {\n",
       "        vertical-align: middle;\n",
       "    }\n",
       "\n",
       "    .dataframe tbody tr th {\n",
       "        vertical-align: top;\n",
       "    }\n",
       "\n",
       "    .dataframe thead th {\n",
       "        text-align: right;\n",
       "    }\n",
       "</style>\n",
       "<table border=\"1\" class=\"dataframe\">\n",
       "  <thead>\n",
       "    <tr style=\"text-align: right;\">\n",
       "      <th></th>\n",
       "      <th>0</th>\n",
       "      <th>1</th>\n",
       "      <th>2</th>\n",
       "      <th>3</th>\n",
       "      <th>4</th>\n",
       "      <th>5</th>\n",
       "      <th>6</th>\n",
       "      <th>7</th>\n",
       "      <th>8</th>\n",
       "      <th>9</th>\n",
       "      <th>10</th>\n",
       "      <th>11</th>\n",
       "      <th>12</th>\n",
       "      <th>13</th>\n",
       "      <th>14</th>\n",
       "    </tr>\n",
       "  </thead>\n",
       "  <tbody>\n",
       "    <tr>\n",
       "      <th>0</th>\n",
       "      <td>-36.860026</td>\n",
       "      <td>6.900018</td>\n",
       "      <td>0.607076</td>\n",
       "      <td>5.243564</td>\n",
       "      <td>5.849608</td>\n",
       "      <td>14.852287</td>\n",
       "      <td>-3.153825</td>\n",
       "      <td>-6.243518</td>\n",
       "      <td>-1.884733</td>\n",
       "      <td>-1.025200</td>\n",
       "      <td>-2.661705</td>\n",
       "      <td>0.114541</td>\n",
       "      <td>0.587299</td>\n",
       "      <td>-1.237348</td>\n",
       "      <td>-0.811040</td>\n",
       "    </tr>\n",
       "    <tr>\n",
       "      <th>1</th>\n",
       "      <td>-32.152179</td>\n",
       "      <td>6.049895</td>\n",
       "      <td>-1.742206</td>\n",
       "      <td>5.710479</td>\n",
       "      <td>4.939049</td>\n",
       "      <td>13.700101</td>\n",
       "      <td>-2.175988</td>\n",
       "      <td>-5.002545</td>\n",
       "      <td>-2.177486</td>\n",
       "      <td>0.829409</td>\n",
       "      <td>-2.981593</td>\n",
       "      <td>0.166138</td>\n",
       "      <td>1.022370</td>\n",
       "      <td>-0.539167</td>\n",
       "      <td>-3.276557</td>\n",
       "    </tr>\n",
       "    <tr>\n",
       "      <th>2</th>\n",
       "      <td>-26.016767</td>\n",
       "      <td>5.078370</td>\n",
       "      <td>-3.387507</td>\n",
       "      <td>3.884430</td>\n",
       "      <td>2.708417</td>\n",
       "      <td>8.443312</td>\n",
       "      <td>0.474228</td>\n",
       "      <td>-2.812891</td>\n",
       "      <td>-1.755071</td>\n",
       "      <td>-0.338023</td>\n",
       "      <td>-1.292612</td>\n",
       "      <td>-0.222576</td>\n",
       "      <td>2.286590</td>\n",
       "      <td>1.454164</td>\n",
       "      <td>-0.511096</td>\n",
       "    </tr>\n",
       "    <tr>\n",
       "      <th>3</th>\n",
       "      <td>-20.942300</td>\n",
       "      <td>4.029370</td>\n",
       "      <td>-5.477529</td>\n",
       "      <td>2.465034</td>\n",
       "      <td>0.994654</td>\n",
       "      <td>4.380148</td>\n",
       "      <td>2.054669</td>\n",
       "      <td>-1.229627</td>\n",
       "      <td>-1.665471</td>\n",
       "      <td>0.351866</td>\n",
       "      <td>-0.785901</td>\n",
       "      <td>-1.342538</td>\n",
       "      <td>1.711902</td>\n",
       "      <td>2.691001</td>\n",
       "      <td>-1.167079</td>\n",
       "    </tr>\n",
       "    <tr>\n",
       "      <th>4</th>\n",
       "      <td>-21.649762</td>\n",
       "      <td>4.491667</td>\n",
       "      <td>-5.045159</td>\n",
       "      <td>2.773506</td>\n",
       "      <td>1.459018</td>\n",
       "      <td>5.258322</td>\n",
       "      <td>2.794104</td>\n",
       "      <td>-1.845114</td>\n",
       "      <td>-1.970487</td>\n",
       "      <td>-1.530491</td>\n",
       "      <td>0.825757</td>\n",
       "      <td>0.075165</td>\n",
       "      <td>4.307395</td>\n",
       "      <td>2.411842</td>\n",
       "      <td>1.646211</td>\n",
       "    </tr>\n",
       "  </tbody>\n",
       "</table>\n",
       "</div>"
      ],
      "text/plain": [
       "          0         1         2         3         4          5         6   \\\n",
       "0 -36.860026  6.900018  0.607076  5.243564  5.849608  14.852287 -3.153825   \n",
       "1 -32.152179  6.049895 -1.742206  5.710479  4.939049  13.700101 -2.175988   \n",
       "2 -26.016767  5.078370 -3.387507  3.884430  2.708417   8.443312  0.474228   \n",
       "3 -20.942300  4.029370 -5.477529  2.465034  0.994654   4.380148  2.054669   \n",
       "4 -21.649762  4.491667 -5.045159  2.773506  1.459018   5.258322  2.794104   \n",
       "\n",
       "         7         8         9         10        11        12        13  \\\n",
       "0 -6.243518 -1.884733 -1.025200 -2.661705  0.114541  0.587299 -1.237348   \n",
       "1 -5.002545 -2.177486  0.829409 -2.981593  0.166138  1.022370 -0.539167   \n",
       "2 -2.812891 -1.755071 -0.338023 -1.292612 -0.222576  2.286590  1.454164   \n",
       "3 -1.229627 -1.665471  0.351866 -0.785901 -1.342538  1.711902  2.691001   \n",
       "4 -1.845114 -1.970487 -1.530491  0.825757  0.075165  4.307395  2.411842   \n",
       "\n",
       "         14  \n",
       "0 -0.811040  \n",
       "1 -3.276557  \n",
       "2 -0.511096  \n",
       "3 -1.167079  \n",
       "4  1.646211  "
      ]
     },
     "execution_count": 5,
     "metadata": {},
     "output_type": "execute_result"
    }
   ],
   "source": [
    "pca_df.head()"
   ]
  },
  {
   "cell_type": "code",
   "execution_count": 6,
   "metadata": {
    "ExecuteTime": {
     "end_time": "2020-01-17T13:05:46.187433Z",
     "start_time": "2020-01-17T13:05:46.052075Z"
    }
   },
   "outputs": [],
   "source": [
    "X_train, X_test, y_train, y_test = train_test_split(pca_features, constants_first, test_size=0.3)"
   ]
  },
  {
   "cell_type": "markdown",
   "metadata": {},
   "source": [
    "## GradientBoosting\n",
    "### Model-chosen features"
   ]
  },
  {
   "cell_type": "code",
   "execution_count": 7,
   "metadata": {
    "ExecuteTime": {
     "end_time": "2020-01-17T13:05:46.321552Z",
     "start_time": "2020-01-17T13:05:46.189439Z"
    }
   },
   "outputs": [],
   "source": [
    "gbr_param_grid = {\n",
    "    'n_estimators': [500, 1000, 2000],\n",
    "    'max_depth': [2, 4, 6],\n",
    "    'min_samples_leaf': [3, 5, 9, 17],\n",
    "    'learning_rate': [0.1, 0.05, 0.02],\n",
    "    'max_features': [1.0, 0.3, 0.1],\n",
    "    'loss': ['ls', 'lad', 'huber']\n",
    "} #hyperparameters for each gbr grid search"
   ]
  },
  {
   "cell_type": "code",
   "execution_count": 8,
   "metadata": {
    "ExecuteTime": {
     "end_time": "2020-01-17T14:16:42.542924Z",
     "start_time": "2020-01-17T13:05:46.329572Z"
    },
    "scrolled": false
   },
   "outputs": [
    {
     "name": "stdout",
     "output_type": "stream",
     "text": [
      "GradientBoostingRegressor grid search.\n"
     ]
    },
    {
     "name": "stderr",
     "output_type": "stream",
     "text": [
      "C:\\Users\\jtd1g16\\AppData\\Local\\Continuum\\anaconda3\\lib\\site-packages\\sklearn\\model_selection\\_split.py:1978: FutureWarning: The default value of cv will change from 3 to 5 in version 0.22. Specify it explicitly to silence this warning.\n",
      "  warnings.warn(CV_WARNING, FutureWarning)\n"
     ]
    },
    {
     "name": "stdout",
     "output_type": "stream",
     "text": [
      "{'learning_rate': 0.02, 'loss': 'huber', 'max_depth': 6, 'max_features': 0.3, 'min_samples_leaf': 9, 'n_estimators': 2000}\n",
      "Training Score:\t 0.9857430273654677\n",
      "Testing Score:\t 0.8176338827919104\n",
      "GradientBoostingRegressor run at: 2020-01-17 14:16:42.240120 . Saving to models/PCA_DRAGON_VPAS/GradientBoostingRegressor_pca_17_01_2020_14_16_42.joblib\n"
     ]
    }
   ],
   "source": [
    "best_hp = grid_search_return_hp_dict(GradientBoostingRegressor(),\n",
    "                                     X_train, y_train, gbr_param_grid)\n",
    "\n",
    "gbr_model = GradientBoostingRegressor(**best_hp)\n",
    "gbr_model.fit(X_train, y_train)\n",
    "\n",
    "exp_vs_calc_gbr_model = produce_exp_vs_pred_df('top_15_features_model', gbr_model,\n",
    "                                         \"GradBoost, model-chosen features\")"
   ]
  },
  {
   "cell_type": "markdown",
   "metadata": {},
   "source": [
    "### F-regression features"
   ]
  },
  {
   "cell_type": "code",
   "execution_count": 10,
   "metadata": {
    "ExecuteTime": {
     "end_time": "2020-01-17T15:36:43.860773Z",
     "start_time": "2020-01-17T14:17:40.238230Z"
    },
    "scrolled": false
   },
   "outputs": [
    {
     "name": "stdout",
     "output_type": "stream",
     "text": [
      "GradientBoostingRegressor grid search.\n"
     ]
    },
    {
     "name": "stderr",
     "output_type": "stream",
     "text": [
      "C:\\Users\\jtd1g16\\AppData\\Local\\Continuum\\anaconda3\\lib\\site-packages\\sklearn\\model_selection\\_split.py:1978: FutureWarning: The default value of cv will change from 3 to 5 in version 0.22. Specify it explicitly to silence this warning.\n",
      "  warnings.warn(CV_WARNING, FutureWarning)\n"
     ]
    },
    {
     "name": "stdout",
     "output_type": "stream",
     "text": [
      "{'learning_rate': 0.02, 'loss': 'huber', 'max_depth': 6, 'max_features': 0.3, 'min_samples_leaf': 3, 'n_estimators': 2000}\n",
      "Training Score:\t 0.9964791587515248\n",
      "Testing Score:\t 0.8090169824873324\n",
      "GradientBoostingRegressor run at: 2020-01-17 15:36:43.683301 . Saving to models/PCA_DRAGON_VPAS/GradientBoostingRegressor_pca_17_01_2020_15_36_43.joblib\n"
     ]
    }
   ],
   "source": [
    "best_hp = grid_search_return_hp_dict(GradientBoostingRegressor(),\n",
    "                                     X_train, y_train, gbr_param_grid)\n",
    "\n",
    "gbr_freg = GradientBoostingRegressor(**best_hp)\n",
    "gbr_freg.fit(X_train, y_train)\n",
    "\n",
    "exp_vs_calc_gbr_freg = produce_exp_vs_pred_df('top_15_features_kbest', gbr_freg,\n",
    "                                                    \"GradBoost, f_reg features\")"
   ]
  },
  {
   "cell_type": "markdown",
   "metadata": {},
   "source": [
    "### Mutual info features"
   ]
  },
  {
   "cell_type": "code",
   "execution_count": null,
   "metadata": {
    "ExecuteTime": {
     "end_time": "2020-01-17T15:36:43.968058Z",
     "start_time": "2020-01-17T14:17:50.941Z"
    }
   },
   "outputs": [],
   "source": [
    "best_hp = grid_search_return_hp_dict(GradientBoostingRegressor(),\n",
    "                                     X_train, y_train, gbr_param_grid)\n",
    "\n",
    "gbr_mu = GradientBoostingRegressor(**best_hp)\n",
    "gbr_mu.fit(X_train, y_train)\n",
    "\n",
    "exp_vs_calc_gbr_mu = produce_exp_vs_pred_df('top_15_features_mutual_info', gbr_mu,\n",
    "                                            \"GradBoost, Mutual Info\")"
   ]
  },
  {
   "cell_type": "markdown",
   "metadata": {},
   "source": [
    "### LASSO features"
   ]
  },
  {
   "cell_type": "code",
   "execution_count": null,
   "metadata": {
    "ExecuteTime": {
     "end_time": "2020-01-17T15:36:43.984102Z",
     "start_time": "2020-01-17T14:17:56.007Z"
    }
   },
   "outputs": [],
   "source": [
    "best_hp = grid_search_return_hp_dict(GradientBoostingRegressor(), \n",
    "                                     X_train, y_train, gbr_param_grid)\n",
    "\n",
    "gbr_lasso = GradientBoostingRegressor(**best_hp)\n",
    "gbr_lasso.fit(X_train, y_train)\n",
    "exp_vs_calc_gbr_lasso = produce_exp_vs_pred_df('top_15_features_lasso', gbr_lasso,\n",
    "                                               \"LASSO-features, GBR model\")"
   ]
  },
  {
   "cell_type": "markdown",
   "metadata": {},
   "source": [
    "## Decision Tree\n",
    "### Model-Chosen Features"
   ]
  },
  {
   "cell_type": "code",
   "execution_count": null,
   "metadata": {
    "ExecuteTime": {
     "end_time": "2020-01-17T15:36:44.001145Z",
     "start_time": "2020-01-17T14:17:58.187Z"
    }
   },
   "outputs": [],
   "source": [
    "dtr_param_grid = {\n",
    "    'criterion': ['mse', 'friedman_mse', 'mae'], #function measuring quality of a split\n",
    "    'max_depth': [5, 10, 20] , # max depth of tree\n",
    "    'max_features': [5, 10, 15], # N features to be considered when looking for split\n",
    "    'max_leaf_nodes': [None, 10, 15, 20, 30], #grows tree with N nodes in best-first fashion\n",
    "    'min_impurity_decrease': [0.0, 0.1],\n",
    "    'min_samples_leaf': [1, 2, 3], \n",
    "    'min_samples_split': [1.0, 2, 3],\n",
    "    'min_weight_fraction_leaf': [0.0, 0.1, 0.5] , \n",
    "    'splitter': ['best', 'random']\n",
    "} #hyperparameters for dtr gridsearch"
   ]
  },
  {
   "cell_type": "code",
   "execution_count": null,
   "metadata": {
    "ExecuteTime": {
     "end_time": "2020-01-17T15:36:44.016188Z",
     "start_time": "2020-01-17T14:18:04.043Z"
    }
   },
   "outputs": [],
   "source": [
    "best_hp = grid_search_return_hp_dict(DecisionTreeRegressor(), X_train, y_train, dtr_param_grid)\n",
    "\n",
    "dtr_model = DecisionTreeRegressor(**best_hp)\n",
    "\n",
    "dtr_model.fit(X_train, y_train)\n",
    "\n",
    "exp_vs_calc_dtr_model = produce_exp_vs_pred_df('top_15_features_model', dtr_model,\n",
    "                                         \"Decision Tree, model-chosen features\")"
   ]
  },
  {
   "cell_type": "markdown",
   "metadata": {},
   "source": [
    "### F-regression features"
   ]
  },
  {
   "cell_type": "code",
   "execution_count": null,
   "metadata": {
    "ExecuteTime": {
     "end_time": "2020-01-17T15:36:44.029221Z",
     "start_time": "2020-01-17T14:18:08.034Z"
    }
   },
   "outputs": [],
   "source": [
    "best_hp = grid_search_return_hp_dict(DecisionTreeRegressor(), X_train, y_train, dtr_param_grid)\n",
    "\n",
    "dtr_freg = DecisionTreeRegressor(**best_hp)\n",
    "\n",
    "dtr_freg.fit(X_train, y_train)\n",
    "\n",
    "exp_vs_calc_dtr_freg = produce_exp_vs_pred_df('top_15_features_kbest', dtr_freg,\n",
    "                                         \"Decision Tree, freg features\")"
   ]
  },
  {
   "cell_type": "markdown",
   "metadata": {},
   "source": [
    "### Mutual info features"
   ]
  },
  {
   "cell_type": "code",
   "execution_count": null,
   "metadata": {
    "ExecuteTime": {
     "end_time": "2020-01-17T15:36:44.042257Z",
     "start_time": "2020-01-17T14:18:11.396Z"
    }
   },
   "outputs": [],
   "source": [
    "best_hp = grid_search_return_hp_dict(DecisionTreeRegressor(), X_train, y_train, dtr_param_grid)\n",
    "\n",
    "dtr_mu = DecisionTreeRegressor(**best_hp)\n",
    "\n",
    "dtr_mu.fit(X_train, y_train)\n",
    "\n",
    "exp_vs_calc_dtr_mu = produce_exp_vs_pred_df('top_15_features_mutual_info', dtr_mu,\n",
    "                                         \"Decision Tree, mutual info features\")"
   ]
  },
  {
   "cell_type": "markdown",
   "metadata": {},
   "source": [
    "### LASSO features"
   ]
  },
  {
   "cell_type": "code",
   "execution_count": null,
   "metadata": {
    "ExecuteTime": {
     "end_time": "2020-01-17T15:36:44.055790Z",
     "start_time": "2020-01-17T14:18:15.509Z"
    }
   },
   "outputs": [],
   "source": [
    "best_hp = grid_search_return_hp_dict(DecisionTreeRegressor(), X_train, y_train, dtr_param_grid)\n",
    "\n",
    "dtr_lasso = DecisionTreeRegressor(**best_hp)\n",
    "\n",
    "dtr_lasso.fit(X_train, y_train)\n",
    "\n",
    "exp_vs_calc_dtr_lasso = produce_exp_vs_pred_df('top_15_features_lasso', dtr_lasso,\n",
    "                                         \"Decision Tree, lasso features\")"
   ]
  },
  {
   "cell_type": "markdown",
   "metadata": {},
   "source": [
    "## AdaBoost Regressor\n",
    "### Model Chosen Features"
   ]
  },
  {
   "cell_type": "code",
   "execution_count": null,
   "metadata": {
    "ExecuteTime": {
     "end_time": "2020-01-17T14:16:42.868791Z",
     "start_time": "2020-01-17T13:05:42.149Z"
    }
   },
   "outputs": [],
   "source": [
    "base_models = [ExtraTreesRegressor(n_estimators= 5,\n",
    "                                   criterion= 'mse',\n",
    "                                   max_features = 'log2'),\n",
    "               RandomForestRegressor(n_estimators= 5,\n",
    "                                     criterion= 'mse',\n",
    "                                     max_features = 'sqrt',\n",
    "                                     min_samples_split = 3),\n",
    "              GradientBoostingRegressor(),\n",
    "              DecisionTreeRegressor(),\n",
    "              Lars(),\n",
    "              ElasticNet()]\n",
    "\n",
    "ada_param_grid = {\n",
    "    'base_estimator' : base_models, \n",
    "    'learning_rate' : [0.3, 0.5, 0.8, 1], \n",
    "    'loss' : ['linear', 'square', 'exponential'], \n",
    "    'n_estimators' : [50, 100]\n",
    "} #hyperparameters for adaboost gridsearch"
   ]
  },
  {
   "cell_type": "code",
   "execution_count": null,
   "metadata": {
    "ExecuteTime": {
     "end_time": "2020-01-17T14:16:42.870797Z",
     "start_time": "2020-01-17T13:05:42.153Z"
    }
   },
   "outputs": [],
   "source": [
    "X_train, X_test = X_train_main[top_15_features_model], X_test_main[top_15_features_model]\n",
    "\n",
    "best_hp = grid_search_return_hp_dict(AdaBoostRegressor(), X_train, y_train, ada_param_grid)\n",
    "\n",
    "ada_model = AdaBoostRegressor(**best_hp)\n",
    "\n",
    "ada_model.fit(X_train, y_train)\n",
    "\n",
    "exp_vs_calc_ada_model = produce_exp_vs_pred_df('top_15_features_model', ada_model,\n",
    "                                               \"AdaBoost, model features\")"
   ]
  },
  {
   "cell_type": "markdown",
   "metadata": {},
   "source": [
    "### F-regression features"
   ]
  },
  {
   "cell_type": "code",
   "execution_count": null,
   "metadata": {
    "ExecuteTime": {
     "end_time": "2020-01-17T14:16:42.873303Z",
     "start_time": "2020-01-17T13:05:42.157Z"
    }
   },
   "outputs": [],
   "source": [
    "X_train, X_test = X_train_main[top_15_features_kbest], X_test_main[top_15_features_kbest]\n",
    "\n",
    "best_hp = grid_search_return_hp_dict(AdaBoostRegressor(), X_train, y_train, ada_param_grid)\n",
    "\n",
    "ada_freg = AdaBoostRegressor(**best_hp)\n",
    "\n",
    "ada_freg.fit(X_train, y_train)\n",
    "\n",
    "exp_vs_calc_ada_freg = produce_exp_vs_pred_df('top_15_features_kbest', ada_freg,\n",
    "                                               \"AdaBoost, freg features\")"
   ]
  },
  {
   "cell_type": "markdown",
   "metadata": {},
   "source": [
    "### Mutual info features"
   ]
  },
  {
   "cell_type": "code",
   "execution_count": null,
   "metadata": {
    "ExecuteTime": {
     "end_time": "2020-01-17T14:16:42.875309Z",
     "start_time": "2020-01-17T13:05:42.162Z"
    }
   },
   "outputs": [],
   "source": [
    "X_train, X_test = X_train_main[top_15_features_mutual_info], X_test_main[top_15_features_mutual_info]\n",
    "\n",
    "best_hp = grid_search_return_hp_dict(AdaBoostRegressor(), X_train, y_train, ada_param_grid)\n",
    "\n",
    "ada_mu = AdaBoostRegressor(**best_hp)\n",
    "\n",
    "ada_mu.fit(X_train, y_train)\n",
    "\n",
    "exp_vs_calc_ada_mu = produce_exp_vs_pred_df('top_15_features_mutual_info', ada_mu,\n",
    "                                               \"AdaBoost, mutual info features\")"
   ]
  },
  {
   "cell_type": "markdown",
   "metadata": {},
   "source": [
    "### LASSO features"
   ]
  },
  {
   "cell_type": "code",
   "execution_count": null,
   "metadata": {
    "ExecuteTime": {
     "end_time": "2020-01-17T14:16:42.877315Z",
     "start_time": "2020-01-17T13:05:42.166Z"
    }
   },
   "outputs": [],
   "source": [
    "X_train, X_test = X_train_main[top_15_features_lasso], X_test_main[top_15_features_lasso]\n",
    "\n",
    "best_hp = grid_search_return_hp_dict(AdaBoostRegressor(), X_train, y_train, ada_param_grid)\n",
    "\n",
    "ada_lasso = AdaBoostRegressor(**best_hp)\n",
    "\n",
    "ada_lasso.fit(X_train, y_train)\n",
    "\n",
    "exp_vs_calc_ada_lasso = produce_exp_vs_pred_df('top_15_features_lasso', ada_lasso,\n",
    "                                               \"AdaBoost, model features\")"
   ]
  },
  {
   "cell_type": "markdown",
   "metadata": {},
   "source": [
    "## LASSO\n",
    "### Model Chosen Features"
   ]
  },
  {
   "cell_type": "code",
   "execution_count": null,
   "metadata": {
    "ExecuteTime": {
     "end_time": "2020-01-17T14:16:42.878820Z",
     "start_time": "2020-01-17T13:05:42.170Z"
    }
   },
   "outputs": [],
   "source": [
    "lasso_param_grid = {\n",
    "    'alpha':[0.2, 0.4, 0.6, 0.8],\n",
    "    'max_iter':[1000, 5000, 10000, 50000],\n",
    "    'selection':['cyclic', 'random']\n",
    "}"
   ]
  },
  {
   "cell_type": "code",
   "execution_count": null,
   "metadata": {
    "ExecuteTime": {
     "end_time": "2020-01-17T14:16:42.880823Z",
     "start_time": "2020-01-17T13:05:42.175Z"
    }
   },
   "outputs": [],
   "source": [
    "X_train, X_test = X_train_main[top_15_features_model], X_test_main[top_15_features_model]\n",
    "best_hp = grid_search_return_hp_dict(Lasso(), X_train, y_train, lasso_param_grid)\n",
    "lasso_model = Lasso(**best_hp)\n",
    "lasso_model.fit(X_train, y_train)\n",
    "\n",
    "exp_vs_calc_lasso_model = produce_exp_vs_pred_df('top_15_features_model', lasso_model,\n",
    "                                                 \"LASSO, model features\")"
   ]
  },
  {
   "cell_type": "markdown",
   "metadata": {},
   "source": [
    "### F-regression features"
   ]
  },
  {
   "cell_type": "code",
   "execution_count": null,
   "metadata": {
    "ExecuteTime": {
     "end_time": "2020-01-17T14:16:42.882328Z",
     "start_time": "2020-01-17T13:05:42.179Z"
    }
   },
   "outputs": [],
   "source": [
    "X_train, X_test = X_train_main[top_15_features_kbest], X_test_main[top_15_features_kbest]\n",
    "best_hp = grid_search_return_hp_dict(Lasso(), X_train, y_train, lasso_param_grid)\n",
    "lasso_freg = Lasso(**best_hp)\n",
    "lasso_freg.fit(X_train, y_train)\n",
    "\n",
    "exp_vs_calc_lasso_freg = produce_exp_vs_pred_df('top_15_features_kbest', lasso_freg,\n",
    "                                                 \"LASSO, f-reg features\")"
   ]
  },
  {
   "cell_type": "markdown",
   "metadata": {},
   "source": [
    "### Mutual info features"
   ]
  },
  {
   "cell_type": "code",
   "execution_count": null,
   "metadata": {
    "ExecuteTime": {
     "end_time": "2020-01-17T14:16:42.884333Z",
     "start_time": "2020-01-17T13:05:42.183Z"
    }
   },
   "outputs": [],
   "source": [
    "X_train, X_test = X_train_main[top_15_features_mutual_info], X_test_main[top_15_features_mutual_info]\n",
    "best_hp = grid_search_return_hp_dict(Lasso(), X_train, y_train, lasso_param_grid)\n",
    "lasso_mu = Lasso(**best_hp)\n",
    "lasso_mu.fit(X_train, y_train)\n",
    "\n",
    "exp_vs_calc_lasso_mu = produce_exp_vs_pred_df('top_15_features_mutual_info', lasso_mu,\n",
    "                                                 \"LASSO, mutual info features\")"
   ]
  },
  {
   "cell_type": "markdown",
   "metadata": {},
   "source": [
    "### LASSO Features"
   ]
  },
  {
   "cell_type": "code",
   "execution_count": null,
   "metadata": {
    "ExecuteTime": {
     "end_time": "2020-01-17T14:16:42.886840Z",
     "start_time": "2020-01-17T13:05:42.187Z"
    }
   },
   "outputs": [],
   "source": [
    "X_train, X_test = X_train_main[top_15_features_lasso], X_test_main[top_15_features_lasso]\n",
    "best_hp = grid_search_return_hp_dict(Lasso(), X_train, y_train, lasso_param_grid)\n",
    "lasso_lasso = Lasso(**best_hp)\n",
    "lasso_lasso.fit(X_train, y_train)\n",
    "\n",
    "exp_vs_calc_lasso_lasso = produce_exp_vs_pred_df('top_15_features_lasso', lasso_lasso,\n",
    "                                                 \"LASSO, lasso features\")"
   ]
  },
  {
   "cell_type": "markdown",
   "metadata": {},
   "source": [
    "## Random Forest Regressor\n",
    "### Model Chosen Features"
   ]
  },
  {
   "cell_type": "code",
   "execution_count": null,
   "metadata": {
    "ExecuteTime": {
     "end_time": "2020-01-17T14:16:42.888343Z",
     "start_time": "2020-01-17T13:05:42.193Z"
    }
   },
   "outputs": [],
   "source": [
    "random_forest_param_grid = {\n",
    "    'max_depth': [10, 20, 30, 40, 50, 60, 70, 80, 90, None],\n",
    "    'max_features': ['auto', 'sqrt'],\n",
    "    'min_samples_leaf': [1, 2, 4],\n",
    "    'min_samples_split': [2, 5, 10],\n",
    "    'n_estimators': [200, 400, 600, 800, 1000, 1200, 1400, 1600]\n",
    "}"
   ]
  },
  {
   "cell_type": "code",
   "execution_count": null,
   "metadata": {
    "ExecuteTime": {
     "end_time": "2020-01-17T14:16:42.891352Z",
     "start_time": "2020-01-17T13:05:42.198Z"
    },
    "scrolled": false
   },
   "outputs": [],
   "source": [
    "X_train, X_test = X_train_main[top_15_features_model], X_test_main[top_15_features_model]\n",
    "best_hp = grid_search_return_hp_dict(RandomForestRegressor(),\n",
    "                                     X_train, y_train, random_forest_param_grid)\n",
    "random_forest_model = RandomForestRegressor(**best_hp)\n",
    "random_forest_model.fit(X_train, y_train)\n",
    "exp_vs_calc_random_forest_model = produce_exp_vs_pred_df('top_15_features_model', random_forest_model,\n",
    "                                                         \"RandomForest, model features\")"
   ]
  },
  {
   "cell_type": "markdown",
   "metadata": {},
   "source": [
    "### F-regression features"
   ]
  },
  {
   "cell_type": "code",
   "execution_count": null,
   "metadata": {
    "ExecuteTime": {
     "end_time": "2020-01-17T14:16:42.892855Z",
     "start_time": "2020-01-17T13:05:42.202Z"
    }
   },
   "outputs": [],
   "source": [
    "X_train, X_test = X_train_main[top_15_features_kbest], X_test_main[top_15_features_kbest]\n",
    "best_hp = grid_search_return_hp_dict(RandomForestRegressor(),\n",
    "                                     X_train, y_train, random_forest_param_grid)\n",
    "random_forest_freg = RandomForestRegressor(**best_hp)\n",
    "random_forest_freg.fit(X_train, y_train)\n",
    "exp_vs_calc_random_forest_freg = produce_exp_vs_pred_df('top_15_features_kbest', random_forest_freg,\n",
    "                                                         \"RandomForest, freg features\")"
   ]
  },
  {
   "cell_type": "markdown",
   "metadata": {},
   "source": [
    "### Mutual info features"
   ]
  },
  {
   "cell_type": "code",
   "execution_count": null,
   "metadata": {
    "ExecuteTime": {
     "end_time": "2020-01-17T14:16:42.894861Z",
     "start_time": "2020-01-17T13:05:42.206Z"
    }
   },
   "outputs": [],
   "source": [
    "X_train, X_test = X_train_main[top_15_features_mutual_info], X_test_main[top_15_features_mutual_info]\n",
    "best_hp = grid_search_return_hp_dict(RandomForestRegressor(),\n",
    "                                     X_train, y_train, random_forest_param_grid)\n",
    "random_forest_mu = RandomForestRegressor(**best_hp)\n",
    "random_forest_mu.fit(X_train, y_train)\n",
    "exp_vs_calc_random_forest_mu = produce_exp_vs_pred_df('top_15_features_mutual_info', random_forest_mu,\n",
    "                                                         \"RandomForest, mutual info features\")"
   ]
  },
  {
   "cell_type": "markdown",
   "metadata": {},
   "source": [
    "### LASSO features"
   ]
  },
  {
   "cell_type": "code",
   "execution_count": null,
   "metadata": {
    "ExecuteTime": {
     "end_time": "2020-01-17T14:16:42.896866Z",
     "start_time": "2020-01-17T13:05:42.210Z"
    }
   },
   "outputs": [],
   "source": [
    "X_train, X_test = X_train_main[top_15_features_lasso], X_test_main[top_15_features_lasso]\n",
    "best_hp = grid_search_return_hp_dict(RandomForestRegressor(),\n",
    "                                     X_train, y_train, random_forest_param_grid)\n",
    "random_forest_lasso = RandomForestRegressor(**best_hp)\n",
    "random_forest_lasso.fit(X_train, y_train)\n",
    "exp_vs_calc_random_forest_lasso = produce_exp_vs_pred_df('top_15_features_lasso', random_forest_lasso,\n",
    "                                                         \"RandomForest, lasso features\")"
   ]
  },
  {
   "cell_type": "markdown",
   "metadata": {},
   "source": [
    "## LARS - Least angle regression\n",
    "### Model chosen features"
   ]
  },
  {
   "cell_type": "code",
   "execution_count": null,
   "metadata": {
    "ExecuteTime": {
     "end_time": "2020-01-17T14:16:42.898872Z",
     "start_time": "2020-01-17T13:05:42.214Z"
    }
   },
   "outputs": [],
   "source": [
    "X_train, X_test = X_train_main[top_15_features_model], X_test_main[top_15_features_model]\n",
    "\n",
    "lars_model = Lars(fit_intercept=False, n_nonzero_coefs=np.inf)\n",
    "lars_model.fit(X_train, y_train)\n",
    "exp_vs_calc_lars_model = produce_exp_vs_pred_df('top_15_features_model', lars_model, \"LARS model features\")"
   ]
  },
  {
   "cell_type": "markdown",
   "metadata": {},
   "source": [
    "### F-regression features"
   ]
  },
  {
   "cell_type": "code",
   "execution_count": null,
   "metadata": {
    "ExecuteTime": {
     "end_time": "2020-01-17T14:16:42.900876Z",
     "start_time": "2020-01-17T13:05:42.219Z"
    }
   },
   "outputs": [],
   "source": [
    "X_train, X_test = X_train_main[top_15_features_kbest], X_test_main[top_15_features_kbest]\n",
    "\n",
    "lars_freg = Lars(fit_intercept=False, n_nonzero_coefs=np.inf)\n",
    "lars_freg.fit(X_train, y_train)\n",
    "exp_vs_calc_lars_freg = produce_exp_vs_pred_df('top_15_features_kbest', lars_freg, \"LARS freg features\")"
   ]
  },
  {
   "cell_type": "markdown",
   "metadata": {},
   "source": [
    "### Mutual info features"
   ]
  },
  {
   "cell_type": "code",
   "execution_count": null,
   "metadata": {
    "ExecuteTime": {
     "end_time": "2020-01-17T14:16:42.902882Z",
     "start_time": "2020-01-17T13:05:42.224Z"
    }
   },
   "outputs": [],
   "source": [
    "X_train, X_test = X_train_main[top_15_features_mutual_info], X_test_main[top_15_features_mutual_info]\n",
    "\n",
    "lars_mu = Lars(fit_intercept=False, n_nonzero_coefs=np.inf)\n",
    "lars_mu.fit(X_train, y_train)\n",
    "exp_vs_calc_lars_mu = produce_exp_vs_pred_df('top_15_features_mutual_info', lars_mu, \"LARS mutual info features\")"
   ]
  },
  {
   "cell_type": "markdown",
   "metadata": {},
   "source": [
    "### LASSO features"
   ]
  },
  {
   "cell_type": "code",
   "execution_count": null,
   "metadata": {
    "ExecuteTime": {
     "end_time": "2020-01-17T14:16:42.904887Z",
     "start_time": "2020-01-17T13:05:42.229Z"
    }
   },
   "outputs": [],
   "source": [
    "X_train, X_test = X_train_main[top_15_features_lasso], X_test_main[top_15_features_lasso]\n",
    "\n",
    "lars_lasso = Lars(fit_intercept=False, n_nonzero_coefs=np.inf)\n",
    "lars_lasso.fit(X_train, y_train)\n",
    "exp_vs_calc_lars_lasso = produce_exp_vs_pred_df('top_15_features_lasso', lars_lasso, \"LARS lasso features\")"
   ]
  },
  {
   "cell_type": "markdown",
   "metadata": {},
   "source": [
    "## Elastic Net (linear regression l1 l2 norm regularization)\n",
    "### Model chosen features"
   ]
  },
  {
   "cell_type": "code",
   "execution_count": null,
   "metadata": {
    "ExecuteTime": {
     "end_time": "2020-01-17T14:16:42.907895Z",
     "start_time": "2020-01-17T13:05:42.233Z"
    }
   },
   "outputs": [],
   "source": [
    "net_param_grid = {\n",
    "    'alpha':[0.1, 0.3, 0.5, 0.8, 1.0],\n",
    "    'l1_ratio':[0.0, 0.2, 0.4, 0.6, 0.8, 1.0],\n",
    "    'fit_intercept':[True, False],\n",
    "    'max_iter': [1000, 3000, 5000],\n",
    "    'tol':[0.0001, 0.001, 0.01],\n",
    "    'selection':['cyclic', 'random']\n",
    "}"
   ]
  },
  {
   "cell_type": "code",
   "execution_count": null,
   "metadata": {
    "ExecuteTime": {
     "end_time": "2020-01-17T14:16:42.909399Z",
     "start_time": "2020-01-17T13:05:42.237Z"
    }
   },
   "outputs": [],
   "source": [
    "X_train, X_test = X_train_main[top_15_features_model], X_test_main[top_15_features_model]\n",
    "best_hp = grid_search_return_hp_dict(ElasticNet(), X_train, y_train, net_param_grid)\n",
    "\n",
    "net_model = ElasticNet(**best_hp)\n",
    "net_model.fit(X_train, y_train)\n",
    "exp_vs_calc_net_model = produce_exp_vs_pred_df('top_15_features_model', net_model, \"ElasticNet model features\")"
   ]
  },
  {
   "cell_type": "markdown",
   "metadata": {},
   "source": [
    "### F regression features"
   ]
  },
  {
   "cell_type": "code",
   "execution_count": null,
   "metadata": {
    "ExecuteTime": {
     "end_time": "2020-01-17T14:16:42.911405Z",
     "start_time": "2020-01-17T13:05:42.242Z"
    }
   },
   "outputs": [],
   "source": [
    "X_train, X_test = X_train_main[top_15_features_kbest], X_test_main[top_15_features_kbest]\n",
    "best_hp = grid_search_return_hp_dict(ElasticNet(), X_train, y_train, net_param_grid)\n",
    "\n",
    "net_freg = ElasticNet(**best_hp)\n",
    "net_freg.fit(X_train, y_train)\n",
    "exp_vs_calc_net_freg = produce_exp_vs_pred_df('top_15_features_kbest', net_freg, \"ElasticNet freg features\")"
   ]
  },
  {
   "cell_type": "markdown",
   "metadata": {},
   "source": [
    "### Mutual info features"
   ]
  },
  {
   "cell_type": "code",
   "execution_count": null,
   "metadata": {
    "ExecuteTime": {
     "end_time": "2020-01-17T14:16:42.912909Z",
     "start_time": "2020-01-17T13:05:42.248Z"
    }
   },
   "outputs": [],
   "source": [
    "X_train, X_test = X_train_main[top_15_features_mutual_info], X_test_main[top_15_features_mutual_info]\n",
    "best_hp = grid_search_return_hp_dict(ElasticNet(), X_train, y_train, net_param_grid)\n",
    "\n",
    "net_mu = ElasticNet(**best_hp)\n",
    "net_mu.fit(X_train, y_train)\n",
    "exp_vs_calc_net_mu = produce_exp_vs_pred_df('top_15_features_mutual_info', net_mu, \"ElasticNet mutual info features\")"
   ]
  },
  {
   "cell_type": "markdown",
   "metadata": {},
   "source": [
    "### LASSO features"
   ]
  },
  {
   "cell_type": "code",
   "execution_count": null,
   "metadata": {
    "ExecuteTime": {
     "end_time": "2020-01-17T14:16:42.914914Z",
     "start_time": "2020-01-17T13:05:42.254Z"
    }
   },
   "outputs": [],
   "source": [
    "X_train, X_test = X_train_main[top_15_features_lasso], X_test_main[top_15_features_lasso]\n",
    "best_hp = grid_search_return_hp_dict(ElasticNet(), X_train, y_train, net_param_grid)\n",
    "\n",
    "net_lasso = ElasticNet(**best_hp)\n",
    "net_lasso.fit(X_train, y_train)\n",
    "exp_vs_calc_net_lasso = produce_exp_vs_pred_df('top_15_features_lasso', net_lasso, \"ElasticNet lasso features\")"
   ]
  },
  {
   "cell_type": "markdown",
   "metadata": {},
   "source": [
    "# Scores and visualisation"
   ]
  },
  {
   "cell_type": "code",
   "execution_count": null,
   "metadata": {
    "ExecuteTime": {
     "end_time": "2020-01-17T14:16:42.916419Z",
     "start_time": "2020-01-17T13:05:42.259Z"
    }
   },
   "outputs": [],
   "source": [
    "exp_vs_calc_df_list = []\n",
    "model_list = []\n",
    "for var in dir():\n",
    "    if isinstance(eval(var), pd.core.frame.DataFrame):\n",
    "        if var[0:3] == 'exp':\n",
    "            exp_vs_calc_df_list.append(var)\n",
    "            model_list.append(var[12:])\n",
    "exp_vs_calc_model_dict = dict(zip(model_list, exp_vs_calc_df_list))"
   ]
  },
  {
   "cell_type": "code",
   "execution_count": null,
   "metadata": {
    "ExecuteTime": {
     "end_time": "2020-01-17T14:16:42.918423Z",
     "start_time": "2020-01-17T13:05:42.266Z"
    }
   },
   "outputs": [],
   "source": [
    "joblib.dump(train_scores, \"train_scores.joblib\")\n",
    "joblib.dump(test_scores, \"test_scores.joblib\")"
   ]
  },
  {
   "cell_type": "code",
   "execution_count": null,
   "metadata": {
    "ExecuteTime": {
     "end_time": "2020-01-17T14:16:42.919926Z",
     "start_time": "2020-01-17T13:05:42.271Z"
    },
    "scrolled": false
   },
   "outputs": [],
   "source": [
    "display(\"Training Scores\", train_scores, \"Testing Scores\", test_scores)\n",
    "mpld3.enable_notebook() #must enable\n",
    "@widgets.interact()\n",
    "\n",
    "def show_pred_vs_actual(Model = model_list):\n",
    "    pred_df = eval(exp_vs_calc_model_dict[Model])\n",
    "    model = eval(Model)\n",
    "    prediction_plot_scores(model, pred_df)"
   ]
  }
 ],
 "metadata": {
  "kernelspec": {
   "display_name": "Python 3",
   "language": "python",
   "name": "python3"
  },
  "language_info": {
   "codemirror_mode": {
    "name": "ipython",
    "version": 3
   },
   "file_extension": ".py",
   "mimetype": "text/x-python",
   "name": "python",
   "nbconvert_exporter": "python",
   "pygments_lexer": "ipython3",
   "version": "3.7.3"
  },
  "notify_time": "30",
  "toc": {
   "base_numbering": 1,
   "nav_menu": {},
   "number_sections": true,
   "sideBar": true,
   "skip_h1_title": false,
   "title_cell": "Table of Contents",
   "title_sidebar": "Contents",
   "toc_cell": false,
   "toc_position": {
    "height": "calc(100% - 180px)",
    "left": "10px",
    "top": "150px",
    "width": "303.516px"
   },
   "toc_section_display": true,
   "toc_window_display": true
  },
  "varInspector": {
   "cols": {
    "lenName": 16,
    "lenType": 16,
    "lenVar": 40
   },
   "kernels_config": {
    "python": {
     "delete_cmd_postfix": "",
     "delete_cmd_prefix": "del ",
     "library": "var_list.py",
     "varRefreshCmd": "print(var_dic_list())"
    },
    "r": {
     "delete_cmd_postfix": ") ",
     "delete_cmd_prefix": "rm(",
     "library": "var_list.r",
     "varRefreshCmd": "cat(var_dic_list()) "
    }
   },
   "types_to_exclude": [
    "module",
    "function",
    "builtin_function_or_method",
    "instance",
    "_Feature"
   ],
   "window_display": false
  }
 },
 "nbformat": 4,
 "nbformat_minor": 2
}
