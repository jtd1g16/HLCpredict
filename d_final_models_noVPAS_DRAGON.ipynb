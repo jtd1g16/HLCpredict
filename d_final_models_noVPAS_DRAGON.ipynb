{
 "cells": [
  {
   "cell_type": "markdown",
   "metadata": {},
   "source": [
    "# Initialisations"
   ]
  },
  {
   "cell_type": "code",
   "execution_count": 1,
   "metadata": {
    "ExecuteTime": {
     "end_time": "2020-01-15T16:00:50.796959Z",
     "start_time": "2020-01-15T16:00:47.402866Z"
    }
   },
   "outputs": [],
   "source": [
    "import pandas as pd ; pd.set_option('display.max_columns', 500) # dataframes\n",
    "import numpy as np # mathsy bits\n",
    "import ipywidgets as widgets # widgets\n",
    "\n",
    "from sklearn.model_selection import train_test_split #split data into train and test sets\n",
    "\n",
    "# feature selection + gridsearch\n",
    "from sklearn.feature_selection import SelectFromModel, SelectKBest\n",
    "from sklearn.feature_selection import f_regression, mutual_info_regression\n",
    "from sklearn.model_selection import GridSearchCV\n",
    "\n",
    "# models\n",
    "from sklearn.linear_model import Lars, ElasticNet, Lasso\n",
    "from sklearn.tree import DecisionTreeRegressor\n",
    "from sklearn.ensemble import RandomForestRegressor, ExtraTreesRegressor\n",
    "from sklearn.ensemble import AdaBoostRegressor, GradientBoostingRegressor\n",
    "\n",
    "import joblib # saving models\n",
    "from datetime import datetime # get time for labelling saved models\n",
    "\n",
    "# visualization\n",
    "import matplotlib.pyplot as plt\n",
    "%matplotlib inline\n",
    "\n",
    "import mpld3 # hover-over labels for plots\n",
    "mpld3.disable_notebook()\n",
    "\n",
    "train_scores = dict() ; test_scores  = dict() #to hold scores for viewing at the end"
   ]
  },
  {
   "cell_type": "code",
   "execution_count": 13,
   "metadata": {
    "ExecuteTime": {
     "end_time": "2020-01-15T16:57:16.339455Z",
     "start_time": "2020-01-15T16:57:16.322409Z"
    }
   },
   "outputs": [],
   "source": [
    "def grid_search_return_hp_dict(model, X_train_gs, y_train_gs, param_grid):\n",
    "    \"\"\"Run GridSearchCV on given model with defined param_grid, return best params as dict.\n",
    "    Pre-assign sklearn model to variable. Pass param_grid as dict.\"\"\"\n",
    "    print(str(model).split(sep='(')[0], \"grid search.\")\n",
    "    GS = GridSearchCV(model, param_grid, n_jobs=2)\n",
    "    GS.fit(X_train_gs, y_train_gs)\n",
    "    print(GS.best_params_)\n",
    "    return(GS.best_params_)\n",
    "\n",
    "def produce_exp_vs_pred_df(features_list, model, codename):\n",
    "    \"\"\"Pass features_list as a string\"\"\"\n",
    "    pred_list = []\n",
    "    for i in range(0, len(dragon_features)):\n",
    "        prediction = model.predict([dragon_features[eval(features_list)].iloc[i]])\n",
    "        pred_list.append(prediction)\n",
    "    train_scores.update({codename : model.score(X_train, y_train)})\n",
    "    test_scores.update({codename : model.score(X_test, y_test)})\n",
    "    \n",
    "    print('Training Score:\\t', model.score(X_train, y_train))\n",
    "    print('Testing Score:\\t', model.score(X_test, y_test))\n",
    "    \n",
    "    exp_vs_calc = pd.DataFrame(constants_first)\n",
    "    exp_vs_calc['Predicted'] = pred_list\n",
    "    exp_vs_calc.rename({'Kh_first':'Experimental'}, inplace=True, axis=1)\n",
    "    \n",
    "    now = datetime.now()\n",
    "\n",
    "    dt_string = now.strftime(\"_%d_%m_%Y_%H_%M_%S\")\n",
    "    filename = \"models/DRAGON_noVPAS/\" + str(model).split(sep='(')[0] + \"_\" + features_list[16:] + dt_string + \".joblib\"\n",
    "    print(str(model).split(sep='(')[0], \"run at:\", now, \". Saving to\", filename)\n",
    "    \n",
    "    joblib.dump(model, filename)\n",
    "    return exp_vs_calc\n",
    "\n",
    "def prediction_plot_scores(model_func, pred_df):\n",
    "    \"\"\"Print train+test scores, then plot scatter of predicted vs actual HLCs. Uses {X/y}_{train/test},\n",
    "    redefining these variables will change the output.\"\"\"\n",
    "    print('Training Score:\\t', model_func.score(X_train, y_train))\n",
    "    print('Testing Score:\\t', model_func.score(X_test, y_test))\n",
    "    fig = plt.figure(figsize=(10, 10))\n",
    "    scatter = plt.scatter(pred_df['Experimental'], pred_df['Predicted'])\n",
    "    plt.xlabel('Experimental')\n",
    "    plt.ylabel('Predicted')\n",
    "    plt.title('%s predictions of HLCs' %str(model_func).split(sep='(')[0])\n",
    "    labels = ['{}'.format(i) for i in species_names]\n",
    "    tooltip = mpld3.plugins.PointLabelTooltip(scatter, labels=labels)\n",
    "    mpld3.plugins.connect(fig, tooltip)\n",
    "    plt.plot([-30, 10], [-30, 10], c='red')\n",
    "    plt.show()"
   ]
  },
  {
   "cell_type": "markdown",
   "metadata": {},
   "source": [
    "# DRAGON descriptors\n",
    "## Bringing in data and splitting it into parts"
   ]
  },
  {
   "cell_type": "code",
   "execution_count": 3,
   "metadata": {
    "ExecuteTime": {
     "end_time": "2020-01-15T16:00:51.693885Z",
     "start_time": "2020-01-15T16:00:50.823866Z"
    }
   },
   "outputs": [
    {
     "name": "stdout",
     "output_type": "stream",
     "text": [
      "Input Shape (1404, 1479)\n",
      "Removed NaN, new shape (1355, 1479)\n"
     ]
    }
   ],
   "source": [
    "csv = pd.read_csv('organics_noVPAS_desc_kh.csv') # contains VP/AS HLCs\n",
    "\n",
    "print(\"Input Shape\", csv.shape) #input shape\n",
    "\n",
    "csv.dropna(axis=0, inplace=True)\n",
    "\n",
    "print(\"Removed NaN, new shape\", csv.shape) #removed NaN shape\n",
    "\n",
    "species_names = csv.pop('Unnamed: 0')\n",
    "smiles_strings = csv.pop('SMILES')\n",
    "constants_mean = csv.pop('Kh_mean')\n",
    "constants_first = csv.pop('Kh_first')\n",
    "\n",
    "varying_columns = csv[['Varying_1', 'Varying_2', 'Varying_3', 'Varying_4',\n",
    " 'Varying_5', 'Varying_6', 'Varying_7', 'Varying_8', 'Varying_9']] # popping one-hot encoding columns\n",
    "\n",
    "dragon_features = csv.drop(['Varying_1', 'Varying_2', 'Varying_3', 'Varying_4',\n",
    " 'Varying_5', 'Varying_6', 'Varying_7', 'Varying_8', 'Varying_9'], axis=1) #seperating features\n",
    "\n",
    "X_train_main, X_test_main, y_train, y_test = train_test_split(dragon_features, constants_first, test_size=0.3)"
   ]
  },
  {
   "cell_type": "markdown",
   "metadata": {},
   "source": [
    "## Feature Selection\n",
    "Made aware of features selection methods in scikitlearn via https://towardsdatascience.com/feature-selection-techniques-in-machine-learning-with-python-f24e7da3f36e\n",
    "\n",
    "See also [scikit-learn docs](https://scikit-learn.org/stable/modules/feature_selection.html)\n",
    "### Importances via 'dummy' GradientBoostingRegressor"
   ]
  },
  {
   "cell_type": "code",
   "execution_count": 4,
   "metadata": {
    "ExecuteTime": {
     "end_time": "2020-01-15T16:00:58.743620Z",
     "start_time": "2020-01-15T16:00:51.696393Z"
    }
   },
   "outputs": [],
   "source": [
    "fs_model = GradientBoostingRegressor()\n",
    "fs_model.fit(X_train_main, y_train)\n",
    "importances = pd.Series(fs_model.feature_importances_, index = X_train_main.columns)\n",
    "top_15_features_model = list(importances.nlargest(15).index.values)"
   ]
  },
  {
   "cell_type": "code",
   "execution_count": 5,
   "metadata": {
    "ExecuteTime": {
     "end_time": "2020-01-15T16:00:58.756167Z",
     "start_time": "2020-01-15T16:00:58.745626Z"
    }
   },
   "outputs": [
    {
     "data": {
      "text/plain": [
       "['P_VSA_p_2',\n",
       " 'TPSA(Tot)',\n",
       " 'IC0',\n",
       " 'Me',\n",
       " 'CATS2D_02_DA',\n",
       " 'GATS1e',\n",
       " 'AAC',\n",
       " 'TPSA(NO)',\n",
       " 'P_VSA_v_3',\n",
       " 'F01[C-N]',\n",
       " 'F03[C-N]',\n",
       " 'MATS1e',\n",
       " 'H-047',\n",
       " 'Xindex',\n",
       " 'Mi']"
      ]
     },
     "execution_count": 5,
     "metadata": {},
     "output_type": "execute_result"
    }
   ],
   "source": [
    "top_15_features_model"
   ]
  },
  {
   "cell_type": "markdown",
   "metadata": {},
   "source": [
    "### Importances via 'dummy' LASSO model"
   ]
  },
  {
   "cell_type": "code",
   "execution_count": 6,
   "metadata": {
    "ExecuteTime": {
     "end_time": "2020-01-15T16:01:13.063676Z",
     "start_time": "2020-01-15T16:00:58.759662Z"
    }
   },
   "outputs": [],
   "source": [
    "dummy_lasso = Lasso(max_iter=10000, alpha=0.5)\n",
    "selector = SelectFromModel(dummy_lasso).fit(X_train_main, y_train)\n",
    "coefs = selector.estimator_.coef_\n",
    "importances_lasso = pd.Series(coefs, index = X_train_main.columns)\n",
    "top_15_features_lasso = list(importances_lasso.nlargest(15).index.values)"
   ]
  },
  {
   "cell_type": "markdown",
   "metadata": {},
   "source": [
    "### SelectKBest using f_regression scoring function\n",
    "F-test estimates degree of linear dependency"
   ]
  },
  {
   "cell_type": "code",
   "execution_count": 7,
   "metadata": {
    "ExecuteTime": {
     "end_time": "2020-01-15T16:01:13.093755Z",
     "start_time": "2020-01-15T16:01:13.065681Z"
    }
   },
   "outputs": [
    {
     "name": "stderr",
     "output_type": "stream",
     "text": [
      "C:\\Users\\jtd1g16\\AppData\\Local\\Continuum\\anaconda3\\lib\\site-packages\\sklearn\\feature_selection\\univariate_selection.py:299: RuntimeWarning: invalid value encountered in true_divide\n",
      "  corr /= X_norms\n",
      "C:\\Users\\jtd1g16\\AppData\\Local\\Continuum\\anaconda3\\lib\\site-packages\\scipy\\stats\\_distn_infrastructure.py:901: RuntimeWarning: invalid value encountered in greater\n",
      "  return (a < x) & (x < b)\n",
      "C:\\Users\\jtd1g16\\AppData\\Local\\Continuum\\anaconda3\\lib\\site-packages\\scipy\\stats\\_distn_infrastructure.py:901: RuntimeWarning: invalid value encountered in less\n",
      "  return (a < x) & (x < b)\n",
      "C:\\Users\\jtd1g16\\AppData\\Local\\Continuum\\anaconda3\\lib\\site-packages\\scipy\\stats\\_distn_infrastructure.py:1892: RuntimeWarning: invalid value encountered in less_equal\n",
      "  cond2 = cond0 & (x <= _a)\n"
     ]
    }
   ],
   "source": [
    "fs_kbest = SelectKBest(score_func= f_regression, k=15)\n",
    "fit = fs_kbest.fit(X_train_main, y_train)\n",
    "scores_f = pd.Series(fit.scores_, index=X_train_main.columns)\n",
    "top_15_features_kbest = list(scores_f.nlargest(15).index.values)"
   ]
  },
  {
   "cell_type": "markdown",
   "metadata": {},
   "source": [
    "### SelectKBest using mutual_info_regression\n",
    "Catch any statistical dependancy, but requires more samples than f_reg"
   ]
  },
  {
   "cell_type": "code",
   "execution_count": 8,
   "metadata": {
    "ExecuteTime": {
     "end_time": "2020-01-15T16:01:38.516278Z",
     "start_time": "2020-01-15T16:01:13.098269Z"
    }
   },
   "outputs": [],
   "source": [
    "fs_mut_info = SelectKBest(score_func= mutual_info_regression, k=15)\n",
    "fit = fs_mut_info.fit(X_train_main, y_train)\n",
    "scores_mutual = pd.Series(fit.scores_, index=X_train_main.columns)\n",
    "top_15_features_mutual_info = list(scores_mutual.nlargest(15).index.values)"
   ]
  },
  {
   "cell_type": "markdown",
   "metadata": {},
   "source": [
    "### Feature Selection results"
   ]
  },
  {
   "cell_type": "code",
   "execution_count": 9,
   "metadata": {
    "ExecuteTime": {
     "end_time": "2020-01-15T16:01:39.365978Z",
     "start_time": "2020-01-15T16:01:38.521700Z"
    }
   },
   "outputs": [
    {
     "data": {
      "image/png": "[encoded data removed]",
      "text/plain": [
       "<Figure size 1080x720 with 4 Axes>"
      ]
     },
     "metadata": {
      "needs_background": "light"
     },
     "output_type": "display_data"
    }
   ],
   "source": [
    "fig, imp_plot = plt.subplots(nrows=1, ncols=4, figsize=(15, 10))\n",
    "imp_plot[0].barh(importances.nlargest(15).index.values, importances.nlargest(15))\n",
    "imp_plot[0].set_title('Dummy Model')\n",
    "imp_plot[1].barh(scores_mutual.nlargest(15).index.values, scores_mutual.nlargest(15))\n",
    "imp_plot[1].set_title('Mutual Information')\n",
    "imp_plot[2].barh(scores_f.nlargest(15).index.values, scores_f.nlargest(15))\n",
    "imp_plot[2].set_title('F Regression')\n",
    "imp_plot[3].barh(importances_lasso.nlargest(15).index.values, importances_lasso.nlargest(15))\n",
    "imp_plot[3].set_title('LASSO')\n",
    "plt.show()"
   ]
  },
  {
   "cell_type": "markdown",
   "metadata": {},
   "source": [
    "## GradientBoosting\n",
    "### Model-chosen features"
   ]
  },
  {
   "cell_type": "code",
   "execution_count": 10,
   "metadata": {
    "ExecuteTime": {
     "end_time": "2020-01-15T16:01:39.374467Z",
     "start_time": "2020-01-15T16:01:39.368952Z"
    }
   },
   "outputs": [],
   "source": [
    "gbr_param_grid = {\n",
    "    'n_estimators': [500, 1000, 2000],\n",
    "    'max_depth': [2, 4, 6],\n",
    "    'min_samples_leaf': [3, 5, 9, 17],\n",
    "    'learning_rate': [0.1, 0.05, 0.02],\n",
    "    'max_features': [1.0, 0.3, 0.1],\n",
    "    'loss': ['ls', 'lad', 'huber']\n",
    "} #hyperparameters for each gbr grid search"
   ]
  },
  {
   "cell_type": "code",
   "execution_count": 11,
   "metadata": {
    "ExecuteTime": {
     "end_time": "2020-01-15T16:54:27.804043Z",
     "start_time": "2020-01-15T16:01:39.376973Z"
    }
   },
   "outputs": [
    {
     "name": "stdout",
     "output_type": "stream",
     "text": [
      "GradientBoostingRegressor grid search.\n"
     ]
    },
    {
     "name": "stderr",
     "output_type": "stream",
     "text": [
      "C:\\Users\\jtd1g16\\AppData\\Local\\Continuum\\anaconda3\\lib\\site-packages\\sklearn\\model_selection\\_split.py:1978: FutureWarning: The default value of cv will change from 3 to 5 in version 0.22. Specify it explicitly to silence this warning.\n",
      "  warnings.warn(CV_WARNING, FutureWarning)\n"
     ]
    },
    {
     "name": "stdout",
     "output_type": "stream",
     "text": [
      "{'learning_rate': 0.02, 'loss': 'lad', 'max_depth': 6, 'max_features': 0.1, 'min_samples_leaf': 9, 'n_estimators': 2000}\n"
     ]
    },
    {
     "ename": "TypeError",
     "evalue": "eval() arg 1 must be a string, bytes or code object",
     "output_type": "error",
     "traceback": [
      "\u001b[1;31m---------------------------------------------------------------------------\u001b[0m",
      "\u001b[1;31mTypeError\u001b[0m                                 Traceback (most recent call last)",
      "\u001b[1;32m<ipython-input-11-7d3e3afe69d1>\u001b[0m in \u001b[0;36m<module>\u001b[1;34m\u001b[0m\n\u001b[0;32m      9\u001b[0m \u001b[1;33m\u001b[0m\u001b[0m\n\u001b[0;32m     10\u001b[0m exp_vs_calc_gbr_model = produce_exp_vs_pred_df(top_15_features_model, gbr_model,\n\u001b[1;32m---> 11\u001b[1;33m                                          \"GradBoost, model-chosen features\")\n\u001b[0m",
      "\u001b[1;32m<ipython-input-2-e15362b6a596>\u001b[0m in \u001b[0;36mproduce_exp_vs_pred_df\u001b[1;34m(features_list, model, codename)\u001b[0m\n\u001b[0;32m     12\u001b[0m     \u001b[0mpred_list\u001b[0m \u001b[1;33m=\u001b[0m \u001b[1;33m[\u001b[0m\u001b[1;33m]\u001b[0m\u001b[1;33m\u001b[0m\u001b[1;33m\u001b[0m\u001b[0m\n\u001b[0;32m     13\u001b[0m     \u001b[1;32mfor\u001b[0m \u001b[0mi\u001b[0m \u001b[1;32min\u001b[0m \u001b[0mrange\u001b[0m\u001b[1;33m(\u001b[0m\u001b[1;36m0\u001b[0m\u001b[1;33m,\u001b[0m \u001b[0mlen\u001b[0m\u001b[1;33m(\u001b[0m\u001b[0mdragon_features\u001b[0m\u001b[1;33m)\u001b[0m\u001b[1;33m)\u001b[0m\u001b[1;33m:\u001b[0m\u001b[1;33m\u001b[0m\u001b[1;33m\u001b[0m\u001b[0m\n\u001b[1;32m---> 14\u001b[1;33m         \u001b[0mprediction\u001b[0m \u001b[1;33m=\u001b[0m \u001b[0mmodel\u001b[0m\u001b[1;33m.\u001b[0m\u001b[0mpredict\u001b[0m\u001b[1;33m(\u001b[0m\u001b[1;33m[\u001b[0m\u001b[0mdragon_features\u001b[0m\u001b[1;33m[\u001b[0m\u001b[0meval\u001b[0m\u001b[1;33m(\u001b[0m\u001b[0mfeatures_list\u001b[0m\u001b[1;33m)\u001b[0m\u001b[1;33m]\u001b[0m\u001b[1;33m.\u001b[0m\u001b[0miloc\u001b[0m\u001b[1;33m[\u001b[0m\u001b[0mi\u001b[0m\u001b[1;33m]\u001b[0m\u001b[1;33m]\u001b[0m\u001b[1;33m)\u001b[0m\u001b[1;33m\u001b[0m\u001b[1;33m\u001b[0m\u001b[0m\n\u001b[0m\u001b[0;32m     15\u001b[0m         \u001b[0mpred_list\u001b[0m\u001b[1;33m.\u001b[0m\u001b[0mappend\u001b[0m\u001b[1;33m(\u001b[0m\u001b[0mprediction\u001b[0m\u001b[1;33m)\u001b[0m\u001b[1;33m\u001b[0m\u001b[1;33m\u001b[0m\u001b[0m\n\u001b[0;32m     16\u001b[0m     \u001b[0mtrain_scores\u001b[0m\u001b[1;33m.\u001b[0m\u001b[0mupdate\u001b[0m\u001b[1;33m(\u001b[0m\u001b[1;33m{\u001b[0m\u001b[0mcodename\u001b[0m \u001b[1;33m:\u001b[0m \u001b[0mmodel\u001b[0m\u001b[1;33m.\u001b[0m\u001b[0mscore\u001b[0m\u001b[1;33m(\u001b[0m\u001b[0mX_train\u001b[0m\u001b[1;33m,\u001b[0m \u001b[0my_train\u001b[0m\u001b[1;33m)\u001b[0m\u001b[1;33m}\u001b[0m\u001b[1;33m)\u001b[0m\u001b[1;33m\u001b[0m\u001b[1;33m\u001b[0m\u001b[0m\n",
      "\u001b[1;31mTypeError\u001b[0m: eval() arg 1 must be a string, bytes or code object"
     ]
    }
   ],
   "source": [
    "X_train, X_test = X_train_main[top_15_features_model], X_test_main[top_15_features_model]\n",
    "\n",
    "\n",
    "best_hp = grid_search_return_hp_dict(GradientBoostingRegressor(),\n",
    "                                     X_train, y_train, gbr_param_grid)\n",
    "\n",
    "gbr_model = GradientBoostingRegressor(**best_hp)\n",
    "gbr_model.fit(X_train, y_train)\n",
    "\n",
    "exp_vs_calc_gbr_model = produce_exp_vs_pred_df('top_15_features_model', gbr_model,\n",
    "                                         \"GradBoost, model-chosen features\")"
   ]
  },
  {
   "cell_type": "markdown",
   "metadata": {},
   "source": [
    "### F-regression features"
   ]
  },
  {
   "cell_type": "code",
   "execution_count": 15,
   "metadata": {
    "ExecuteTime": {
     "end_time": "2020-01-15T17:51:29.061921Z",
     "start_time": "2020-01-15T17:01:33.060064Z"
    }
   },
   "outputs": [
    {
     "name": "stdout",
     "output_type": "stream",
     "text": [
      "GradientBoostingRegressor grid search.\n"
     ]
    },
    {
     "name": "stderr",
     "output_type": "stream",
     "text": [
      "C:\\Users\\jtd1g16\\AppData\\Local\\Continuum\\anaconda3\\lib\\site-packages\\sklearn\\model_selection\\_split.py:1978: FutureWarning: The default value of cv will change from 3 to 5 in version 0.22. Specify it explicitly to silence this warning.\n",
      "  warnings.warn(CV_WARNING, FutureWarning)\n"
     ]
    },
    {
     "name": "stdout",
     "output_type": "stream",
     "text": [
      "{'learning_rate': 0.05, 'loss': 'huber', 'max_depth': 4, 'max_features': 0.3, 'min_samples_leaf': 3, 'n_estimators': 500}\n",
      "Training Score:\t 0.9574679680268028\n",
      "Testing Score:\t 0.8412910777099232\n",
      "GradientBoostingRegressor run at: 2020-01-15 17:51:29.027315 . Saving to models/DRAGON_noVPAS/GradientBoostingRegressor_kbest_15_01_2020_17_51_29.joblib\n"
     ]
    }
   ],
   "source": [
    "X_train, X_test = X_train_main[top_15_features_kbest], X_test_main[top_15_features_kbest]\n",
    "\n",
    "best_hp = grid_search_return_hp_dict(GradientBoostingRegressor(),\n",
    "                                     X_train, y_train, gbr_param_grid)\n",
    "\n",
    "gbr_freg = GradientBoostingRegressor(**best_hp)\n",
    "gbr_freg.fit(X_train, y_train)\n",
    "\n",
    "exp_vs_calc_gbr_freg = produce_exp_vs_pred_df('top_15_features_kbest', gbr_freg,\n",
    "                                                    \"GradBoost, f_reg features\")"
   ]
  },
  {
   "cell_type": "markdown",
   "metadata": {},
   "source": [
    "### Mutual info features"
   ]
  },
  {
   "cell_type": "code",
   "execution_count": 16,
   "metadata": {
    "ExecuteTime": {
     "end_time": "2020-01-15T18:46:57.852931Z",
     "start_time": "2020-01-15T17:51:51.745277Z"
    }
   },
   "outputs": [
    {
     "name": "stdout",
     "output_type": "stream",
     "text": [
      "GradientBoostingRegressor grid search.\n"
     ]
    },
    {
     "name": "stderr",
     "output_type": "stream",
     "text": [
      "C:\\Users\\jtd1g16\\AppData\\Local\\Continuum\\anaconda3\\lib\\site-packages\\sklearn\\model_selection\\_split.py:1978: FutureWarning: The default value of cv will change from 3 to 5 in version 0.22. Specify it explicitly to silence this warning.\n",
      "  warnings.warn(CV_WARNING, FutureWarning)\n"
     ]
    },
    {
     "name": "stdout",
     "output_type": "stream",
     "text": [
      "{'learning_rate': 0.02, 'loss': 'lad', 'max_depth': 6, 'max_features': 0.3, 'min_samples_leaf': 5, 'n_estimators': 500}\n",
      "Training Score:\t 0.9256115162647272\n",
      "Testing Score:\t 0.8206605480078193\n",
      "GradientBoostingRegressor run at: 2020-01-15 18:46:57.816832 . Saving to models/DRAGON_noVPAS/GradientBoostingRegressor_mutual_info_15_01_2020_18_46_57.joblib\n"
     ]
    }
   ],
   "source": [
    "X_train, X_test = X_train_main[top_15_features_mutual_info], X_test_main[top_15_features_mutual_info]\n",
    "\n",
    "\n",
    "best_hp = grid_search_return_hp_dict(GradientBoostingRegressor(),\n",
    "                                     X_train, y_train, gbr_param_grid)\n",
    "\n",
    "gbr_mu = GradientBoostingRegressor(**best_hp)\n",
    "gbr_mu.fit(X_train, y_train)\n",
    "\n",
    "exp_vs_calc_gbr_mu = produce_exp_vs_pred_df('top_15_features_mutual_info', gbr_mu,\n",
    "                                            \"GradBoost, Mutual Info\")"
   ]
  },
  {
   "cell_type": "markdown",
   "metadata": {},
   "source": [
    "### LASSO features"
   ]
  },
  {
   "cell_type": "code",
   "execution_count": 17,
   "metadata": {
    "ExecuteTime": {
     "end_time": "2020-01-15T19:36:15.013228Z",
     "start_time": "2020-01-15T18:47:21.478366Z"
    }
   },
   "outputs": [
    {
     "name": "stdout",
     "output_type": "stream",
     "text": [
      "GradientBoostingRegressor grid search.\n"
     ]
    },
    {
     "name": "stderr",
     "output_type": "stream",
     "text": [
      "C:\\Users\\jtd1g16\\AppData\\Local\\Continuum\\anaconda3\\lib\\site-packages\\sklearn\\model_selection\\_split.py:1978: FutureWarning: The default value of cv will change from 3 to 5 in version 0.22. Specify it explicitly to silence this warning.\n",
      "  warnings.warn(CV_WARNING, FutureWarning)\n"
     ]
    },
    {
     "name": "stdout",
     "output_type": "stream",
     "text": [
      "{'learning_rate': 0.1, 'loss': 'huber', 'max_depth': 2, 'max_features': 0.3, 'min_samples_leaf': 5, 'n_estimators': 500}\n",
      "Training Score:\t 0.9206767370690273\n",
      "Testing Score:\t 0.8058515449204732\n",
      "GradientBoostingRegressor run at: 2020-01-15 19:36:14.967111 . Saving to models/DRAGON_noVPAS/GradientBoostingRegressor_lasso_15_01_2020_19_36_14.joblib\n"
     ]
    }
   ],
   "source": [
    "X_train, X_test = X_train_main[top_15_features_lasso], X_test_main[top_15_features_lasso]\n",
    "\n",
    "best_hp = grid_search_return_hp_dict(GradientBoostingRegressor(), \n",
    "                                     X_train, y_train, gbr_param_grid)\n",
    "\n",
    "gbr_lasso = GradientBoostingRegressor(**best_hp)\n",
    "gbr_lasso.fit(X_train, y_train)\n",
    "exp_vs_calc_gbr_lasso = produce_exp_vs_pred_df('top_15_features_lasso', gbr_lasso,\n",
    "                                               \"LASSO-features, GBR model\")"
   ]
  },
  {
   "cell_type": "markdown",
   "metadata": {},
   "source": [
    "## Decision Tree\n",
    "### Model-Chosen Features"
   ]
  },
  {
   "cell_type": "code",
   "execution_count": 18,
   "metadata": {
    "ExecuteTime": {
     "end_time": "2020-01-15T19:36:42.421887Z",
     "start_time": "2020-01-15T19:36:42.408853Z"
    }
   },
   "outputs": [],
   "source": [
    "dtr_param_grid = {\n",
    "    'criterion': ['mse', 'friedman_mse', 'mae'], #function measuring quality of a split\n",
    "    'max_depth': [5, 10, 20] , # max depth of tree\n",
    "    'max_features': [5, 10, 15], # N features to be considered when looking for split\n",
    "    'max_leaf_nodes': [None, 10, 15, 20, 30], #grows tree with N nodes in best-first fashion\n",
    "    'min_impurity_decrease': [0.0, 0.1],\n",
    "    'min_samples_leaf': [1, 2, 3], \n",
    "    'min_samples_split': [1.0, 2, 3],\n",
    "    'min_weight_fraction_leaf': [0.0, 0.1, 0.5] , \n",
    "    'splitter': ['best', 'random']\n",
    "} #hyperparameters for dtr gridsearch"
   ]
  },
  {
   "cell_type": "code",
   "execution_count": 19,
   "metadata": {
    "ExecuteTime": {
     "end_time": "2020-01-15T19:39:43.691986Z",
     "start_time": "2020-01-15T19:37:11.205459Z"
    }
   },
   "outputs": [
    {
     "name": "stdout",
     "output_type": "stream",
     "text": [
      "DecisionTreeRegressor grid search.\n"
     ]
    },
    {
     "name": "stderr",
     "output_type": "stream",
     "text": [
      "C:\\Users\\jtd1g16\\AppData\\Local\\Continuum\\anaconda3\\lib\\site-packages\\sklearn\\model_selection\\_split.py:1978: FutureWarning: The default value of cv will change from 3 to 5 in version 0.22. Specify it explicitly to silence this warning.\n",
      "  warnings.warn(CV_WARNING, FutureWarning)\n"
     ]
    },
    {
     "name": "stdout",
     "output_type": "stream",
     "text": [
      "{'criterion': 'friedman_mse', 'max_depth': 10, 'max_features': 15, 'max_leaf_nodes': None, 'min_impurity_decrease': 0.0, 'min_samples_leaf': 3, 'min_samples_split': 3, 'min_weight_fraction_leaf': 0.0, 'splitter': 'random'}\n",
      "Training Score:\t 0.9053795652033311\n",
      "Testing Score:\t 0.7857779153274613\n",
      "DecisionTreeRegressor run at: 2020-01-15 19:39:43.684966 . Saving to models/DRAGON_noVPAS/DecisionTreeRegressor_model_15_01_2020_19_39_43.joblib\n"
     ]
    }
   ],
   "source": [
    "X_train, X_test = X_train_main[top_15_features_model], X_test_main[top_15_features_model]\n",
    "\n",
    "best_hp = grid_search_return_hp_dict(DecisionTreeRegressor(), X_train, y_train, dtr_param_grid)\n",
    "\n",
    "dtr_model = DecisionTreeRegressor(**best_hp)\n",
    "\n",
    "dtr_model.fit(X_train, y_train)\n",
    "\n",
    "exp_vs_calc_dtr_model = produce_exp_vs_pred_df('top_15_features_model', dtr_model,\n",
    "                                         \"Decision Tree, model-chosen features\")"
   ]
  },
  {
   "cell_type": "markdown",
   "metadata": {},
   "source": [
    "### F-regression features"
   ]
  },
  {
   "cell_type": "code",
   "execution_count": 20,
   "metadata": {
    "ExecuteTime": {
     "end_time": "2020-01-15T19:42:27.007026Z",
     "start_time": "2020-01-15T19:40:04.103840Z"
    }
   },
   "outputs": [
    {
     "name": "stdout",
     "output_type": "stream",
     "text": [
      "DecisionTreeRegressor grid search.\n"
     ]
    },
    {
     "name": "stderr",
     "output_type": "stream",
     "text": [
      "C:\\Users\\jtd1g16\\AppData\\Local\\Continuum\\anaconda3\\lib\\site-packages\\sklearn\\model_selection\\_split.py:1978: FutureWarning: The default value of cv will change from 3 to 5 in version 0.22. Specify it explicitly to silence this warning.\n",
      "  warnings.warn(CV_WARNING, FutureWarning)\n"
     ]
    },
    {
     "name": "stdout",
     "output_type": "stream",
     "text": [
      "{'criterion': 'mae', 'max_depth': 10, 'max_features': 15, 'max_leaf_nodes': None, 'min_impurity_decrease': 0.0, 'min_samples_leaf': 3, 'min_samples_split': 2, 'min_weight_fraction_leaf': 0.0, 'splitter': 'random'}\n",
      "Training Score:\t 0.8696568488716836\n",
      "Testing Score:\t 0.7599643264268399\n",
      "DecisionTreeRegressor run at: 2020-01-15 19:42:27.001093 . Saving to models/DRAGON_noVPAS/DecisionTreeRegressor_kbest_15_01_2020_19_42_27.joblib\n"
     ]
    }
   ],
   "source": [
    "X_train, X_test = X_train_main[top_15_features_kbest], X_test_main[top_15_features_kbest]\n",
    "\n",
    "\n",
    "best_hp = grid_search_return_hp_dict(DecisionTreeRegressor(), X_train, y_train, dtr_param_grid)\n",
    "\n",
    "dtr_freg = DecisionTreeRegressor(**best_hp)\n",
    "\n",
    "dtr_freg.fit(X_train, y_train)\n",
    "\n",
    "exp_vs_calc_dtr_freg = produce_exp_vs_pred_df('top_15_features_kbest', dtr_freg,\n",
    "                                         \"Decision Tree, freg features\")"
   ]
  },
  {
   "cell_type": "markdown",
   "metadata": {},
   "source": [
    "### Mutual info features"
   ]
  },
  {
   "cell_type": "code",
   "execution_count": 21,
   "metadata": {
    "ExecuteTime": {
     "end_time": "2020-01-15T19:45:28.738637Z",
     "start_time": "2020-01-15T19:42:50.147817Z"
    }
   },
   "outputs": [
    {
     "name": "stdout",
     "output_type": "stream",
     "text": [
      "DecisionTreeRegressor grid search.\n"
     ]
    },
    {
     "name": "stderr",
     "output_type": "stream",
     "text": [
      "C:\\Users\\jtd1g16\\AppData\\Local\\Continuum\\anaconda3\\lib\\site-packages\\sklearn\\model_selection\\_split.py:1978: FutureWarning: The default value of cv will change from 3 to 5 in version 0.22. Specify it explicitly to silence this warning.\n",
      "  warnings.warn(CV_WARNING, FutureWarning)\n"
     ]
    },
    {
     "name": "stdout",
     "output_type": "stream",
     "text": [
      "{'criterion': 'friedman_mse', 'max_depth': 20, 'max_features': 15, 'max_leaf_nodes': None, 'min_impurity_decrease': 0.1, 'min_samples_leaf': 3, 'min_samples_split': 2, 'min_weight_fraction_leaf': 0.0, 'splitter': 'random'}\n",
      "Training Score:\t 0.9125384855550006\n",
      "Testing Score:\t 0.7840257299969178\n",
      "DecisionTreeRegressor run at: 2020-01-15 19:45:28.732619 . Saving to models/DRAGON_noVPAS/DecisionTreeRegressor_mutual_info_15_01_2020_19_45_28.joblib\n"
     ]
    }
   ],
   "source": [
    "X_train, X_test = X_train_main[top_15_features_mutual_info], X_test_main[top_15_features_mutual_info]\n",
    "\n",
    "best_hp = grid_search_return_hp_dict(DecisionTreeRegressor(), X_train, y_train, dtr_param_grid)\n",
    "\n",
    "dtr_mu = DecisionTreeRegressor(**best_hp)\n",
    "\n",
    "dtr_mu.fit(X_train, y_train)\n",
    "\n",
    "exp_vs_calc_dtr_mu = produce_exp_vs_pred_df('top_15_features_mutual_info', dtr_mu,\n",
    "                                         \"Decision Tree, mutual info features\")"
   ]
  },
  {
   "cell_type": "markdown",
   "metadata": {},
   "source": [
    "### LASSO features"
   ]
  },
  {
   "cell_type": "code",
   "execution_count": 22,
   "metadata": {
    "ExecuteTime": {
     "end_time": "2020-01-15T19:48:27.796131Z",
     "start_time": "2020-01-15T19:45:52.461612Z"
    }
   },
   "outputs": [
    {
     "name": "stdout",
     "output_type": "stream",
     "text": [
      "DecisionTreeRegressor grid search.\n"
     ]
    },
    {
     "name": "stderr",
     "output_type": "stream",
     "text": [
      "C:\\Users\\jtd1g16\\AppData\\Local\\Continuum\\anaconda3\\lib\\site-packages\\sklearn\\model_selection\\_split.py:1978: FutureWarning: The default value of cv will change from 3 to 5 in version 0.22. Specify it explicitly to silence this warning.\n",
      "  warnings.warn(CV_WARNING, FutureWarning)\n"
     ]
    },
    {
     "name": "stdout",
     "output_type": "stream",
     "text": [
      "{'criterion': 'mae', 'max_depth': 5, 'max_features': 10, 'max_leaf_nodes': 20, 'min_impurity_decrease': 0.0, 'min_samples_leaf': 3, 'min_samples_split': 3, 'min_weight_fraction_leaf': 0.0, 'splitter': 'best'}\n",
      "Training Score:\t 0.7863811653972945\n",
      "Testing Score:\t 0.7378477846276876\n",
      "DecisionTreeRegressor run at: 2020-01-15 19:48:27.790152 . Saving to models/DRAGON_noVPAS/DecisionTreeRegressor_lasso_15_01_2020_19_48_27.joblib\n"
     ]
    }
   ],
   "source": [
    "X_train, X_test = X_train_main[top_15_features_lasso], X_test_main[top_15_features_lasso]\n",
    "\n",
    "best_hp = grid_search_return_hp_dict(DecisionTreeRegressor(), X_train, y_train, dtr_param_grid)\n",
    "\n",
    "dtr_lasso = DecisionTreeRegressor(**best_hp)\n",
    "\n",
    "dtr_lasso.fit(X_train, y_train)\n",
    "\n",
    "exp_vs_calc_dtr_lasso = produce_exp_vs_pred_df('top_15_features_lasso', dtr_lasso,\n",
    "                                         \"Decision Tree, lasso features\")"
   ]
  },
  {
   "cell_type": "markdown",
   "metadata": {},
   "source": [
    "## AdaBoost Regressor\n",
    "### Model Chosen Features"
   ]
  },
  {
   "cell_type": "code",
   "execution_count": 23,
   "metadata": {
    "ExecuteTime": {
     "end_time": "2020-01-15T19:48:48.578723Z",
     "start_time": "2020-01-15T19:48:48.572736Z"
    }
   },
   "outputs": [],
   "source": [
    "base_models = [ExtraTreesRegressor(n_estimators= 5,\n",
    "                                   criterion= 'mse',\n",
    "                                   max_features = 'log2'),\n",
    "               RandomForestRegressor(n_estimators= 5,\n",
    "                                     criterion= 'mse',\n",
    "                                     max_features = 'sqrt',\n",
    "                                     min_samples_split = 3),\n",
    "              GradientBoostingRegressor(),\n",
    "              DecisionTreeRegressor(),\n",
    "              Lars(),\n",
    "              ElasticNet()]\n",
    "\n",
    "ada_param_grid = {\n",
    "    'base_estimator' : base_models, \n",
    "    'learning_rate' : [0.3, 0.5, 0.8, 1], \n",
    "    'loss' : ['linear', 'square', 'exponential'], \n",
    "    'n_estimators' : [50, 100]\n",
    "} #hyperparameters for adaboost gridsearch"
   ]
  },
  {
   "cell_type": "code",
   "execution_count": 24,
   "metadata": {
    "ExecuteTime": {
     "end_time": "2020-01-15T19:54:11.687202Z",
     "start_time": "2020-01-15T19:49:09.296461Z"
    }
   },
   "outputs": [
    {
     "name": "stdout",
     "output_type": "stream",
     "text": [
      "AdaBoostRegressor grid search.\n"
     ]
    },
    {
     "name": "stderr",
     "output_type": "stream",
     "text": [
      "C:\\Users\\jtd1g16\\AppData\\Local\\Continuum\\anaconda3\\lib\\site-packages\\sklearn\\model_selection\\_split.py:1978: FutureWarning: The default value of cv will change from 3 to 5 in version 0.22. Specify it explicitly to silence this warning.\n",
      "  warnings.warn(CV_WARNING, FutureWarning)\n"
     ]
    },
    {
     "name": "stdout",
     "output_type": "stream",
     "text": [
      "{'base_estimator': RandomForestRegressor(bootstrap=True, criterion='mse', max_depth=None,\n",
      "                      max_features='sqrt', max_leaf_nodes=None,\n",
      "                      min_impurity_decrease=0.0, min_impurity_split=None,\n",
      "                      min_samples_leaf=1, min_samples_split=3,\n",
      "                      min_weight_fraction_leaf=0.0, n_estimators=5, n_jobs=None,\n",
      "                      oob_score=False, random_state=None, verbose=0,\n",
      "                      warm_start=False), 'learning_rate': 0.5, 'loss': 'exponential', 'n_estimators': 50}\n",
      "Training Score:\t 0.9778736844712537\n",
      "Testing Score:\t 0.8540271109970984\n",
      "AdaBoostRegressor run at: 2020-01-15 19:54:11.581919 . Saving to models/DRAGON_noVPAS/AdaBoostRegressor_model_15_01_2020_19_54_11.joblib\n"
     ]
    }
   ],
   "source": [
    "X_train, X_test = X_train_main[top_15_features_model], X_test_main[top_15_features_model]\n",
    "\n",
    "best_hp = grid_search_return_hp_dict(AdaBoostRegressor(), X_train, y_train, ada_param_grid)\n",
    "\n",
    "ada_model = AdaBoostRegressor(**best_hp)\n",
    "\n",
    "ada_model.fit(X_train, y_train)\n",
    "\n",
    "exp_vs_calc_ada_model = produce_exp_vs_pred_df('top_15_features_model', ada_model,\n",
    "                                               \"AdaBoost, model features\")"
   ]
  },
  {
   "cell_type": "markdown",
   "metadata": {},
   "source": [
    "### F-regression features"
   ]
  },
  {
   "cell_type": "code",
   "execution_count": 25,
   "metadata": {
    "ExecuteTime": {
     "end_time": "2020-01-15T20:00:07.573953Z",
     "start_time": "2020-01-15T19:54:37.805840Z"
    }
   },
   "outputs": [
    {
     "name": "stdout",
     "output_type": "stream",
     "text": [
      "AdaBoostRegressor grid search.\n"
     ]
    },
    {
     "name": "stderr",
     "output_type": "stream",
     "text": [
      "C:\\Users\\jtd1g16\\AppData\\Local\\Continuum\\anaconda3\\lib\\site-packages\\sklearn\\model_selection\\_split.py:1978: FutureWarning: The default value of cv will change from 3 to 5 in version 0.22. Specify it explicitly to silence this warning.\n",
      "  warnings.warn(CV_WARNING, FutureWarning)\n"
     ]
    },
    {
     "name": "stdout",
     "output_type": "stream",
     "text": [
      "{'base_estimator': ExtraTreesRegressor(bootstrap=False, criterion='mse', max_depth=None,\n",
      "                    max_features='log2', max_leaf_nodes=None,\n",
      "                    min_impurity_decrease=0.0, min_impurity_split=None,\n",
      "                    min_samples_leaf=1, min_samples_split=2,\n",
      "                    min_weight_fraction_leaf=0.0, n_estimators=5, n_jobs=None,\n",
      "                    oob_score=False, random_state=None, verbose=0,\n",
      "                    warm_start=False), 'learning_rate': 0.3, 'loss': 'exponential', 'n_estimators': 100}\n",
      "Training Score:\t 0.9892471124149445\n",
      "Testing Score:\t 0.8391827605040496\n",
      "AdaBoostRegressor run at: 2020-01-15 20:00:07.366401 . Saving to models/DRAGON_noVPAS/AdaBoostRegressor_kbest_15_01_2020_20_00_07.joblib\n"
     ]
    }
   ],
   "source": [
    "X_train, X_test = X_train_main[top_15_features_kbest], X_test_main[top_15_features_kbest]\n",
    "\n",
    "best_hp = grid_search_return_hp_dict(AdaBoostRegressor(), X_train, y_train, ada_param_grid)\n",
    "\n",
    "ada_freg = AdaBoostRegressor(**best_hp)\n",
    "\n",
    "ada_freg.fit(X_train, y_train)\n",
    "\n",
    "exp_vs_calc_ada_freg = produce_exp_vs_pred_df('top_15_features_kbest', ada_freg,\n",
    "                                               \"AdaBoost, freg features\")"
   ]
  },
  {
   "cell_type": "markdown",
   "metadata": {},
   "source": [
    "### Mutual info features"
   ]
  },
  {
   "cell_type": "code",
   "execution_count": 26,
   "metadata": {
    "ExecuteTime": {
     "end_time": "2020-01-15T20:05:44.353407Z",
     "start_time": "2020-01-15T20:00:32.969940Z"
    }
   },
   "outputs": [
    {
     "name": "stdout",
     "output_type": "stream",
     "text": [
      "AdaBoostRegressor grid search.\n"
     ]
    },
    {
     "name": "stderr",
     "output_type": "stream",
     "text": [
      "C:\\Users\\jtd1g16\\AppData\\Local\\Continuum\\anaconda3\\lib\\site-packages\\sklearn\\model_selection\\_split.py:1978: FutureWarning: The default value of cv will change from 3 to 5 in version 0.22. Specify it explicitly to silence this warning.\n",
      "  warnings.warn(CV_WARNING, FutureWarning)\n"
     ]
    },
    {
     "name": "stdout",
     "output_type": "stream",
     "text": [
      "{'base_estimator': ExtraTreesRegressor(bootstrap=False, criterion='mse', max_depth=None,\n",
      "                    max_features='log2', max_leaf_nodes=None,\n",
      "                    min_impurity_decrease=0.0, min_impurity_split=None,\n",
      "                    min_samples_leaf=1, min_samples_split=2,\n",
      "                    min_weight_fraction_leaf=0.0, n_estimators=5, n_jobs=None,\n",
      "                    oob_score=False, random_state=None, verbose=0,\n",
      "                    warm_start=False), 'learning_rate': 0.3, 'loss': 'square', 'n_estimators': 50}\n",
      "Training Score:\t 0.9878520045373704\n",
      "Testing Score:\t 0.8166801492398043\n",
      "AdaBoostRegressor run at: 2020-01-15 20:05:44.234592 . Saving to models/DRAGON_noVPAS/AdaBoostRegressor_mutual_info_15_01_2020_20_05_44.joblib\n"
     ]
    }
   ],
   "source": [
    "X_train, X_test = X_train_main[top_15_features_mutual_info], X_test_main[top_15_features_mutual_info]\n",
    "\n",
    "best_hp = grid_search_return_hp_dict(AdaBoostRegressor(), X_train, y_train, ada_param_grid)\n",
    "\n",
    "ada_mu = AdaBoostRegressor(**best_hp)\n",
    "\n",
    "ada_mu.fit(X_train, y_train)\n",
    "\n",
    "exp_vs_calc_ada_mu = produce_exp_vs_pred_df('top_15_features_mutual_info', ada_mu,\n",
    "                                               \"AdaBoost, mutual info features\")"
   ]
  },
  {
   "cell_type": "markdown",
   "metadata": {},
   "source": [
    "### LASSO features"
   ]
  },
  {
   "cell_type": "code",
   "execution_count": 27,
   "metadata": {
    "ExecuteTime": {
     "end_time": "2020-01-15T20:11:12.589640Z",
     "start_time": "2020-01-15T20:06:07.786415Z"
    }
   },
   "outputs": [
    {
     "name": "stdout",
     "output_type": "stream",
     "text": [
      "AdaBoostRegressor grid search.\n"
     ]
    },
    {
     "name": "stderr",
     "output_type": "stream",
     "text": [
      "C:\\Users\\jtd1g16\\AppData\\Local\\Continuum\\anaconda3\\lib\\site-packages\\sklearn\\model_selection\\_split.py:1978: FutureWarning: The default value of cv will change from 3 to 5 in version 0.22. Specify it explicitly to silence this warning.\n",
      "  warnings.warn(CV_WARNING, FutureWarning)\n"
     ]
    },
    {
     "name": "stdout",
     "output_type": "stream",
     "text": [
      "{'base_estimator': GradientBoostingRegressor(alpha=0.9, criterion='friedman_mse', init=None,\n",
      "                          learning_rate=0.1, loss='ls', max_depth=3,\n",
      "                          max_features=None, max_leaf_nodes=None,\n",
      "                          min_impurity_decrease=0.0, min_impurity_split=None,\n",
      "                          min_samples_leaf=1, min_samples_split=2,\n",
      "                          min_weight_fraction_leaf=0.0, n_estimators=100,\n",
      "                          n_iter_no_change=None, presort='auto',\n",
      "                          random_state=None, subsample=1.0, tol=0.0001,\n",
      "                          validation_fraction=0.1, verbose=0, warm_start=False), 'learning_rate': 0.3, 'loss': 'square', 'n_estimators': 50}\n",
      "Training Score:\t 0.9421185489847377\n",
      "Testing Score:\t 0.8019236029905988\n",
      "AdaBoostRegressor run at: 2020-01-15 20:11:12.356527 . Saving to models/DRAGON_noVPAS/AdaBoostRegressor_lasso_15_01_2020_20_11_12.joblib\n"
     ]
    }
   ],
   "source": [
    "X_train, X_test = X_train_main[top_15_features_lasso], X_test_main[top_15_features_lasso]\n",
    "\n",
    "best_hp = grid_search_return_hp_dict(AdaBoostRegressor(), X_train, y_train, ada_param_grid)\n",
    "\n",
    "ada_lasso = AdaBoostRegressor(**best_hp)\n",
    "\n",
    "ada_lasso.fit(X_train, y_train)\n",
    "\n",
    "exp_vs_calc_ada_lasso = produce_exp_vs_pred_df('top_15_features_lasso', ada_lasso,\n",
    "                                               \"AdaBoost, model features\")"
   ]
  },
  {
   "cell_type": "markdown",
   "metadata": {},
   "source": [
    "## LASSO\n",
    "### Model Chosen Features"
   ]
  },
  {
   "cell_type": "code",
   "execution_count": 28,
   "metadata": {
    "ExecuteTime": {
     "end_time": "2020-01-15T20:11:36.299191Z",
     "start_time": "2020-01-15T20:11:36.294683Z"
    }
   },
   "outputs": [],
   "source": [
    "lasso_param_grid = {\n",
    "    'alpha':[0.2, 0.4, 0.6, 0.8],\n",
    "    'max_iter':[1000, 5000, 10000, 50000],\n",
    "    'selection':['cyclic', 'random']\n",
    "}"
   ]
  },
  {
   "cell_type": "code",
   "execution_count": 29,
   "metadata": {
    "ExecuteTime": {
     "end_time": "2020-01-15T20:12:08.213283Z",
     "start_time": "2020-01-15T20:11:59.729071Z"
    }
   },
   "outputs": [
    {
     "name": "stdout",
     "output_type": "stream",
     "text": [
      "Lasso grid search.\n"
     ]
    },
    {
     "name": "stderr",
     "output_type": "stream",
     "text": [
      "C:\\Users\\jtd1g16\\AppData\\Local\\Continuum\\anaconda3\\lib\\site-packages\\sklearn\\model_selection\\_split.py:1978: FutureWarning: The default value of cv will change from 3 to 5 in version 0.22. Specify it explicitly to silence this warning.\n",
      "  warnings.warn(CV_WARNING, FutureWarning)\n"
     ]
    },
    {
     "name": "stdout",
     "output_type": "stream",
     "text": [
      "{'alpha': 0.2, 'max_iter': 1000, 'selection': 'cyclic'}\n",
      "Training Score:\t 0.7441838585069578\n",
      "Testing Score:\t 0.7598767635190887\n",
      "Lasso run at: 2020-01-15 20:12:08.207769 . Saving to models/DRAGON_noVPAS/Lasso_model_15_01_2020_20_12_08.joblib\n"
     ]
    }
   ],
   "source": [
    "X_train, X_test = X_train_main[top_15_features_model], X_test_main[top_15_features_model]\n",
    "best_hp = grid_search_return_hp_dict(Lasso(), X_train, y_train, lasso_param_grid)\n",
    "lasso_model = Lasso(**best_hp)\n",
    "lasso_model.fit(X_train, y_train)\n",
    "\n",
    "exp_vs_calc_lasso_model = produce_exp_vs_pred_df('top_15_features_model', lasso_model,\n",
    "                                                 \"LASSO, model features\")"
   ]
  },
  {
   "cell_type": "markdown",
   "metadata": {},
   "source": [
    "### F-regression features"
   ]
  },
  {
   "cell_type": "code",
   "execution_count": 30,
   "metadata": {
    "ExecuteTime": {
     "end_time": "2020-01-15T20:12:38.508600Z",
     "start_time": "2020-01-15T20:12:32.038975Z"
    }
   },
   "outputs": [
    {
     "name": "stdout",
     "output_type": "stream",
     "text": [
      "Lasso grid search.\n"
     ]
    },
    {
     "name": "stderr",
     "output_type": "stream",
     "text": [
      "C:\\Users\\jtd1g16\\AppData\\Local\\Continuum\\anaconda3\\lib\\site-packages\\sklearn\\model_selection\\_split.py:1978: FutureWarning: The default value of cv will change from 3 to 5 in version 0.22. Specify it explicitly to silence this warning.\n",
      "  warnings.warn(CV_WARNING, FutureWarning)\n"
     ]
    },
    {
     "name": "stdout",
     "output_type": "stream",
     "text": [
      "{'alpha': 0.2, 'max_iter': 5000, 'selection': 'cyclic'}\n",
      "Training Score:\t 0.7036103777444165\n",
      "Testing Score:\t 0.7396619289263748\n",
      "Lasso run at: 2020-01-15 20:12:38.502589 . Saving to models/DRAGON_noVPAS/Lasso_kbest_15_01_2020_20_12_38.joblib\n"
     ]
    }
   ],
   "source": [
    "X_train, X_test = X_train_main[top_15_features_kbest], X_test_main[top_15_features_kbest]\n",
    "best_hp = grid_search_return_hp_dict(Lasso(), X_train, y_train, lasso_param_grid)\n",
    "lasso_freg = Lasso(**best_hp)\n",
    "lasso_freg.fit(X_train, y_train)\n",
    "\n",
    "exp_vs_calc_lasso_freg = produce_exp_vs_pred_df('top_15_features_kbest', lasso_freg,\n",
    "                                                 \"LASSO, f-reg features\")"
   ]
  },
  {
   "cell_type": "markdown",
   "metadata": {},
   "source": [
    "### Mutual info features"
   ]
  },
  {
   "cell_type": "code",
   "execution_count": 31,
   "metadata": {
    "ExecuteTime": {
     "end_time": "2020-01-15T20:13:07.358828Z",
     "start_time": "2020-01-15T20:13:02.303346Z"
    }
   },
   "outputs": [
    {
     "name": "stdout",
     "output_type": "stream",
     "text": [
      "Lasso grid search.\n"
     ]
    },
    {
     "name": "stderr",
     "output_type": "stream",
     "text": [
      "C:\\Users\\jtd1g16\\AppData\\Local\\Continuum\\anaconda3\\lib\\site-packages\\sklearn\\model_selection\\_split.py:1978: FutureWarning: The default value of cv will change from 3 to 5 in version 0.22. Specify it explicitly to silence this warning.\n",
      "  warnings.warn(CV_WARNING, FutureWarning)\n"
     ]
    },
    {
     "name": "stdout",
     "output_type": "stream",
     "text": [
      "{'alpha': 0.2, 'max_iter': 1000, 'selection': 'cyclic'}\n",
      "Training Score:\t 0.6656586017960877\n",
      "Testing Score:\t 0.646561704209611\n",
      "Lasso run at: 2020-01-15 20:13:07.353812 . Saving to models/DRAGON_noVPAS/Lasso_mutual_info_15_01_2020_20_13_07.joblib\n"
     ]
    }
   ],
   "source": [
    "X_train, X_test = X_train_main[top_15_features_mutual_info], X_test_main[top_15_features_mutual_info]\n",
    "best_hp = grid_search_return_hp_dict(Lasso(), X_train, y_train, lasso_param_grid)\n",
    "lasso_mu = Lasso(**best_hp)\n",
    "lasso_mu.fit(X_train, y_train)\n",
    "\n",
    "exp_vs_calc_lasso_mu = produce_exp_vs_pred_df('top_15_features_mutual_info', lasso_mu,\n",
    "                                                 \"LASSO, mutual info features\")"
   ]
  },
  {
   "cell_type": "markdown",
   "metadata": {},
   "source": [
    "### LASSO Features"
   ]
  },
  {
   "cell_type": "code",
   "execution_count": 32,
   "metadata": {
    "ExecuteTime": {
     "end_time": "2020-01-15T20:13:36.502351Z",
     "start_time": "2020-01-15T20:13:31.274337Z"
    }
   },
   "outputs": [
    {
     "name": "stdout",
     "output_type": "stream",
     "text": [
      "Lasso grid search.\n"
     ]
    },
    {
     "name": "stderr",
     "output_type": "stream",
     "text": [
      "C:\\Users\\jtd1g16\\AppData\\Local\\Continuum\\anaconda3\\lib\\site-packages\\sklearn\\model_selection\\_split.py:1978: FutureWarning: The default value of cv will change from 3 to 5 in version 0.22. Specify it explicitly to silence this warning.\n",
      "  warnings.warn(CV_WARNING, FutureWarning)\n",
      "C:\\Users\\jtd1g16\\AppData\\Local\\Continuum\\anaconda3\\lib\\site-packages\\sklearn\\linear_model\\coordinate_descent.py:475: ConvergenceWarning: Objective did not converge. You might want to increase the number of iterations. Duality gap: 453.08570153526125, tolerance: 3.913076085273699\n",
      "  positive)\n",
      "C:\\Users\\jtd1g16\\AppData\\Local\\Continuum\\anaconda3\\lib\\site-packages\\sklearn\\linear_model\\coordinate_descent.py:475: ConvergenceWarning: Objective did not converge. You might want to increase the number of iterations. Duality gap: 272.4959422045358, tolerance: 3.913076085273699\n",
      "  positive)\n"
     ]
    },
    {
     "name": "stdout",
     "output_type": "stream",
     "text": [
      "{'alpha': 0.2, 'max_iter': 1000, 'selection': 'random'}\n",
      "Training Score:\t 0.7450139271594947\n",
      "Testing Score:\t 0.7548338170443302\n",
      "Lasso run at: 2020-01-15 20:13:36.495831 . Saving to models/DRAGON_noVPAS/Lasso_lasso_15_01_2020_20_13_36.joblib\n"
     ]
    }
   ],
   "source": [
    "X_train, X_test = X_train_main[top_15_features_lasso], X_test_main[top_15_features_lasso]\n",
    "best_hp = grid_search_return_hp_dict(Lasso(), X_train, y_train, lasso_param_grid)\n",
    "lasso_lasso = Lasso(**best_hp)\n",
    "lasso_lasso.fit(X_train, y_train)\n",
    "\n",
    "exp_vs_calc_lasso_lasso = produce_exp_vs_pred_df('top_15_features_lasso', lasso_lasso,\n",
    "                                                 \"LASSO, lasso features\")"
   ]
  },
  {
   "cell_type": "markdown",
   "metadata": {},
   "source": [
    "## Random Forest Regressor\n",
    "### Model Chosen Features"
   ]
  },
  {
   "cell_type": "code",
   "execution_count": 33,
   "metadata": {
    "ExecuteTime": {
     "end_time": "2020-01-15T20:14:00.313250Z",
     "start_time": "2020-01-15T20:14:00.306731Z"
    }
   },
   "outputs": [],
   "source": [
    "random_forest_param_grid = {\n",
    "    'max_depth': [10, 20, 30, 40, 50, 60, 70, 80, 90, None],\n",
    "    'max_features': ['auto', 'sqrt'],\n",
    "    'min_samples_leaf': [1, 2, 4],\n",
    "    'min_samples_split': [2, 5, 10],\n",
    "    'n_estimators': [200, 400, 600, 800, 1000, 1200, 1400, 1600]\n",
    "}"
   ]
  },
  {
   "cell_type": "code",
   "execution_count": 34,
   "metadata": {
    "ExecuteTime": {
     "end_time": "2020-01-15T21:50:17.857757Z",
     "start_time": "2020-01-15T20:14:24.306946Z"
    }
   },
   "outputs": [
    {
     "name": "stdout",
     "output_type": "stream",
     "text": [
      "RandomForestRegressor grid search.\n"
     ]
    },
    {
     "name": "stderr",
     "output_type": "stream",
     "text": [
      "C:\\Users\\jtd1g16\\AppData\\Local\\Continuum\\anaconda3\\lib\\site-packages\\sklearn\\model_selection\\_split.py:1978: FutureWarning: The default value of cv will change from 3 to 5 in version 0.22. Specify it explicitly to silence this warning.\n",
      "  warnings.warn(CV_WARNING, FutureWarning)\n"
     ]
    },
    {
     "name": "stdout",
     "output_type": "stream",
     "text": [
      "{'max_depth': None, 'max_features': 'sqrt', 'min_samples_leaf': 2, 'min_samples_split': 2, 'n_estimators': 400}\n",
      "Training Score:\t 0.9521365989206246\n",
      "Testing Score:\t 0.8540268712146579\n",
      "RandomForestRegressor run at: 2020-01-15 21:50:17.703348 . Saving to models/DRAGON_noVPAS/RandomForestRegressor_model_15_01_2020_21_50_17.joblib\n"
     ]
    }
   ],
   "source": [
    "X_train, X_test = X_train_main[top_15_features_model], X_test_main[top_15_features_model]\n",
    "best_hp = grid_search_return_hp_dict(RandomForestRegressor(),\n",
    "                                     X_train, y_train, random_forest_param_grid)\n",
    "random_forest_model = RandomForestRegressor(**best_hp)\n",
    "random_forest_model.fit(X_train, y_train)\n",
    "exp_vs_calc_random_forest_model = produce_exp_vs_pred_df('top_15_features_model', random_forest_model,\n",
    "                                                         \"RandomForest, model features\")"
   ]
  },
  {
   "cell_type": "markdown",
   "metadata": {},
   "source": [
    "### F-regression features"
   ]
  },
  {
   "cell_type": "code",
   "execution_count": 35,
   "metadata": {
    "ExecuteTime": {
     "end_time": "2020-01-15T23:13:07.681830Z",
     "start_time": "2020-01-15T21:50:40.294766Z"
    }
   },
   "outputs": [
    {
     "name": "stdout",
     "output_type": "stream",
     "text": [
      "RandomForestRegressor grid search.\n"
     ]
    },
    {
     "name": "stderr",
     "output_type": "stream",
     "text": [
      "C:\\Users\\jtd1g16\\AppData\\Local\\Continuum\\anaconda3\\lib\\site-packages\\sklearn\\model_selection\\_split.py:1978: FutureWarning: The default value of cv will change from 3 to 5 in version 0.22. Specify it explicitly to silence this warning.\n",
      "  warnings.warn(CV_WARNING, FutureWarning)\n"
     ]
    },
    {
     "name": "stdout",
     "output_type": "stream",
     "text": [
      "{'max_depth': 40, 'max_features': 'sqrt', 'min_samples_leaf': 1, 'min_samples_split': 5, 'n_estimators': 200}\n",
      "Training Score:\t 0.9528705346526167\n",
      "Testing Score:\t 0.8354465218254647\n",
      "RandomForestRegressor run at: 2020-01-15 23:13:07.577803 . Saving to models/DRAGON_noVPAS/RandomForestRegressor_kbest_15_01_2020_23_13_07.joblib\n"
     ]
    }
   ],
   "source": [
    "X_train, X_test = X_train_main[top_15_features_kbest], X_test_main[top_15_features_kbest]\n",
    "best_hp = grid_search_return_hp_dict(RandomForestRegressor(),\n",
    "                                     X_train, y_train, random_forest_param_grid)\n",
    "random_forest_freg = RandomForestRegressor(**best_hp)\n",
    "random_forest_freg.fit(X_train, y_train)\n",
    "exp_vs_calc_random_forest_freg = produce_exp_vs_pred_df('top_15_features_kbest', random_forest_freg,\n",
    "                                                         \"RandomForest, freg features\")"
   ]
  },
  {
   "cell_type": "markdown",
   "metadata": {},
   "source": [
    "### Mutual info features"
   ]
  },
  {
   "cell_type": "code",
   "execution_count": 36,
   "metadata": {
    "ExecuteTime": {
     "end_time": "2020-01-16T00:58:16.712989Z",
     "start_time": "2020-01-15T23:13:32.168159Z"
    }
   },
   "outputs": [
    {
     "name": "stdout",
     "output_type": "stream",
     "text": [
      "RandomForestRegressor grid search.\n"
     ]
    },
    {
     "name": "stderr",
     "output_type": "stream",
     "text": [
      "C:\\Users\\jtd1g16\\AppData\\Local\\Continuum\\anaconda3\\lib\\site-packages\\sklearn\\model_selection\\_split.py:1978: FutureWarning: The default value of cv will change from 3 to 5 in version 0.22. Specify it explicitly to silence this warning.\n",
      "  warnings.warn(CV_WARNING, FutureWarning)\n"
     ]
    },
    {
     "name": "stdout",
     "output_type": "stream",
     "text": [
      "{'max_depth': 50, 'max_features': 'sqrt', 'min_samples_leaf': 1, 'min_samples_split': 5, 'n_estimators': 200}\n",
      "Training Score:\t 0.9537518294456389\n",
      "Testing Score:\t 0.8141513176073477\n",
      "RandomForestRegressor run at: 2020-01-16 00:58:16.627752 . Saving to models/DRAGON_noVPAS/RandomForestRegressor_mutual_info_16_01_2020_00_58_16.joblib\n"
     ]
    }
   ],
   "source": [
    "X_train, X_test = X_train_main[top_15_features_mutual_info], X_test_main[top_15_features_mutual_info]\n",
    "best_hp = grid_search_return_hp_dict(RandomForestRegressor(),\n",
    "                                     X_train, y_train, random_forest_param_grid)\n",
    "random_forest_mu = RandomForestRegressor(**best_hp)\n",
    "random_forest_mu.fit(X_train, y_train)\n",
    "exp_vs_calc_random_forest_mu = produce_exp_vs_pred_df('top_15_features_mutual_info', random_forest_mu,\n",
    "                                                         \"RandomForest, mutual info features\")"
   ]
  },
  {
   "cell_type": "markdown",
   "metadata": {},
   "source": [
    "### LASSO features"
   ]
  },
  {
   "cell_type": "code",
   "execution_count": 37,
   "metadata": {
    "ExecuteTime": {
     "end_time": "2020-01-16T02:33:30.634675Z",
     "start_time": "2020-01-16T00:58:42.043801Z"
    }
   },
   "outputs": [
    {
     "name": "stdout",
     "output_type": "stream",
     "text": [
      "RandomForestRegressor grid search.\n"
     ]
    },
    {
     "name": "stderr",
     "output_type": "stream",
     "text": [
      "C:\\Users\\jtd1g16\\AppData\\Local\\Continuum\\anaconda3\\lib\\site-packages\\sklearn\\model_selection\\_split.py:1978: FutureWarning: The default value of cv will change from 3 to 5 in version 0.22. Specify it explicitly to silence this warning.\n",
      "  warnings.warn(CV_WARNING, FutureWarning)\n"
     ]
    },
    {
     "name": "stdout",
     "output_type": "stream",
     "text": [
      "{'max_depth': 40, 'max_features': 'sqrt', 'min_samples_leaf': 1, 'min_samples_split': 2, 'n_estimators': 400}\n",
      "Training Score:\t 0.9718260365749242\n",
      "Testing Score:\t 0.7939657754112939\n",
      "RandomForestRegressor run at: 2020-01-16 02:33:30.439412 . Saving to models/DRAGON_noVPAS/RandomForestRegressor_lasso_16_01_2020_02_33_30.joblib\n"
     ]
    }
   ],
   "source": [
    "X_train, X_test = X_train_main[top_15_features_lasso], X_test_main[top_15_features_lasso]\n",
    "best_hp = grid_search_return_hp_dict(RandomForestRegressor(),\n",
    "                                     X_train, y_train, random_forest_param_grid)\n",
    "random_forest_lasso = RandomForestRegressor(**best_hp)\n",
    "random_forest_lasso.fit(X_train, y_train)\n",
    "exp_vs_calc_random_forest_lasso = produce_exp_vs_pred_df('top_15_features_lasso', random_forest_lasso,\n",
    "                                                         \"RandomForest, lasso features\")"
   ]
  },
  {
   "cell_type": "markdown",
   "metadata": {},
   "source": [
    "## LARS - Least angle regression\n",
    "### Model chosen features"
   ]
  },
  {
   "cell_type": "code",
   "execution_count": 38,
   "metadata": {
    "ExecuteTime": {
     "end_time": "2020-01-16T02:33:56.406749Z",
     "start_time": "2020-01-16T02:33:54.901749Z"
    }
   },
   "outputs": [
    {
     "name": "stdout",
     "output_type": "stream",
     "text": [
      "Training Score:\t -9.109331628078547\n",
      "Testing Score:\t -7.0899453132646135\n",
      "Lars run at: 2020-01-16 02:33:56.400233 . Saving to models/DRAGON_noVPAS/Lars_model_16_01_2020_02_33_56.joblib\n"
     ]
    }
   ],
   "source": [
    "X_train, X_test = X_train_main[top_15_features_model], X_test_main[top_15_features_model]\n",
    "\n",
    "lars_model = Lars(fit_intercept=False, n_nonzero_coefs=np.inf)\n",
    "lars_model.fit(X_train, y_train)\n",
    "exp_vs_calc_lars_model = produce_exp_vs_pred_df('top_15_features_model', lars_model, \"LARS model features\")"
   ]
  },
  {
   "cell_type": "markdown",
   "metadata": {},
   "source": [
    "### F-regression features"
   ]
  },
  {
   "cell_type": "code",
   "execution_count": 39,
   "metadata": {
    "ExecuteTime": {
     "end_time": "2020-01-16T02:34:22.406470Z",
     "start_time": "2020-01-16T02:34:20.837300Z"
    }
   },
   "outputs": [
    {
     "name": "stdout",
     "output_type": "stream",
     "text": [
      "Training Score:\t 0.3956501412957313\n",
      "Testing Score:\t 0.4859132800622039\n",
      "Lars run at: 2020-01-16 02:34:22.398950 . Saving to models/DRAGON_noVPAS/Lars_kbest_16_01_2020_02_34_22.joblib\n"
     ]
    }
   ],
   "source": [
    "X_train, X_test = X_train_main[top_15_features_kbest], X_test_main[top_15_features_kbest]\n",
    "\n",
    "lars_freg = Lars(fit_intercept=False, n_nonzero_coefs=np.inf)\n",
    "lars_freg.fit(X_train, y_train)\n",
    "exp_vs_calc_lars_freg = produce_exp_vs_pred_df('top_15_features_kbest', lars_freg, \"LARS freg features\")"
   ]
  },
  {
   "cell_type": "markdown",
   "metadata": {},
   "source": [
    "### Mutual info features"
   ]
  },
  {
   "cell_type": "code",
   "execution_count": 40,
   "metadata": {
    "ExecuteTime": {
     "end_time": "2020-01-16T02:34:48.674261Z",
     "start_time": "2020-01-16T02:34:47.156164Z"
    }
   },
   "outputs": [
    {
     "name": "stdout",
     "output_type": "stream",
     "text": [
      "Training Score:\t 0.6534734310573487\n",
      "Testing Score:\t 0.6400998580991186\n",
      "Lars run at: 2020-01-16 02:34:48.668210 . Saving to models/DRAGON_noVPAS/Lars_mutual_info_16_01_2020_02_34_48.joblib\n"
     ]
    }
   ],
   "source": [
    "X_train, X_test = X_train_main[top_15_features_mutual_info], X_test_main[top_15_features_mutual_info]\n",
    "\n",
    "lars_mu = Lars(fit_intercept=False, n_nonzero_coefs=np.inf)\n",
    "lars_mu.fit(X_train, y_train)\n",
    "exp_vs_calc_lars_mu = produce_exp_vs_pred_df('top_15_features_mutual_info', lars_mu, \"LARS mutual info features\")"
   ]
  },
  {
   "cell_type": "markdown",
   "metadata": {},
   "source": [
    "### LASSO features"
   ]
  },
  {
   "cell_type": "code",
   "execution_count": 41,
   "metadata": {
    "ExecuteTime": {
     "end_time": "2020-01-16T02:35:15.090731Z",
     "start_time": "2020-01-16T02:35:13.495020Z"
    }
   },
   "outputs": [
    {
     "name": "stdout",
     "output_type": "stream",
     "text": [
      "Training Score:\t -164.91252493582599\n",
      "Testing Score:\t -128.61572100983005\n",
      "Lars run at: 2020-01-16 02:35:15.085718 . Saving to models/DRAGON_noVPAS/Lars_lasso_16_01_2020_02_35_15.joblib\n"
     ]
    }
   ],
   "source": [
    "X_train, X_test = X_train_main[top_15_features_lasso], X_test_main[top_15_features_lasso]\n",
    "\n",
    "lars_lasso = Lars(fit_intercept=False, n_nonzero_coefs=np.inf)\n",
    "lars_lasso.fit(X_train, y_train)\n",
    "exp_vs_calc_lars_lasso = produce_exp_vs_pred_df('top_15_features_lasso', lars_lasso, \"LARS lasso features\")"
   ]
  },
  {
   "cell_type": "markdown",
   "metadata": {},
   "source": [
    "## Elastic Net (linear regression l1 l2 norm regularization)\n",
    "### Model chosen features"
   ]
  },
  {
   "cell_type": "code",
   "execution_count": 42,
   "metadata": {
    "ExecuteTime": {
     "end_time": "2020-01-16T02:35:40.121436Z",
     "start_time": "2020-01-16T02:35:40.116420Z"
    }
   },
   "outputs": [],
   "source": [
    "net_param_grid = {\n",
    "    'alpha':[0.1, 0.3, 0.5, 0.8, 1.0],\n",
    "    'l1_ratio':[0.0, 0.2, 0.4, 0.6, 0.8, 1.0],\n",
    "    'fit_intercept':[True, False],\n",
    "    'max_iter': [1000, 3000, 5000],\n",
    "    'tol':[0.0001, 0.001, 0.01],\n",
    "    'selection':['cyclic', 'random']\n",
    "}"
   ]
  },
  {
   "cell_type": "code",
   "execution_count": 43,
   "metadata": {
    "ExecuteTime": {
     "end_time": "2020-01-16T02:36:32.155276Z",
     "start_time": "2020-01-16T02:36:04.895275Z"
    }
   },
   "outputs": [
    {
     "name": "stdout",
     "output_type": "stream",
     "text": [
      "ElasticNet grid search.\n"
     ]
    },
    {
     "name": "stderr",
     "output_type": "stream",
     "text": [
      "C:\\Users\\jtd1g16\\AppData\\Local\\Continuum\\anaconda3\\lib\\site-packages\\sklearn\\model_selection\\_split.py:1978: FutureWarning: The default value of cv will change from 3 to 5 in version 0.22. Specify it explicitly to silence this warning.\n",
      "  warnings.warn(CV_WARNING, FutureWarning)\n"
     ]
    },
    {
     "name": "stdout",
     "output_type": "stream",
     "text": [
      "{'alpha': 0.1, 'fit_intercept': False, 'l1_ratio': 1.0, 'max_iter': 1000, 'selection': 'random', 'tol': 0.01}\n",
      "Training Score:\t 0.7611712877312111\n",
      "Testing Score:\t 0.7729770951356996\n",
      "ElasticNet run at: 2020-01-16 02:36:32.147755 . Saving to models/DRAGON_noVPAS/ElasticNet_model_16_01_2020_02_36_32.joblib\n"
     ]
    }
   ],
   "source": [
    "X_train, X_test = X_train_main[top_15_features_model], X_test_main[top_15_features_model]\n",
    "best_hp = grid_search_return_hp_dict(ElasticNet(), X_train, y_train, net_param_grid)\n",
    "\n",
    "net_model = ElasticNet(**best_hp)\n",
    "net_model.fit(X_train, y_train)\n",
    "exp_vs_calc_net_model = produce_exp_vs_pred_df('top_15_features_model', net_model, \"ElasticNet model features\")"
   ]
  },
  {
   "cell_type": "markdown",
   "metadata": {},
   "source": [
    "### F regression features"
   ]
  },
  {
   "cell_type": "code",
   "execution_count": 44,
   "metadata": {
    "ExecuteTime": {
     "end_time": "2020-01-16T02:37:37.105096Z",
     "start_time": "2020-01-16T02:36:57.126802Z"
    }
   },
   "outputs": [
    {
     "name": "stdout",
     "output_type": "stream",
     "text": [
      "ElasticNet grid search.\n"
     ]
    },
    {
     "name": "stderr",
     "output_type": "stream",
     "text": [
      "C:\\Users\\jtd1g16\\AppData\\Local\\Continuum\\anaconda3\\lib\\site-packages\\sklearn\\model_selection\\_split.py:1978: FutureWarning: The default value of cv will change from 3 to 5 in version 0.22. Specify it explicitly to silence this warning.\n",
      "  warnings.warn(CV_WARNING, FutureWarning)\n",
      "C:\\Users\\jtd1g16\\AppData\\Local\\Continuum\\anaconda3\\lib\\site-packages\\sklearn\\linear_model\\coordinate_descent.py:475: ConvergenceWarning: Objective did not converge. You might want to increase the number of iterations. Duality gap: 5788.800639592796, tolerance: 391.3076085273699\n",
      "  positive)\n",
      "C:\\Users\\jtd1g16\\AppData\\Local\\Continuum\\anaconda3\\lib\\site-packages\\sklearn\\linear_model\\coordinate_descent.py:475: ConvergenceWarning: Objective did not converge. You might want to increase the number of iterations. Duality gap: 5788.719783481479, tolerance: 391.3076085273699\n",
      "  positive)\n"
     ]
    },
    {
     "name": "stdout",
     "output_type": "stream",
     "text": [
      "{'alpha': 0.1, 'fit_intercept': True, 'l1_ratio': 0.0, 'max_iter': 3000, 'selection': 'random', 'tol': 0.01}\n",
      "Training Score:\t 0.725098841696405\n",
      "Testing Score:\t 0.7623808925271665\n",
      "ElasticNet run at: 2020-01-16 02:37:37.098112 . Saving to models/DRAGON_noVPAS/ElasticNet_kbest_16_01_2020_02_37_37.joblib\n"
     ]
    }
   ],
   "source": [
    "X_train, X_test = X_train_main[top_15_features_kbest], X_test_main[top_15_features_kbest]\n",
    "best_hp = grid_search_return_hp_dict(ElasticNet(), X_train, y_train, net_param_grid)\n",
    "\n",
    "net_freg = ElasticNet(**best_hp)\n",
    "net_freg.fit(X_train, y_train)\n",
    "exp_vs_calc_net_freg = produce_exp_vs_pred_df('top_15_features_kbest', net_freg, \"ElasticNet freg features\")"
   ]
  },
  {
   "cell_type": "markdown",
   "metadata": {},
   "source": [
    "### Mutual info features"
   ]
  },
  {
   "cell_type": "code",
   "execution_count": 45,
   "metadata": {
    "ExecuteTime": {
     "end_time": "2020-01-16T02:38:23.711472Z",
     "start_time": "2020-01-16T02:38:02.262102Z"
    }
   },
   "outputs": [
    {
     "name": "stdout",
     "output_type": "stream",
     "text": [
      "ElasticNet grid search.\n"
     ]
    },
    {
     "name": "stderr",
     "output_type": "stream",
     "text": [
      "C:\\Users\\jtd1g16\\AppData\\Local\\Continuum\\anaconda3\\lib\\site-packages\\sklearn\\model_selection\\_split.py:1978: FutureWarning: The default value of cv will change from 3 to 5 in version 0.22. Specify it explicitly to silence this warning.\n",
      "  warnings.warn(CV_WARNING, FutureWarning)\n",
      "C:\\Users\\jtd1g16\\AppData\\Local\\Continuum\\anaconda3\\lib\\site-packages\\sklearn\\linear_model\\coordinate_descent.py:475: ConvergenceWarning: Objective did not converge. You might want to increase the number of iterations. Duality gap: 6498.948922877734, tolerance: 3.913076085273699\n",
      "  positive)\n",
      "C:\\Users\\jtd1g16\\AppData\\Local\\Continuum\\anaconda3\\lib\\site-packages\\sklearn\\linear_model\\coordinate_descent.py:475: ConvergenceWarning: Objective did not converge. You might want to increase the number of iterations. Duality gap: 6498.948922877593, tolerance: 3.913076085273699\n",
      "  positive)\n"
     ]
    },
    {
     "name": "stdout",
     "output_type": "stream",
     "text": [
      "{'alpha': 0.1, 'fit_intercept': True, 'l1_ratio': 0.0, 'max_iter': 1000, 'selection': 'random', 'tol': 0.0001}\n",
      "Training Score:\t 0.6805537707602638\n",
      "Testing Score:\t 0.6556378294323033\n",
      "ElasticNet run at: 2020-01-16 02:38:23.705957 . Saving to models/DRAGON_noVPAS/ElasticNet_mutual_info_16_01_2020_02_38_23.joblib\n"
     ]
    }
   ],
   "source": [
    "X_train, X_test = X_train_main[top_15_features_mutual_info], X_test_main[top_15_features_mutual_info]\n",
    "best_hp = grid_search_return_hp_dict(ElasticNet(), X_train, y_train, net_param_grid)\n",
    "\n",
    "net_mu = ElasticNet(**best_hp)\n",
    "net_mu.fit(X_train, y_train)\n",
    "exp_vs_calc_net_mu = produce_exp_vs_pred_df('top_15_features_mutual_info', net_mu, \"ElasticNet mutual info features\")"
   ]
  },
  {
   "cell_type": "markdown",
   "metadata": {},
   "source": [
    "### LASSO features"
   ]
  },
  {
   "cell_type": "code",
   "execution_count": 46,
   "metadata": {
    "ExecuteTime": {
     "end_time": "2020-01-16T02:39:21.397713Z",
     "start_time": "2020-01-16T02:38:49.596634Z"
    }
   },
   "outputs": [
    {
     "name": "stdout",
     "output_type": "stream",
     "text": [
      "ElasticNet grid search.\n"
     ]
    },
    {
     "name": "stderr",
     "output_type": "stream",
     "text": [
      "C:\\Users\\jtd1g16\\AppData\\Local\\Continuum\\anaconda3\\lib\\site-packages\\sklearn\\model_selection\\_split.py:1978: FutureWarning: The default value of cv will change from 3 to 5 in version 0.22. Specify it explicitly to silence this warning.\n",
      "  warnings.warn(CV_WARNING, FutureWarning)\n",
      "C:\\Users\\jtd1g16\\AppData\\Local\\Continuum\\anaconda3\\lib\\site-packages\\sklearn\\linear_model\\coordinate_descent.py:475: ConvergenceWarning: Objective did not converge. You might want to increase the number of iterations. Duality gap: 215.19492254268516, tolerance: 3.913076085273699\n",
      "  positive)\n",
      "C:\\Users\\jtd1g16\\AppData\\Local\\Continuum\\anaconda3\\lib\\site-packages\\sklearn\\linear_model\\coordinate_descent.py:475: ConvergenceWarning: Objective did not converge. You might want to increase the number of iterations. Duality gap: 236.51879671780534, tolerance: 3.913076085273699\n",
      "  positive)\n"
     ]
    },
    {
     "name": "stdout",
     "output_type": "stream",
     "text": [
      "{'alpha': 0.3, 'fit_intercept': True, 'l1_ratio': 1.0, 'max_iter': 1000, 'selection': 'random', 'tol': 0.0001}\n",
      "Training Score:\t 0.7439120527288794\n",
      "Testing Score:\t 0.7533360156021052\n",
      "ElasticNet run at: 2020-01-16 02:39:21.375397 . Saving to models/DRAGON_noVPAS/ElasticNet_lasso_16_01_2020_02_39_21.joblib\n"
     ]
    }
   ],
   "source": [
    "X_train, X_test = X_train_main[top_15_features_lasso], X_test_main[top_15_features_lasso]\n",
    "best_hp = grid_search_return_hp_dict(ElasticNet(), X_train, y_train, net_param_grid)\n",
    "\n",
    "net_lasso = ElasticNet(**best_hp)\n",
    "net_lasso.fit(X_train, y_train)\n",
    "exp_vs_calc_net_lasso = produce_exp_vs_pred_df('top_15_features_lasso', net_lasso, \"ElasticNet lasso features\")"
   ]
  },
  {
   "cell_type": "markdown",
   "metadata": {},
   "source": [
    "# Scores and visualisation"
   ]
  },
  {
   "cell_type": "code",
   "execution_count": 47,
   "metadata": {
    "ExecuteTime": {
     "end_time": "2020-01-16T02:39:46.885567Z",
     "start_time": "2020-01-16T02:39:46.876533Z"
    }
   },
   "outputs": [],
   "source": [
    "exp_vs_calc_df_list = []\n",
    "model_list = []\n",
    "for var in dir():\n",
    "    if isinstance(eval(var), pd.core.frame.DataFrame):\n",
    "        if var[0:3] == 'exp':\n",
    "            exp_vs_calc_df_list.append(var)\n",
    "            model_list.append(var[12:])\n",
    "exp_vs_calc_model_dict = dict(zip(model_list, exp_vs_calc_df_list))"
   ]
  },
  {
   "cell_type": "code",
   "execution_count": 54,
   "metadata": {
    "ExecuteTime": {
     "end_time": "2020-01-16T12:15:55.288646Z",
     "start_time": "2020-01-16T12:15:55.275616Z"
    }
   },
   "outputs": [
    {
     "data": {
      "text/plain": [
       "['test_scores.joblib']"
      ]
     },
     "execution_count": 54,
     "metadata": {},
     "output_type": "execute_result"
    }
   ],
   "source": [
    "joblib.dump(train_scores, \"train_scores.joblib\")\n",
    "joblib.dump(test_scores, \"test_scores.joblib\")"
   ]
  },
  {
   "cell_type": "code",
   "execution_count": 48,
   "metadata": {
    "ExecuteTime": {
     "end_time": "2020-01-16T02:40:13.163107Z",
     "start_time": "2020-01-16T02:40:12.558500Z"
    },
    "scrolled": false
   },
   "outputs": [
    {
     "data": {
      "text/plain": [
       "'Training Scores'"
      ]
     },
     "metadata": {},
     "output_type": "display_data"
    },
    {
     "data": {
      "text/plain": [
       "{'GradBoost, model-chosen features': 0.931188898638534,\n",
       " 'GradBoost, f_reg features': 0.9574679680268028,\n",
       " 'GradBoost, Mutual Info': 0.9256115162647272,\n",
       " 'LASSO-features, GBR model': 0.9206767370690273,\n",
       " 'Decision Tree, model-chosen features': 0.9053795652033311,\n",
       " 'Decision Tree, freg features': 0.8696568488716836,\n",
       " 'Decision Tree, mutual info features': 0.9125384855550006,\n",
       " 'Decision Tree, lasso features': 0.7863811653972945,\n",
       " 'AdaBoost, model features': 0.9421185489847377,\n",
       " 'AdaBoost, freg features': 0.9892471124149445,\n",
       " 'AdaBoost, mutual info features': 0.9878520045373704,\n",
       " 'LASSO, model features': 0.7441838585069578,\n",
       " 'LASSO, f-reg features': 0.7036103777444165,\n",
       " 'LASSO, mutual info features': 0.6656586017960877,\n",
       " 'LASSO, lasso features': 0.7450139271594947,\n",
       " 'RandomForest, model features': 0.9521365989206246,\n",
       " 'RandomForest, freg features': 0.9528705346526167,\n",
       " 'RandomForest, mutual info features': 0.9537518294456389,\n",
       " 'RandomForest, lasso features': 0.9718260365749242,\n",
       " 'LARS model features': -9.109331628078547,\n",
       " 'LARS freg features': 0.3956501412957313,\n",
       " 'LARS mutual info features': 0.6534734310573487,\n",
       " 'LARS lasso features': -164.91252493582599,\n",
       " 'ElasticNet model features': 0.7611712877312111,\n",
       " 'ElasticNet freg features': 0.725098841696405,\n",
       " 'ElasticNet mutual info features': 0.6805537707602638,\n",
       " 'ElasticNet lasso features': 0.7439120527288794}"
      ]
     },
     "metadata": {},
     "output_type": "display_data"
    },
    {
     "data": {
      "text/plain": [
       "'Testing Scores'"
      ]
     },
     "metadata": {},
     "output_type": "display_data"
    },
    {
     "data": {
      "text/plain": [
       "{'GradBoost, model-chosen features': 0.8653019343397369,\n",
       " 'GradBoost, f_reg features': 0.8412910777099232,\n",
       " 'GradBoost, Mutual Info': 0.8206605480078193,\n",
       " 'LASSO-features, GBR model': 0.8058515449204732,\n",
       " 'Decision Tree, model-chosen features': 0.7857779153274613,\n",
       " 'Decision Tree, freg features': 0.7599643264268399,\n",
       " 'Decision Tree, mutual info features': 0.7840257299969178,\n",
       " 'Decision Tree, lasso features': 0.7378477846276876,\n",
       " 'AdaBoost, model features': 0.8019236029905988,\n",
       " 'AdaBoost, freg features': 0.8391827605040496,\n",
       " 'AdaBoost, mutual info features': 0.8166801492398043,\n",
       " 'LASSO, model features': 0.7598767635190887,\n",
       " 'LASSO, f-reg features': 0.7396619289263748,\n",
       " 'LASSO, mutual info features': 0.646561704209611,\n",
       " 'LASSO, lasso features': 0.7548338170443302,\n",
       " 'RandomForest, model features': 0.8540268712146579,\n",
       " 'RandomForest, freg features': 0.8354465218254647,\n",
       " 'RandomForest, mutual info features': 0.8141513176073477,\n",
       " 'RandomForest, lasso features': 0.7939657754112939,\n",
       " 'LARS model features': -7.0899453132646135,\n",
       " 'LARS freg features': 0.4859132800622039,\n",
       " 'LARS mutual info features': 0.6400998580991186,\n",
       " 'LARS lasso features': -128.61572100983005,\n",
       " 'ElasticNet model features': 0.7729770951356996,\n",
       " 'ElasticNet freg features': 0.7623808925271665,\n",
       " 'ElasticNet mutual info features': 0.6556378294323033,\n",
       " 'ElasticNet lasso features': 0.7533360156021052}"
      ]
     },
     "metadata": {},
     "output_type": "display_data"
    },
    {
     "data": {
      "application/vnd.jupyter.widget-view+json": {
       "model_id": "2202edd4829b4824b5372db33d0d97bb",
       "version_major": 2,
       "version_minor": 0
      },
      "text/plain": [
       "interactive(children=(Dropdown(description='Model', options=('ada_freg', 'ada_lasso', 'ada_model', 'ada_mu', '…"
      ]
     },
     "metadata": {},
     "output_type": "display_data"
    }
   ],
   "source": [
    "display(\"Training Scores\", train_scores, \"Testing Scores\", test_scores)\n",
    "mpld3.enable_notebook() #must enable\n",
    "@widgets.interact()\n",
    "\n",
    "def show_pred_vs_actual(Model = model_list):\n",
    "    pred_df = eval(exp_vs_calc_model_dict[Model])\n",
    "    model = eval(Model)\n",
    "    prediction_plot_scores(model, pred_df)"
   ]
  }
 ],
 "metadata": {
  "kernelspec": {
   "display_name": "Python 3",
   "language": "python",
   "name": "python3"
  },
  "language_info": {
   "codemirror_mode": {
    "name": "ipython",
    "version": 3
   },
   "file_extension": ".py",
   "mimetype": "text/x-python",
   "name": "python",
   "nbconvert_exporter": "python",
   "pygments_lexer": "ipython3",
   "version": "3.7.3"
  },
  "notify_time": "30",
  "toc": {
   "base_numbering": 1,
   "nav_menu": {},
   "number_sections": true,
   "sideBar": true,
   "skip_h1_title": false,
   "title_cell": "Table of Contents",
   "title_sidebar": "Contents",
   "toc_cell": false,
   "toc_position": {
    "height": "calc(100% - 180px)",
    "left": "10px",
    "top": "150px",
    "width": "303.524px"
   },
   "toc_section_display": true,
   "toc_window_display": true
  },
  "varInspector": {
   "cols": {
    "lenName": 16,
    "lenType": 16,
    "lenVar": 40
   },
   "kernels_config": {
    "python": {
     "delete_cmd_postfix": "",
     "delete_cmd_prefix": "del ",
     "library": "var_list.py",
     "varRefreshCmd": "print(var_dic_list())"
    },
    "r": {
     "delete_cmd_postfix": ") ",
     "delete_cmd_prefix": "rm(",
     "library": "var_list.r",
     "varRefreshCmd": "cat(var_dic_list()) "
    }
   },
   "types_to_exclude": [
    "module",
    "function",
    "builtin_function_or_method",
    "instance",
    "_Feature"
   ],
   "window_display": false
  }
 },
 "nbformat": 4,
 "nbformat_minor": 2
}
